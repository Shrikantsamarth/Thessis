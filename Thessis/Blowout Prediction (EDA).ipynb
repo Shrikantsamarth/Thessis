{
 "cells": [
  {
   "cell_type": "markdown",
   "metadata": {},
   "source": [
    "# Warehouse Optimization"
   ]
  },
  {
   "cell_type": "markdown",
   "metadata": {},
   "source": [
    "## Initilization"
   ]
  },
  {
   "cell_type": "code",
   "execution_count": 1,
   "metadata": {
    "scrolled": true
   },
   "outputs": [
    {
     "data": {
      "text/html": [
       "<div>\n",
       "<style scoped>\n",
       "    .dataframe tbody tr th:only-of-type {\n",
       "        vertical-align: middle;\n",
       "    }\n",
       "\n",
       "    .dataframe tbody tr th {\n",
       "        vertical-align: top;\n",
       "    }\n",
       "\n",
       "    .dataframe thead th {\n",
       "        text-align: right;\n",
       "    }\n",
       "</style>\n",
       "<table border=\"1\" class=\"dataframe\">\n",
       "  <thead>\n",
       "    <tr style=\"text-align: right;\">\n",
       "      <th></th>\n",
       "      <th>Manufacturer</th>\n",
       "      <th>Category</th>\n",
       "      <th>Category Path 1</th>\n",
       "      <th>Category Path 2</th>\n",
       "      <th>Category Path 3</th>\n",
       "      <th>Price(USD)</th>\n",
       "      <th>Cost price</th>\n",
       "      <th>Inventory</th>\n",
       "      <th>Shipping</th>\n",
       "      <th>Profit</th>\n",
       "      <th>weight(lb)</th>\n",
       "      <th>SaleRateNew</th>\n",
       "    </tr>\n",
       "  </thead>\n",
       "  <tbody>\n",
       "    <tr>\n",
       "      <td>0</td>\n",
       "      <td>Supermicro</td>\n",
       "      <td>Accessory</td>\n",
       "      <td>Hardware &amp; Software</td>\n",
       "      <td>Server &amp; Workstation</td>\n",
       "      <td>Accessory</td>\n",
       "      <td>2.05</td>\n",
       "      <td>1.0000</td>\n",
       "      <td>57</td>\n",
       "      <td>0.0</td>\n",
       "      <td>1.0500</td>\n",
       "      <td>0.90</td>\n",
       "      <td>1.000000</td>\n",
       "    </tr>\n",
       "    <tr>\n",
       "      <td>1</td>\n",
       "      <td>APC</td>\n",
       "      <td>Surge Protection</td>\n",
       "      <td>Component</td>\n",
       "      <td>Power Protection / UPS</td>\n",
       "      <td>Surge Protection</td>\n",
       "      <td>11.07</td>\n",
       "      <td>8.3025</td>\n",
       "      <td>51</td>\n",
       "      <td>2.5</td>\n",
       "      <td>0.2675</td>\n",
       "      <td>1.33</td>\n",
       "      <td>1.457143</td>\n",
       "    </tr>\n",
       "    <tr>\n",
       "      <td>2</td>\n",
       "      <td>Vantec</td>\n",
       "      <td>120mm</td>\n",
       "      <td>Component</td>\n",
       "      <td>Fan &amp; Heatsink</td>\n",
       "      <td>Case Fan</td>\n",
       "      <td>11.02</td>\n",
       "      <td>8.2650</td>\n",
       "      <td>19</td>\n",
       "      <td>2.5</td>\n",
       "      <td>0.2550</td>\n",
       "      <td>0.54</td>\n",
       "      <td>1.000000</td>\n",
       "    </tr>\n",
       "    <tr>\n",
       "      <td>3</td>\n",
       "      <td>Scythe</td>\n",
       "      <td>120mm</td>\n",
       "      <td>Component</td>\n",
       "      <td>Fan &amp; Heatsink</td>\n",
       "      <td>Case Fan</td>\n",
       "      <td>11.02</td>\n",
       "      <td>8.2650</td>\n",
       "      <td>19</td>\n",
       "      <td>2.5</td>\n",
       "      <td>0.2550</td>\n",
       "      <td>0.50</td>\n",
       "      <td>1.117647</td>\n",
       "    </tr>\n",
       "    <tr>\n",
       "      <td>4</td>\n",
       "      <td>iMicro</td>\n",
       "      <td>Keyboard</td>\n",
       "      <td>Component</td>\n",
       "      <td>Input &amp; Output Device</td>\n",
       "      <td>Keyboard</td>\n",
       "      <td>10.76</td>\n",
       "      <td>8.0700</td>\n",
       "      <td>26</td>\n",
       "      <td>2.5</td>\n",
       "      <td>0.1900</td>\n",
       "      <td>1.20</td>\n",
       "      <td>0.714286</td>\n",
       "    </tr>\n",
       "    <tr>\n",
       "      <td>5</td>\n",
       "      <td>be quiet!</td>\n",
       "      <td>120mm</td>\n",
       "      <td>Component</td>\n",
       "      <td>Fan &amp; Heatsink</td>\n",
       "      <td>Case Fan</td>\n",
       "      <td>10.76</td>\n",
       "      <td>8.0700</td>\n",
       "      <td>79</td>\n",
       "      <td>2.5</td>\n",
       "      <td>0.1900</td>\n",
       "      <td>0.34</td>\n",
       "      <td>1.000000</td>\n",
       "    </tr>\n",
       "    <tr>\n",
       "      <td>6</td>\n",
       "      <td>Supermicro</td>\n",
       "      <td>Accessory</td>\n",
       "      <td>Component</td>\n",
       "      <td>Motherboard</td>\n",
       "      <td>Accessory</td>\n",
       "      <td>10.76</td>\n",
       "      <td>8.0700</td>\n",
       "      <td>19</td>\n",
       "      <td>2.5</td>\n",
       "      <td>0.1900</td>\n",
       "      <td>1.00</td>\n",
       "      <td>0.055556</td>\n",
       "    </tr>\n",
       "    <tr>\n",
       "      <td>7</td>\n",
       "      <td>Thermaltake</td>\n",
       "      <td>LGA 1155</td>\n",
       "      <td>Component</td>\n",
       "      <td>Fan &amp; Heatsink</td>\n",
       "      <td>CPU Fan &amp; Heatsink</td>\n",
       "      <td>10.76</td>\n",
       "      <td>8.0700</td>\n",
       "      <td>51</td>\n",
       "      <td>2.5</td>\n",
       "      <td>0.1900</td>\n",
       "      <td>0.70</td>\n",
       "      <td>1.159091</td>\n",
       "    </tr>\n",
       "    <tr>\n",
       "      <td>8</td>\n",
       "      <td>VCOM</td>\n",
       "      <td>DVI Cable</td>\n",
       "      <td>Component</td>\n",
       "      <td>Cable</td>\n",
       "      <td>DVI Cable</td>\n",
       "      <td>10.76</td>\n",
       "      <td>8.0700</td>\n",
       "      <td>42</td>\n",
       "      <td>2.5</td>\n",
       "      <td>0.1900</td>\n",
       "      <td>0.11</td>\n",
       "      <td>1.400000</td>\n",
       "    </tr>\n",
       "    <tr>\n",
       "      <td>9</td>\n",
       "      <td>VCOM</td>\n",
       "      <td>USB Cable</td>\n",
       "      <td>Component</td>\n",
       "      <td>Cable</td>\n",
       "      <td>USB Cable</td>\n",
       "      <td>10.76</td>\n",
       "      <td>8.0700</td>\n",
       "      <td>52</td>\n",
       "      <td>2.5</td>\n",
       "      <td>0.1900</td>\n",
       "      <td>0.30</td>\n",
       "      <td>1.238095</td>\n",
       "    </tr>\n",
       "  </tbody>\n",
       "</table>\n",
       "</div>"
      ],
      "text/plain": [
       "  Manufacturer          Category      Category Path 1         Category Path 2  \\\n",
       "0   Supermicro         Accessory  Hardware & Software    Server & Workstation   \n",
       "1          APC  Surge Protection            Component  Power Protection / UPS   \n",
       "2       Vantec             120mm            Component          Fan & Heatsink   \n",
       "3       Scythe             120mm            Component          Fan & Heatsink   \n",
       "4       iMicro          Keyboard            Component   Input & Output Device   \n",
       "5    be quiet!             120mm            Component          Fan & Heatsink   \n",
       "6   Supermicro         Accessory            Component             Motherboard   \n",
       "7  Thermaltake          LGA 1155            Component          Fan & Heatsink   \n",
       "8         VCOM         DVI Cable            Component                   Cable   \n",
       "9         VCOM         USB Cable            Component                   Cable   \n",
       "\n",
       "      Category Path 3  Price(USD)  Cost price  Inventory  Shipping  Profit  \\\n",
       "0           Accessory        2.05      1.0000         57       0.0  1.0500   \n",
       "1    Surge Protection       11.07      8.3025         51       2.5  0.2675   \n",
       "2            Case Fan       11.02      8.2650         19       2.5  0.2550   \n",
       "3            Case Fan       11.02      8.2650         19       2.5  0.2550   \n",
       "4            Keyboard       10.76      8.0700         26       2.5  0.1900   \n",
       "5            Case Fan       10.76      8.0700         79       2.5  0.1900   \n",
       "6           Accessory       10.76      8.0700         19       2.5  0.1900   \n",
       "7  CPU Fan & Heatsink       10.76      8.0700         51       2.5  0.1900   \n",
       "8           DVI Cable       10.76      8.0700         42       2.5  0.1900   \n",
       "9           USB Cable       10.76      8.0700         52       2.5  0.1900   \n",
       "\n",
       "   weight(lb)  SaleRateNew  \n",
       "0        0.90     1.000000  \n",
       "1        1.33     1.457143  \n",
       "2        0.54     1.000000  \n",
       "3        0.50     1.117647  \n",
       "4        1.20     0.714286  \n",
       "5        0.34     1.000000  \n",
       "6        1.00     0.055556  \n",
       "7        0.70     1.159091  \n",
       "8        0.11     1.400000  \n",
       "9        0.30     1.238095  "
      ]
     },
     "execution_count": 1,
     "metadata": {},
     "output_type": "execute_result"
    }
   ],
   "source": [
    "import pandas as pd\n",
    "import pandas_profiling\n",
    "import numpy as np\n",
    "data = pd.read_csv('ML_datafile.csv')\n",
    "data.reset_index(drop=True, inplace=True)\n",
    "data = data.drop(['Item No', 'Manufacturer No', 'Product Name', 'Date', 'STOCK TYPE', 'In Stock', 'List No',\n",
    "                 'UPC Code', 'SaleRate'], axis=1)\n",
    "data.dtypes\n",
    "data.head(10)"
   ]
  },
  {
   "cell_type": "code",
   "execution_count": 2,
   "metadata": {},
   "outputs": [
    {
     "ename": "ModuleNotFoundError",
     "evalue": "No module named 'cufflinks'",
     "output_type": "error",
     "traceback": [
      "\u001b[1;31m---------------------------------------------------------------------------\u001b[0m",
      "\u001b[1;31mModuleNotFoundError\u001b[0m                       Traceback (most recent call last)",
      "\u001b[1;32m<ipython-input-2-d55af58ce8b5>\u001b[0m in \u001b[0;36m<module>\u001b[1;34m\u001b[0m\n\u001b[0;32m      1\u001b[0m \u001b[1;32mimport\u001b[0m \u001b[0mpandas\u001b[0m \u001b[1;32mas\u001b[0m \u001b[0mpd\u001b[0m\u001b[1;33m\u001b[0m\u001b[1;33m\u001b[0m\u001b[0m\n\u001b[0;32m      2\u001b[0m \u001b[1;31m#importing plotly and cufflinks in offline mode\u001b[0m\u001b[1;33m\u001b[0m\u001b[1;33m\u001b[0m\u001b[1;33m\u001b[0m\u001b[0m\n\u001b[1;32m----> 3\u001b[1;33m \u001b[1;32mimport\u001b[0m \u001b[0mcufflinks\u001b[0m \u001b[1;32mas\u001b[0m \u001b[0mcf\u001b[0m\u001b[1;33m\u001b[0m\u001b[1;33m\u001b[0m\u001b[0m\n\u001b[0m",
      "\u001b[1;31mModuleNotFoundError\u001b[0m: No module named 'cufflinks'"
     ]
    }
   ],
   "source": [
    "import pandas as pd\n",
    "#importing plotly and cufflinks in offline mode\n",
    "import cufflinks as cf"
   ]
  },
  {
   "cell_type": "markdown",
   "metadata": {},
   "source": [
    "## Exploratory Analysis"
   ]
  },
  {
   "cell_type": "code",
   "execution_count": null,
   "metadata": {},
   "outputs": [],
   "source": [
    "# get some basic ideas about the data\n",
    "def summerize_data(df, columns):\n",
    "    for column in columns:\n",
    "        print(column)\n",
    "        if df.dtypes[column] == np.object: # Categorical data\n",
    "            print(df[column].value_counts())\n",
    "        else:\n",
    "            print(df[column].describe())\n",
    "            \n",
    "        print('\\n')\n",
    "    \n",
    "columns = [\"Price(USD)\", \"Inventory\", \"weight(lb)\", \"SaleRateNew\"]\n",
    "summerize_data(data, columns)"
   ]
  },
  {
   "cell_type": "markdown",
   "metadata": {},
   "source": [
    "# Missing Data Points Per Feature"
   ]
  },
  {
   "cell_type": "code",
   "execution_count": null,
   "metadata": {},
   "outputs": [],
   "source": [
    "data.isnull().sum()"
   ]
  },
  {
   "cell_type": "markdown",
   "metadata": {},
   "source": [
    "## Graphs"
   ]
  },
  {
   "cell_type": "code",
   "execution_count": null,
   "metadata": {},
   "outputs": [],
   "source": [
    "import matplotlib.pyplot as plt\n",
    "from scipy.stats import norm\n",
    "# if using a Jupyter notebook, inlcude:\n",
    "%matplotlib inline"
   ]
  },
  {
   "cell_type": "code",
   "execution_count": null,
   "metadata": {
    "scrolled": true
   },
   "outputs": [],
   "source": [
    "data[\"SaleRateNew\"].plot.kde(bw_method=0.3)"
   ]
  },
  {
   "cell_type": "code",
   "execution_count": null,
   "metadata": {},
   "outputs": [],
   "source": [
    "data[\"SaleRateNew\"].plot.kde(bw_method=0.1)"
   ]
  },
  {
   "cell_type": "code",
   "execution_count": null,
   "metadata": {},
   "outputs": [],
   "source": [
    "data[\"Price(USD)\"].plot.kde(bw_method=0.3)"
   ]
  },
  {
   "cell_type": "code",
   "execution_count": null,
   "metadata": {},
   "outputs": [],
   "source": [
    "data[\"Inventory\"].plot.kde(bw_method=0.3)"
   ]
  },
  {
   "cell_type": "code",
   "execution_count": null,
   "metadata": {
    "scrolled": true
   },
   "outputs": [],
   "source": [
    "data[ \"weight(lb)\"].plot.kde(bw_method=0.3)"
   ]
  },
  {
   "cell_type": "markdown",
   "metadata": {},
   "source": [
    "## corelation matrix"
   ]
  },
  {
   "cell_type": "code",
   "execution_count": null,
   "metadata": {},
   "outputs": [],
   "source": [
    "#correlation matrix\n",
    "import seaborn as sns\n",
    "corrmat = data.corr()\n",
    "f, ax = plt.subplots(figsize=(12, 9))\n",
    "sns.heatmap(corrmat, vmax=.8, square=True);\n",
    "corrmat"
   ]
  },
  {
   "cell_type": "markdown",
   "metadata": {},
   "source": [
    "# Relationship with categorical values"
   ]
  },
  {
   "cell_type": "code",
   "execution_count": null,
   "metadata": {
    "scrolled": true
   },
   "outputs": [],
   "source": [
    "#box plot overallqual/saleprice\n",
    "box_plot_df = data.sample(n=100, random_state=1)\n",
    "var = 'Price(USD)'\n",
    "box_plot_df = pd.concat([box_plot_df['SaleRateNew'], box_plot_df[var]], axis=1)\n",
    "f, ax = plt.subplots(figsize=(20, 18))\n",
    "fig = sns.boxplot(x=var, y=\"SaleRateNew\", data=box_plot_df)\n",
    "fig.axis(ymin=0, ymax=1);"
   ]
  },
  {
   "cell_type": "code",
   "execution_count": null,
   "metadata": {
    "scrolled": true
   },
   "outputs": [],
   "source": [
    "#import pandas_profiling as pp\n",
    "\n",
    "#check profile report of the dataset\n",
    "\n",
    "#profile = data.profile_report(title='Pandas Profiling Report')\n",
    "profile = pandas_profiling.ProfileReport(data)\n",
    "profile.to_file(\"EDA.html\")"
   ]
  },
  {
   "cell_type": "code",
   "execution_count": null,
   "metadata": {},
   "outputs": [],
   "source": [
    "X = data.drop('SaleRateNew', axis=1)\n",
    "y = data['SaleRateNew']"
   ]
  },
  {
   "cell_type": "code",
   "execution_count": null,
   "metadata": {},
   "outputs": [],
   "source": [
    "len(data['Category'].unique())"
   ]
  },
  {
   "cell_type": "code",
   "execution_count": null,
   "metadata": {},
   "outputs": [],
   "source": [
    "data.head(5)"
   ]
  },
  {
   "cell_type": "code",
   "execution_count": null,
   "metadata": {},
   "outputs": [],
   "source": [
    "data.columns"
   ]
  },
  {
   "cell_type": "code",
   "execution_count": null,
   "metadata": {},
   "outputs": [],
   "source": [
    "# limit to categorical data using df.select_dtypes()\n",
    "#nominal_data = data.drop(['Price(USD)', 'Cost price', 'Inventory', 'Shipping', 'Profit', 'weight(lb)', 'SaleRateNew'], axis=1)\n",
    "#ordinal_data = data.drop(nominal_data.columns)\n",
    "nominal_data = data.select_dtypes(include=[object])\n",
    "ordinal_data = data.drop(list(nominal_data.columns), axis=1)\n",
    "nominal_data = nominal_data.replace(np.nan, 'Default', regex=True)\n",
    "nominal_data.head(30)"
   ]
  },
  {
   "cell_type": "markdown",
   "metadata": {},
   "source": [
    "## Lable Encoding"
   ]
  },
  {
   "cell_type": "code",
   "execution_count": null,
   "metadata": {},
   "outputs": [],
   "source": [
    "from sklearn import preprocessing\n",
    "nominal_data.reset_index(drop=True, inplace=True)\n",
    "le = preprocessing.LabelEncoder()\n",
    "nominal_data_2 = nominal_data.apply(le.fit_transform)\n",
    "nominal_data_2.head(10)"
   ]
  },
  {
   "cell_type": "markdown",
   "metadata": {},
   "source": [
    "## One-Hot Encoding"
   ]
  },
  {
   "cell_type": "code",
   "execution_count": null,
   "metadata": {},
   "outputs": [],
   "source": [
    "# TODO: create a OneHotEncoder object, and fit it to all of X\n",
    "\n",
    "# 1. INSTANTIATE\n",
    "enc = preprocessing.OneHotEncoder()\n",
    "# 2. FIT\n",
    "enc.fit(nominal_data_2)\n",
    "# 3. Transform\n",
    "onehotlabels = enc.transform(nominal_data_2).toarray()\n",
    "print(onehotlabels.shape)\n",
    "# as you can see, you've the same number of rows 891\n",
    "# but now you've so many more columns due to how we changed all the categorical data into numerical data\n",
    "num_col = (len(nominal_data_2['Manufacturer'].unique())+\n",
    "              len(nominal_data_2['Category'].unique())+\n",
    "              len(nominal_data_2['Category Path 1'].unique())+\n",
    "              len(nominal_data_2['Category Path 2'].unique())+\n",
    "              len(nominal_data_2['Category Path 3'].unique()))\n",
    "print(num_col)"
   ]
  },
  {
   "cell_type": "code",
   "execution_count": null,
   "metadata": {},
   "outputs": [],
   "source": [
    "onehotlabels.shape"
   ]
  },
  {
   "cell_type": "code",
   "execution_count": null,
   "metadata": {
    "scrolled": true
   },
   "outputs": [],
   "source": [
    "encoded_data = pd.concat([ordinal_data, pd.DataFrame(onehotlabels)], axis=1)\n",
    "print(encoded_data.shape)\n",
    "print(encoded_data.head(5))"
   ]
  },
  {
   "cell_type": "markdown",
   "metadata": {},
   "source": [
    "## Data Split"
   ]
  },
  {
   "cell_type": "code",
   "execution_count": null,
   "metadata": {},
   "outputs": [],
   "source": [
    "X = encoded_data.drop('SaleRateNew', axis=1)\n",
    "Y = encoded_data['SaleRateNew']\n",
    "from sklearn.model_selection import train_test_split\n",
    "X_train, X_test, Y_train, Y_test = train_test_split(X, Y, test_size=0.1)"
   ]
  },
  {
   "cell_type": "markdown",
   "metadata": {},
   "source": [
    "## Model Creation (Linear Regression)"
   ]
  },
  {
   "cell_type": "markdown",
   "metadata": {},
   "source": [
    "### Training"
   ]
  },
  {
   "cell_type": "code",
   "execution_count": null,
   "metadata": {},
   "outputs": [],
   "source": [
    "from sklearn.linear_model import LinearRegression\n",
    "model = LinearRegression(fit_intercept=True)\n",
    "model.fit(X_train, Y_train)"
   ]
  },
  {
   "cell_type": "markdown",
   "metadata": {},
   "source": [
    "### Prediction"
   ]
  },
  {
   "cell_type": "code",
   "execution_count": null,
   "metadata": {},
   "outputs": [],
   "source": [
    "Y_pred = model.predict(X_test)"
   ]
  },
  {
   "cell_type": "markdown",
   "metadata": {},
   "source": [
    "### Scoring"
   ]
  },
  {
   "cell_type": "code",
   "execution_count": null,
   "metadata": {},
   "outputs": [],
   "source": [
    "#import sklearn\n",
    "#sklearn.metrics.precision_recall_fscore_support(Y_test, Y_pred)\n",
    "model.score(X_test, Y_test)"
   ]
  },
  {
   "cell_type": "markdown",
   "metadata": {},
   "source": [
    "## Model Creation (Lasso Regression)"
   ]
  },
  {
   "cell_type": "markdown",
   "metadata": {},
   "source": [
    "### Training"
   ]
  },
  {
   "cell_type": "code",
   "execution_count": null,
   "metadata": {},
   "outputs": [],
   "source": [
    "from sklearn import linear_model\n",
    "model = linear_model.Lasso(alpha=0.01, max_iter=10000, normalize=False)\n",
    "model.fit(X_train, Y_train)"
   ]
  },
  {
   "cell_type": "markdown",
   "metadata": {},
   "source": [
    "### Prediction"
   ]
  },
  {
   "cell_type": "code",
   "execution_count": null,
   "metadata": {},
   "outputs": [],
   "source": [
    "Y_pred = model.predict(X_test)"
   ]
  },
  {
   "cell_type": "markdown",
   "metadata": {},
   "source": [
    "### Scoring"
   ]
  },
  {
   "cell_type": "code",
   "execution_count": null,
   "metadata": {},
   "outputs": [],
   "source": [
    "#import sklearn\n",
    "#sklearn.metrics.precision_recall_fscore_support(Y_test, Y_pred)\n",
    "model.score(X_test, Y_test)"
   ]
  }
 ],
 "metadata": {
  "kernelspec": {
   "display_name": "Python 3",
   "language": "python",
   "name": "python3"
  },
  "language_info": {
   "codemirror_mode": {
    "name": "ipython",
    "version": 3
   },
   "file_extension": ".py",
   "mimetype": "text/x-python",
   "name": "python",
   "nbconvert_exporter": "python",
   "pygments_lexer": "ipython3",
   "version": "3.7.4"
  }
 },
 "nbformat": 4,
 "nbformat_minor": 2
}
