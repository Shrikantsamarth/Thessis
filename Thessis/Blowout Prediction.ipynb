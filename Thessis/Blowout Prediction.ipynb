{
 "cells": [
  {
   "cell_type": "markdown",
   "metadata": {},
   "source": [
    "# Warehouse Optimization"
   ]
  },
  {
   "cell_type": "markdown",
   "metadata": {},
   "source": [
    "## Initilization"
   ]
  },
  {
   "cell_type": "code",
   "execution_count": 1,
   "metadata": {
    "scrolled": true
   },
   "outputs": [
    {
     "data": {
      "text/html": [
       "<div>\n",
       "<style scoped>\n",
       "    .dataframe tbody tr th:only-of-type {\n",
       "        vertical-align: middle;\n",
       "    }\n",
       "\n",
       "    .dataframe tbody tr th {\n",
       "        vertical-align: top;\n",
       "    }\n",
       "\n",
       "    .dataframe thead th {\n",
       "        text-align: right;\n",
       "    }\n",
       "</style>\n",
       "<table border=\"1\" class=\"dataframe\">\n",
       "  <thead>\n",
       "    <tr style=\"text-align: right;\">\n",
       "      <th></th>\n",
       "      <th>Manufacturer</th>\n",
       "      <th>Category</th>\n",
       "      <th>Category Path 1</th>\n",
       "      <th>Category Path 2</th>\n",
       "      <th>Category Path 3</th>\n",
       "      <th>Price(USD)</th>\n",
       "      <th>Cost price</th>\n",
       "      <th>Inventory</th>\n",
       "      <th>Shipping</th>\n",
       "      <th>Profit</th>\n",
       "      <th>weight(lb)</th>\n",
       "      <th>SaleRateNew</th>\n",
       "    </tr>\n",
       "  </thead>\n",
       "  <tbody>\n",
       "    <tr>\n",
       "      <td>0</td>\n",
       "      <td>Supermicro</td>\n",
       "      <td>Accessory</td>\n",
       "      <td>Hardware &amp; Software</td>\n",
       "      <td>Server &amp; Workstation</td>\n",
       "      <td>Accessory</td>\n",
       "      <td>2.05</td>\n",
       "      <td>1.0000</td>\n",
       "      <td>57</td>\n",
       "      <td>0.0</td>\n",
       "      <td>1.0500</td>\n",
       "      <td>0.90</td>\n",
       "      <td>1.000000</td>\n",
       "    </tr>\n",
       "    <tr>\n",
       "      <td>1</td>\n",
       "      <td>APC</td>\n",
       "      <td>Surge Protection</td>\n",
       "      <td>Component</td>\n",
       "      <td>Power Protection / UPS</td>\n",
       "      <td>Surge Protection</td>\n",
       "      <td>11.07</td>\n",
       "      <td>8.3025</td>\n",
       "      <td>51</td>\n",
       "      <td>2.5</td>\n",
       "      <td>0.2675</td>\n",
       "      <td>1.33</td>\n",
       "      <td>1.457143</td>\n",
       "    </tr>\n",
       "    <tr>\n",
       "      <td>2</td>\n",
       "      <td>Vantec</td>\n",
       "      <td>120mm</td>\n",
       "      <td>Component</td>\n",
       "      <td>Fan &amp; Heatsink</td>\n",
       "      <td>Case Fan</td>\n",
       "      <td>11.02</td>\n",
       "      <td>8.2650</td>\n",
       "      <td>19</td>\n",
       "      <td>2.5</td>\n",
       "      <td>0.2550</td>\n",
       "      <td>0.54</td>\n",
       "      <td>1.000000</td>\n",
       "    </tr>\n",
       "    <tr>\n",
       "      <td>3</td>\n",
       "      <td>Scythe</td>\n",
       "      <td>120mm</td>\n",
       "      <td>Component</td>\n",
       "      <td>Fan &amp; Heatsink</td>\n",
       "      <td>Case Fan</td>\n",
       "      <td>11.02</td>\n",
       "      <td>8.2650</td>\n",
       "      <td>19</td>\n",
       "      <td>2.5</td>\n",
       "      <td>0.2550</td>\n",
       "      <td>0.50</td>\n",
       "      <td>1.117647</td>\n",
       "    </tr>\n",
       "    <tr>\n",
       "      <td>4</td>\n",
       "      <td>iMicro</td>\n",
       "      <td>Keyboard</td>\n",
       "      <td>Component</td>\n",
       "      <td>Input &amp; Output Device</td>\n",
       "      <td>Keyboard</td>\n",
       "      <td>10.76</td>\n",
       "      <td>8.0700</td>\n",
       "      <td>26</td>\n",
       "      <td>2.5</td>\n",
       "      <td>0.1900</td>\n",
       "      <td>1.20</td>\n",
       "      <td>0.714286</td>\n",
       "    </tr>\n",
       "    <tr>\n",
       "      <td>5</td>\n",
       "      <td>be quiet!</td>\n",
       "      <td>120mm</td>\n",
       "      <td>Component</td>\n",
       "      <td>Fan &amp; Heatsink</td>\n",
       "      <td>Case Fan</td>\n",
       "      <td>10.76</td>\n",
       "      <td>8.0700</td>\n",
       "      <td>79</td>\n",
       "      <td>2.5</td>\n",
       "      <td>0.1900</td>\n",
       "      <td>0.34</td>\n",
       "      <td>1.000000</td>\n",
       "    </tr>\n",
       "    <tr>\n",
       "      <td>6</td>\n",
       "      <td>Supermicro</td>\n",
       "      <td>Accessory</td>\n",
       "      <td>Component</td>\n",
       "      <td>Motherboard</td>\n",
       "      <td>Accessory</td>\n",
       "      <td>10.76</td>\n",
       "      <td>8.0700</td>\n",
       "      <td>19</td>\n",
       "      <td>2.5</td>\n",
       "      <td>0.1900</td>\n",
       "      <td>1.00</td>\n",
       "      <td>0.055556</td>\n",
       "    </tr>\n",
       "    <tr>\n",
       "      <td>7</td>\n",
       "      <td>Thermaltake</td>\n",
       "      <td>LGA 1155</td>\n",
       "      <td>Component</td>\n",
       "      <td>Fan &amp; Heatsink</td>\n",
       "      <td>CPU Fan &amp; Heatsink</td>\n",
       "      <td>10.76</td>\n",
       "      <td>8.0700</td>\n",
       "      <td>51</td>\n",
       "      <td>2.5</td>\n",
       "      <td>0.1900</td>\n",
       "      <td>0.70</td>\n",
       "      <td>1.159091</td>\n",
       "    </tr>\n",
       "    <tr>\n",
       "      <td>8</td>\n",
       "      <td>VCOM</td>\n",
       "      <td>DVI Cable</td>\n",
       "      <td>Component</td>\n",
       "      <td>Cable</td>\n",
       "      <td>DVI Cable</td>\n",
       "      <td>10.76</td>\n",
       "      <td>8.0700</td>\n",
       "      <td>42</td>\n",
       "      <td>2.5</td>\n",
       "      <td>0.1900</td>\n",
       "      <td>0.11</td>\n",
       "      <td>1.400000</td>\n",
       "    </tr>\n",
       "    <tr>\n",
       "      <td>9</td>\n",
       "      <td>VCOM</td>\n",
       "      <td>USB Cable</td>\n",
       "      <td>Component</td>\n",
       "      <td>Cable</td>\n",
       "      <td>USB Cable</td>\n",
       "      <td>10.76</td>\n",
       "      <td>8.0700</td>\n",
       "      <td>52</td>\n",
       "      <td>2.5</td>\n",
       "      <td>0.1900</td>\n",
       "      <td>0.30</td>\n",
       "      <td>1.238095</td>\n",
       "    </tr>\n",
       "  </tbody>\n",
       "</table>\n",
       "</div>"
      ],
      "text/plain": [
       "  Manufacturer          Category      Category Path 1         Category Path 2  \\\n",
       "0   Supermicro         Accessory  Hardware & Software    Server & Workstation   \n",
       "1          APC  Surge Protection            Component  Power Protection / UPS   \n",
       "2       Vantec             120mm            Component          Fan & Heatsink   \n",
       "3       Scythe             120mm            Component          Fan & Heatsink   \n",
       "4       iMicro          Keyboard            Component   Input & Output Device   \n",
       "5    be quiet!             120mm            Component          Fan & Heatsink   \n",
       "6   Supermicro         Accessory            Component             Motherboard   \n",
       "7  Thermaltake          LGA 1155            Component          Fan & Heatsink   \n",
       "8         VCOM         DVI Cable            Component                   Cable   \n",
       "9         VCOM         USB Cable            Component                   Cable   \n",
       "\n",
       "      Category Path 3  Price(USD)  Cost price  Inventory  Shipping  Profit  \\\n",
       "0           Accessory        2.05      1.0000         57       0.0  1.0500   \n",
       "1    Surge Protection       11.07      8.3025         51       2.5  0.2675   \n",
       "2            Case Fan       11.02      8.2650         19       2.5  0.2550   \n",
       "3            Case Fan       11.02      8.2650         19       2.5  0.2550   \n",
       "4            Keyboard       10.76      8.0700         26       2.5  0.1900   \n",
       "5            Case Fan       10.76      8.0700         79       2.5  0.1900   \n",
       "6           Accessory       10.76      8.0700         19       2.5  0.1900   \n",
       "7  CPU Fan & Heatsink       10.76      8.0700         51       2.5  0.1900   \n",
       "8           DVI Cable       10.76      8.0700         42       2.5  0.1900   \n",
       "9           USB Cable       10.76      8.0700         52       2.5  0.1900   \n",
       "\n",
       "   weight(lb)  SaleRateNew  \n",
       "0        0.90     1.000000  \n",
       "1        1.33     1.457143  \n",
       "2        0.54     1.000000  \n",
       "3        0.50     1.117647  \n",
       "4        1.20     0.714286  \n",
       "5        0.34     1.000000  \n",
       "6        1.00     0.055556  \n",
       "7        0.70     1.159091  \n",
       "8        0.11     1.400000  \n",
       "9        0.30     1.238095  "
      ]
     },
     "execution_count": 1,
     "metadata": {},
     "output_type": "execute_result"
    }
   ],
   "source": [
    "import pandas as pd\n",
    "import pandas_profiling\n",
    "import numpy as np\n",
    "data = pd.read_csv('ML_datafile.csv')\n",
    "data.reset_index(drop=True, inplace=True)\n",
    "data = data.drop(['Item No', 'Manufacturer No', 'Product Name', 'Date', 'STOCK TYPE', 'In Stock', 'List No',\n",
    "                 'UPC Code', 'SaleRate'], axis=1)\n",
    "data.dtypes\n",
    "data.head(10)"
   ]
  },
  {
   "cell_type": "markdown",
   "metadata": {},
   "source": [
    "## Exploratory Analysis"
   ]
  },
  {
   "cell_type": "code",
   "execution_count": 2,
   "metadata": {},
   "outputs": [
    {
     "name": "stdout",
     "output_type": "stream",
     "text": [
      "Price(USD)\n",
      "count    4200.000000\n",
      "mean      284.684874\n",
      "std       610.347111\n",
      "min         0.210000\n",
      "25%        28.190000\n",
      "50%        84.050000\n",
      "75%       242.412500\n",
      "max      7021.250000\n",
      "Name: Price(USD), dtype: float64\n",
      "\n",
      "\n",
      "Inventory\n",
      "count    4200.000000\n",
      "mean       43.329524\n",
      "std        90.595148\n",
      "min         1.000000\n",
      "25%         5.000000\n",
      "50%        19.000000\n",
      "75%        51.000000\n",
      "max      1002.000000\n",
      "Name: Inventory, dtype: float64\n",
      "\n",
      "\n",
      "weight(lb)\n",
      "count    4200.000000\n",
      "mean        6.472921\n",
      "std        13.758992\n",
      "min         0.000000\n",
      "25%         0.350000\n",
      "50%         1.545000\n",
      "75%         5.490000\n",
      "max       174.000000\n",
      "Name: weight(lb), dtype: float64\n",
      "\n",
      "\n",
      "SaleRateNew\n",
      "count    4200.000000\n",
      "mean        0.913433\n",
      "std         1.138135\n",
      "min         0.000000\n",
      "25%         0.125000\n",
      "50%         0.772727\n",
      "75%         1.181818\n",
      "max         8.644444\n",
      "Name: SaleRateNew, dtype: float64\n",
      "\n",
      "\n"
     ]
    }
   ],
   "source": [
    "# get some basic ideas about the data\n",
    "def summerize_data(df, columns):\n",
    "    for column in columns:\n",
    "        print(column)\n",
    "        if df.dtypes[column] == np.object: # Categorical data\n",
    "            print(df[column].value_counts())\n",
    "        else:\n",
    "            print(df[column].describe())\n",
    "            \n",
    "        print('\\n')\n",
    "    \n",
    "columns = [\"Price(USD)\", \"Inventory\", \"weight(lb)\", \"SaleRateNew\"]\n",
    "summerize_data(data, columns)"
   ]
  },
  {
   "cell_type": "markdown",
   "metadata": {},
   "source": [
    "# Missing Data Points Per Feature"
   ]
  },
  {
   "cell_type": "code",
   "execution_count": 3,
   "metadata": {},
   "outputs": [
    {
     "data": {
      "text/plain": [
       "Manufacturer         0\n",
       "Category             1\n",
       "Category Path 1      1\n",
       "Category Path 2      1\n",
       "Category Path 3    296\n",
       "Price(USD)           0\n",
       "Cost price           0\n",
       "Inventory            0\n",
       "Shipping             0\n",
       "Profit               0\n",
       "weight(lb)           0\n",
       "SaleRateNew          0\n",
       "dtype: int64"
      ]
     },
     "execution_count": 3,
     "metadata": {},
     "output_type": "execute_result"
    }
   ],
   "source": [
    "data.isnull().sum()"
   ]
  },
  {
   "cell_type": "markdown",
   "metadata": {},
   "source": [
    "## Graphs"
   ]
  },
  {
   "cell_type": "code",
   "execution_count": 4,
   "metadata": {},
   "outputs": [],
   "source": [
    "import matplotlib.pyplot as plt\n",
    "from scipy.stats import norm\n",
    "# if using a Jupyter notebook, inlcude:\n",
    "%matplotlib inline"
   ]
  },
  {
   "cell_type": "code",
   "execution_count": 5,
   "metadata": {
    "scrolled": true
   },
   "outputs": [
    {
     "data": {
      "text/plain": [
       "<matplotlib.axes._subplots.AxesSubplot at 0xfbb373e848>"
      ]
     },
     "execution_count": 5,
     "metadata": {},
     "output_type": "execute_result"
    },
    {
     "data": {
      "image/png": "[encoded data removed]",
      "text/plain": [
       "<Figure size 432x288 with 1 Axes>"
      ]
     },
     "metadata": {
      "needs_background": "light"
     },
     "output_type": "display_data"
    }
   ],
   "source": [
    "data[\"SaleRateNew\"].plot.kde(bw_method=0.3)"
   ]
  },
  {
   "cell_type": "code",
   "execution_count": 6,
   "metadata": {},
   "outputs": [
    {
     "data": {
      "text/plain": [
       "<matplotlib.axes._subplots.AxesSubplot at 0xfbb5925488>"
      ]
     },
     "execution_count": 6,
     "metadata": {},
     "output_type": "execute_result"
    },
    {
     "data": {
      "image/png": "[encoded data removed]",
      "text/plain": [
       "<Figure size 432x288 with 1 Axes>"
      ]
     },
     "metadata": {
      "needs_background": "light"
     },
     "output_type": "display_data"
    }
   ],
   "source": [
    "data[\"SaleRateNew\"].plot.kde(bw_method=0.1)"
   ]
  },
  {
   "cell_type": "code",
   "execution_count": 7,
   "metadata": {},
   "outputs": [
    {
     "data": {
      "text/plain": [
       "<matplotlib.axes._subplots.AxesSubplot at 0xfbb5992d08>"
      ]
     },
     "execution_count": 7,
     "metadata": {},
     "output_type": "execute_result"
    },
    {
     "data": {
      "image/png": "[encoded data removed]",
      "text/plain": [
       "<Figure size 432x288 with 1 Axes>"
      ]
     },
     "metadata": {
      "needs_background": "light"
     },
     "output_type": "display_data"
    }
   ],
   "source": [
    "data[\"Price(USD)\"].plot.kde(bw_method=0.3)"
   ]
  },
  {
   "cell_type": "code",
   "execution_count": 8,
   "metadata": {},
   "outputs": [
    {
     "data": {
      "text/plain": [
       "<matplotlib.axes._subplots.AxesSubplot at 0xfbb5a2a048>"
      ]
     },
     "execution_count": 8,
     "metadata": {},
     "output_type": "execute_result"
    },
    {
     "data": {
      "image/png": "[encoded data removed]",
      "text/plain": [
       "<Figure size 432x288 with 1 Axes>"
      ]
     },
     "metadata": {
      "needs_background": "light"
     },
     "output_type": "display_data"
    }
   ],
   "source": [
    "data[\"Inventory\"].plot.kde(bw_method=0.3)"
   ]
  },
  {
   "cell_type": "code",
   "execution_count": 9,
   "metadata": {
    "scrolled": true
   },
   "outputs": [
    {
     "data": {
      "text/plain": [
       "<matplotlib.axes._subplots.AxesSubplot at 0xfbb5aa0048>"
      ]
     },
     "execution_count": 9,
     "metadata": {},
     "output_type": "execute_result"
    },
    {
     "data": {
      "image/png": "[encoded data removed]",
      "text/plain": [
       "<Figure size 432x288 with 1 Axes>"
      ]
     },
     "metadata": {
      "needs_background": "light"
     },
     "output_type": "display_data"
    }
   ],
   "source": [
    "data[ \"weight(lb)\"].plot.kde(bw_method=0.3)"
   ]
  },
  {
   "cell_type": "markdown",
   "metadata": {},
   "source": [
    "## corelation matrix"
   ]
  },
  {
   "cell_type": "code",
   "execution_count": 10,
   "metadata": {},
   "outputs": [
    {
     "data": {
      "text/html": [
       "<div>\n",
       "<style scoped>\n",
       "    .dataframe tbody tr th:only-of-type {\n",
       "        vertical-align: middle;\n",
       "    }\n",
       "\n",
       "    .dataframe tbody tr th {\n",
       "        vertical-align: top;\n",
       "    }\n",
       "\n",
       "    .dataframe thead th {\n",
       "        text-align: right;\n",
       "    }\n",
       "</style>\n",
       "<table border=\"1\" class=\"dataframe\">\n",
       "  <thead>\n",
       "    <tr style=\"text-align: right;\">\n",
       "      <th></th>\n",
       "      <th>Price(USD)</th>\n",
       "      <th>Cost price</th>\n",
       "      <th>Inventory</th>\n",
       "      <th>Shipping</th>\n",
       "      <th>Profit</th>\n",
       "      <th>weight(lb)</th>\n",
       "      <th>SaleRateNew</th>\n",
       "    </tr>\n",
       "  </thead>\n",
       "  <tbody>\n",
       "    <tr>\n",
       "      <td>Price(USD)</td>\n",
       "      <td>1.000000</td>\n",
       "      <td>0.999997</td>\n",
       "      <td>-0.107053</td>\n",
       "      <td>0.417039</td>\n",
       "      <td>0.999871</td>\n",
       "      <td>0.523939</td>\n",
       "      <td>-0.117940</td>\n",
       "    </tr>\n",
       "    <tr>\n",
       "      <td>Cost price</td>\n",
       "      <td>0.999997</td>\n",
       "      <td>1.000000</td>\n",
       "      <td>-0.107122</td>\n",
       "      <td>0.417225</td>\n",
       "      <td>0.999845</td>\n",
       "      <td>0.524002</td>\n",
       "      <td>-0.117979</td>\n",
       "    </tr>\n",
       "    <tr>\n",
       "      <td>Inventory</td>\n",
       "      <td>-0.107053</td>\n",
       "      <td>-0.107122</td>\n",
       "      <td>1.000000</td>\n",
       "      <td>-0.110415</td>\n",
       "      <td>-0.105852</td>\n",
       "      <td>-0.110241</td>\n",
       "      <td>0.812032</td>\n",
       "    </tr>\n",
       "    <tr>\n",
       "      <td>Shipping</td>\n",
       "      <td>0.417039</td>\n",
       "      <td>0.417225</td>\n",
       "      <td>-0.110415</td>\n",
       "      <td>1.000000</td>\n",
       "      <td>0.404130</td>\n",
       "      <td>0.791004</td>\n",
       "      <td>-0.145811</td>\n",
       "    </tr>\n",
       "    <tr>\n",
       "      <td>Profit</td>\n",
       "      <td>0.999871</td>\n",
       "      <td>0.999845</td>\n",
       "      <td>-0.105852</td>\n",
       "      <td>0.404130</td>\n",
       "      <td>1.000000</td>\n",
       "      <td>0.515159</td>\n",
       "      <td>-0.116367</td>\n",
       "    </tr>\n",
       "    <tr>\n",
       "      <td>weight(lb)</td>\n",
       "      <td>0.523939</td>\n",
       "      <td>0.524002</td>\n",
       "      <td>-0.110241</td>\n",
       "      <td>0.791004</td>\n",
       "      <td>0.515159</td>\n",
       "      <td>1.000000</td>\n",
       "      <td>-0.141525</td>\n",
       "    </tr>\n",
       "    <tr>\n",
       "      <td>SaleRateNew</td>\n",
       "      <td>-0.117940</td>\n",
       "      <td>-0.117979</td>\n",
       "      <td>0.812032</td>\n",
       "      <td>-0.145811</td>\n",
       "      <td>-0.116367</td>\n",
       "      <td>-0.141525</td>\n",
       "      <td>1.000000</td>\n",
       "    </tr>\n",
       "  </tbody>\n",
       "</table>\n",
       "</div>"
      ],
      "text/plain": [
       "             Price(USD)  Cost price  Inventory  Shipping    Profit  \\\n",
       "Price(USD)     1.000000    0.999997  -0.107053  0.417039  0.999871   \n",
       "Cost price     0.999997    1.000000  -0.107122  0.417225  0.999845   \n",
       "Inventory     -0.107053   -0.107122   1.000000 -0.110415 -0.105852   \n",
       "Shipping       0.417039    0.417225  -0.110415  1.000000  0.404130   \n",
       "Profit         0.999871    0.999845  -0.105852  0.404130  1.000000   \n",
       "weight(lb)     0.523939    0.524002  -0.110241  0.791004  0.515159   \n",
       "SaleRateNew   -0.117940   -0.117979   0.812032 -0.145811 -0.116367   \n",
       "\n",
       "             weight(lb)  SaleRateNew  \n",
       "Price(USD)     0.523939    -0.117940  \n",
       "Cost price     0.524002    -0.117979  \n",
       "Inventory     -0.110241     0.812032  \n",
       "Shipping       0.791004    -0.145811  \n",
       "Profit         0.515159    -0.116367  \n",
       "weight(lb)     1.000000    -0.141525  \n",
       "SaleRateNew   -0.141525     1.000000  "
      ]
     },
     "execution_count": 10,
     "metadata": {},
     "output_type": "execute_result"
    },
    {
     "data": {
      "image/png": "[encoded data removed]",
      "text/plain": [
       "<Figure size 864x648 with 2 Axes>"
      ]
     },
     "metadata": {
      "needs_background": "light"
     },
     "output_type": "display_data"
    }
   ],
   "source": [
    "#correlation matrix\n",
    "import seaborn as sns\n",
    "corrmat = data.corr()\n",
    "f, ax = plt.subplots(figsize=(12, 9))\n",
    "sns.heatmap(corrmat, vmax=.8, square=True);\n",
    "corrmat"
   ]
  },
  {
   "cell_type": "markdown",
   "metadata": {},
   "source": [
    "# Relationship with categorical values"
   ]
  },
  {
   "cell_type": "code",
   "execution_count": 11,
   "metadata": {
    "scrolled": true
   },
   "outputs": [
    {
     "data": {
      "image/png": "[encoded data removed]",
      "text/plain": [
       "<Figure size 1440x1296 with 1 Axes>"
      ]
     },
     "metadata": {
      "needs_background": "light"
     },
     "output_type": "display_data"
    }
   ],
   "source": [
    "#box plot overallqual/saleprice\n",
    "box_plot_df = data.sample(n=100, random_state=1)\n",
    "var = 'Price(USD)'\n",
    "box_plot_df = pd.concat([box_plot_df['SaleRateNew'], box_plot_df[var]], axis=1)\n",
    "f, ax = plt.subplots(figsize=(20, 18))\n",
    "fig = sns.boxplot(x=var, y=\"SaleRateNew\", data=box_plot_df)\n",
    "fig.axis(ymin=0, ymax=1);"
   ]
  },
  {
   "cell_type": "code",
   "execution_count": 12,
   "metadata": {
    "scrolled": true
   },
   "outputs": [
    {
     "name": "stderr",
     "output_type": "stream",
     "text": [
      "C:\\ProgramData\\Anaconda3\\lib\\site-packages\\pandas_profiling\\describe.py:392: FutureWarning: The join_axes-keyword is deprecated. Use .reindex or .reindex_like on the result to achieve the same functionality.\n",
      "  variable_stats = pd.concat(ldesc, join_axes=pd.Index([names]), axis=1)\n"
     ]
    }
   ],
   "source": [
    "#import pandas_profiling as pp\n",
    "\n",
    "#check profile report of the dataset\n",
    "\n",
    "#profile = data.profile_report(title='Pandas Profiling Report')\n",
    "profile = pandas_profiling.ProfileReport(data)\n",
    "profile.to_file(\"EDA.html\")"
   ]
  },
  {
   "cell_type": "code",
   "execution_count": 13,
   "metadata": {},
   "outputs": [],
   "source": [
    "X = data.drop('SaleRateNew', axis=1)\n",
    "y = data['SaleRateNew']"
   ]
  },
  {
   "cell_type": "code",
   "execution_count": 14,
   "metadata": {},
   "outputs": [
    {
     "data": {
      "text/plain": [
       "188"
      ]
     },
     "execution_count": 14,
     "metadata": {},
     "output_type": "execute_result"
    }
   ],
   "source": [
    "len(data['Category'].unique())"
   ]
  },
  {
   "cell_type": "code",
   "execution_count": 15,
   "metadata": {},
   "outputs": [
    {
     "data": {
      "text/html": [
       "<div>\n",
       "<style scoped>\n",
       "    .dataframe tbody tr th:only-of-type {\n",
       "        vertical-align: middle;\n",
       "    }\n",
       "\n",
       "    .dataframe tbody tr th {\n",
       "        vertical-align: top;\n",
       "    }\n",
       "\n",
       "    .dataframe thead th {\n",
       "        text-align: right;\n",
       "    }\n",
       "</style>\n",
       "<table border=\"1\" class=\"dataframe\">\n",
       "  <thead>\n",
       "    <tr style=\"text-align: right;\">\n",
       "      <th></th>\n",
       "      <th>Manufacturer</th>\n",
       "      <th>Category</th>\n",
       "      <th>Category Path 1</th>\n",
       "      <th>Category Path 2</th>\n",
       "      <th>Category Path 3</th>\n",
       "      <th>Price(USD)</th>\n",
       "      <th>Cost price</th>\n",
       "      <th>Inventory</th>\n",
       "      <th>Shipping</th>\n",
       "      <th>Profit</th>\n",
       "      <th>weight(lb)</th>\n",
       "      <th>SaleRateNew</th>\n",
       "    </tr>\n",
       "  </thead>\n",
       "  <tbody>\n",
       "    <tr>\n",
       "      <td>0</td>\n",
       "      <td>Supermicro</td>\n",
       "      <td>Accessory</td>\n",
       "      <td>Hardware &amp; Software</td>\n",
       "      <td>Server &amp; Workstation</td>\n",
       "      <td>Accessory</td>\n",
       "      <td>2.05</td>\n",
       "      <td>1.0000</td>\n",
       "      <td>57</td>\n",
       "      <td>0.0</td>\n",
       "      <td>1.0500</td>\n",
       "      <td>0.90</td>\n",
       "      <td>1.000000</td>\n",
       "    </tr>\n",
       "    <tr>\n",
       "      <td>1</td>\n",
       "      <td>APC</td>\n",
       "      <td>Surge Protection</td>\n",
       "      <td>Component</td>\n",
       "      <td>Power Protection / UPS</td>\n",
       "      <td>Surge Protection</td>\n",
       "      <td>11.07</td>\n",
       "      <td>8.3025</td>\n",
       "      <td>51</td>\n",
       "      <td>2.5</td>\n",
       "      <td>0.2675</td>\n",
       "      <td>1.33</td>\n",
       "      <td>1.457143</td>\n",
       "    </tr>\n",
       "    <tr>\n",
       "      <td>2</td>\n",
       "      <td>Vantec</td>\n",
       "      <td>120mm</td>\n",
       "      <td>Component</td>\n",
       "      <td>Fan &amp; Heatsink</td>\n",
       "      <td>Case Fan</td>\n",
       "      <td>11.02</td>\n",
       "      <td>8.2650</td>\n",
       "      <td>19</td>\n",
       "      <td>2.5</td>\n",
       "      <td>0.2550</td>\n",
       "      <td>0.54</td>\n",
       "      <td>1.000000</td>\n",
       "    </tr>\n",
       "    <tr>\n",
       "      <td>3</td>\n",
       "      <td>Scythe</td>\n",
       "      <td>120mm</td>\n",
       "      <td>Component</td>\n",
       "      <td>Fan &amp; Heatsink</td>\n",
       "      <td>Case Fan</td>\n",
       "      <td>11.02</td>\n",
       "      <td>8.2650</td>\n",
       "      <td>19</td>\n",
       "      <td>2.5</td>\n",
       "      <td>0.2550</td>\n",
       "      <td>0.50</td>\n",
       "      <td>1.117647</td>\n",
       "    </tr>\n",
       "    <tr>\n",
       "      <td>4</td>\n",
       "      <td>iMicro</td>\n",
       "      <td>Keyboard</td>\n",
       "      <td>Component</td>\n",
       "      <td>Input &amp; Output Device</td>\n",
       "      <td>Keyboard</td>\n",
       "      <td>10.76</td>\n",
       "      <td>8.0700</td>\n",
       "      <td>26</td>\n",
       "      <td>2.5</td>\n",
       "      <td>0.1900</td>\n",
       "      <td>1.20</td>\n",
       "      <td>0.714286</td>\n",
       "    </tr>\n",
       "  </tbody>\n",
       "</table>\n",
       "</div>"
      ],
      "text/plain": [
       "  Manufacturer          Category      Category Path 1         Category Path 2  \\\n",
       "0   Supermicro         Accessory  Hardware & Software    Server & Workstation   \n",
       "1          APC  Surge Protection            Component  Power Protection / UPS   \n",
       "2       Vantec             120mm            Component          Fan & Heatsink   \n",
       "3       Scythe             120mm            Component          Fan & Heatsink   \n",
       "4       iMicro          Keyboard            Component   Input & Output Device   \n",
       "\n",
       "    Category Path 3  Price(USD)  Cost price  Inventory  Shipping  Profit  \\\n",
       "0         Accessory        2.05      1.0000         57       0.0  1.0500   \n",
       "1  Surge Protection       11.07      8.3025         51       2.5  0.2675   \n",
       "2          Case Fan       11.02      8.2650         19       2.5  0.2550   \n",
       "3          Case Fan       11.02      8.2650         19       2.5  0.2550   \n",
       "4          Keyboard       10.76      8.0700         26       2.5  0.1900   \n",
       "\n",
       "   weight(lb)  SaleRateNew  \n",
       "0        0.90     1.000000  \n",
       "1        1.33     1.457143  \n",
       "2        0.54     1.000000  \n",
       "3        0.50     1.117647  \n",
       "4        1.20     0.714286  "
      ]
     },
     "execution_count": 15,
     "metadata": {},
     "output_type": "execute_result"
    }
   ],
   "source": [
    "data.head(5)"
   ]
  },
  {
   "cell_type": "code",
   "execution_count": 16,
   "metadata": {},
   "outputs": [
    {
     "data": {
      "text/plain": [
       "Index(['Manufacturer', 'Category', 'Category Path 1', 'Category Path 2',\n",
       "       'Category Path 3', 'Price(USD)', 'Cost price', 'Inventory', 'Shipping',\n",
       "       'Profit', 'weight(lb)', 'SaleRateNew'],\n",
       "      dtype='object')"
      ]
     },
     "execution_count": 16,
     "metadata": {},
     "output_type": "execute_result"
    }
   ],
   "source": [
    "data.columns"
   ]
  },
  {
   "cell_type": "code",
   "execution_count": 17,
   "metadata": {},
   "outputs": [
    {
     "data": {
      "text/html": [
       "<div>\n",
       "<style scoped>\n",
       "    .dataframe tbody tr th:only-of-type {\n",
       "        vertical-align: middle;\n",
       "    }\n",
       "\n",
       "    .dataframe tbody tr th {\n",
       "        vertical-align: top;\n",
       "    }\n",
       "\n",
       "    .dataframe thead th {\n",
       "        text-align: right;\n",
       "    }\n",
       "</style>\n",
       "<table border=\"1\" class=\"dataframe\">\n",
       "  <thead>\n",
       "    <tr style=\"text-align: right;\">\n",
       "      <th></th>\n",
       "      <th>Manufacturer</th>\n",
       "      <th>Category</th>\n",
       "      <th>Category Path 1</th>\n",
       "      <th>Category Path 2</th>\n",
       "      <th>Category Path 3</th>\n",
       "    </tr>\n",
       "  </thead>\n",
       "  <tbody>\n",
       "    <tr>\n",
       "      <td>0</td>\n",
       "      <td>Supermicro</td>\n",
       "      <td>Accessory</td>\n",
       "      <td>Hardware &amp; Software</td>\n",
       "      <td>Server &amp; Workstation</td>\n",
       "      <td>Accessory</td>\n",
       "    </tr>\n",
       "    <tr>\n",
       "      <td>1</td>\n",
       "      <td>APC</td>\n",
       "      <td>Surge Protection</td>\n",
       "      <td>Component</td>\n",
       "      <td>Power Protection / UPS</td>\n",
       "      <td>Surge Protection</td>\n",
       "    </tr>\n",
       "    <tr>\n",
       "      <td>2</td>\n",
       "      <td>Vantec</td>\n",
       "      <td>120mm</td>\n",
       "      <td>Component</td>\n",
       "      <td>Fan &amp; Heatsink</td>\n",
       "      <td>Case Fan</td>\n",
       "    </tr>\n",
       "    <tr>\n",
       "      <td>3</td>\n",
       "      <td>Scythe</td>\n",
       "      <td>120mm</td>\n",
       "      <td>Component</td>\n",
       "      <td>Fan &amp; Heatsink</td>\n",
       "      <td>Case Fan</td>\n",
       "    </tr>\n",
       "    <tr>\n",
       "      <td>4</td>\n",
       "      <td>iMicro</td>\n",
       "      <td>Keyboard</td>\n",
       "      <td>Component</td>\n",
       "      <td>Input &amp; Output Device</td>\n",
       "      <td>Keyboard</td>\n",
       "    </tr>\n",
       "    <tr>\n",
       "      <td>5</td>\n",
       "      <td>be quiet!</td>\n",
       "      <td>120mm</td>\n",
       "      <td>Component</td>\n",
       "      <td>Fan &amp; Heatsink</td>\n",
       "      <td>Case Fan</td>\n",
       "    </tr>\n",
       "    <tr>\n",
       "      <td>6</td>\n",
       "      <td>Supermicro</td>\n",
       "      <td>Accessory</td>\n",
       "      <td>Component</td>\n",
       "      <td>Motherboard</td>\n",
       "      <td>Accessory</td>\n",
       "    </tr>\n",
       "    <tr>\n",
       "      <td>7</td>\n",
       "      <td>Thermaltake</td>\n",
       "      <td>LGA 1155</td>\n",
       "      <td>Component</td>\n",
       "      <td>Fan &amp; Heatsink</td>\n",
       "      <td>CPU Fan &amp; Heatsink</td>\n",
       "    </tr>\n",
       "    <tr>\n",
       "      <td>8</td>\n",
       "      <td>VCOM</td>\n",
       "      <td>DVI Cable</td>\n",
       "      <td>Component</td>\n",
       "      <td>Cable</td>\n",
       "      <td>DVI Cable</td>\n",
       "    </tr>\n",
       "    <tr>\n",
       "      <td>9</td>\n",
       "      <td>VCOM</td>\n",
       "      <td>USB Cable</td>\n",
       "      <td>Component</td>\n",
       "      <td>Cable</td>\n",
       "      <td>USB Cable</td>\n",
       "    </tr>\n",
       "    <tr>\n",
       "      <td>10</td>\n",
       "      <td>AeroCool</td>\n",
       "      <td>140mm</td>\n",
       "      <td>Component</td>\n",
       "      <td>Fan &amp; Heatsink</td>\n",
       "      <td>Case Fan</td>\n",
       "    </tr>\n",
       "    <tr>\n",
       "      <td>11</td>\n",
       "      <td>BitFenix</td>\n",
       "      <td>120mm</td>\n",
       "      <td>Component</td>\n",
       "      <td>Fan &amp; Heatsink</td>\n",
       "      <td>Case Fan</td>\n",
       "    </tr>\n",
       "    <tr>\n",
       "      <td>12</td>\n",
       "      <td>Supermicro</td>\n",
       "      <td>Accessory</td>\n",
       "      <td>Hardware &amp; Software</td>\n",
       "      <td>Server &amp; Workstation</td>\n",
       "      <td>Accessory</td>\n",
       "    </tr>\n",
       "    <tr>\n",
       "      <td>13</td>\n",
       "      <td>Supermicro</td>\n",
       "      <td>Accessory</td>\n",
       "      <td>Hardware &amp; Software</td>\n",
       "      <td>Server &amp; Workstation</td>\n",
       "      <td>Accessory</td>\n",
       "    </tr>\n",
       "    <tr>\n",
       "      <td>14</td>\n",
       "      <td>Antec</td>\n",
       "      <td>Thermal Paste</td>\n",
       "      <td>Component</td>\n",
       "      <td>Fan &amp; Heatsink</td>\n",
       "      <td>Thermal Paste</td>\n",
       "    </tr>\n",
       "    <tr>\n",
       "      <td>15</td>\n",
       "      <td>BORND</td>\n",
       "      <td>Mouse</td>\n",
       "      <td>Component</td>\n",
       "      <td>Input &amp; Output Device</td>\n",
       "      <td>Mouse</td>\n",
       "    </tr>\n",
       "    <tr>\n",
       "      <td>16</td>\n",
       "      <td>Bgears</td>\n",
       "      <td>140mm</td>\n",
       "      <td>Component</td>\n",
       "      <td>Fan &amp; Heatsink</td>\n",
       "      <td>Case Fan</td>\n",
       "    </tr>\n",
       "    <tr>\n",
       "      <td>17</td>\n",
       "      <td>Netis</td>\n",
       "      <td>Wireless Network Adapter</td>\n",
       "      <td>Component</td>\n",
       "      <td>Networking</td>\n",
       "      <td>Wireless Networking</td>\n",
       "    </tr>\n",
       "    <tr>\n",
       "      <td>18</td>\n",
       "      <td>iMicro</td>\n",
       "      <td>HDMI</td>\n",
       "      <td>Component</td>\n",
       "      <td>Cable</td>\n",
       "      <td>HDMI</td>\n",
       "    </tr>\n",
       "    <tr>\n",
       "      <td>19</td>\n",
       "      <td>iMicro</td>\n",
       "      <td>Keyboard</td>\n",
       "      <td>Component</td>\n",
       "      <td>Input &amp; Output Device</td>\n",
       "      <td>Keyboard</td>\n",
       "    </tr>\n",
       "    <tr>\n",
       "      <td>20</td>\n",
       "      <td>iMicro</td>\n",
       "      <td>Keyboard</td>\n",
       "      <td>Component</td>\n",
       "      <td>Input &amp; Output Device</td>\n",
       "      <td>Keyboard</td>\n",
       "    </tr>\n",
       "    <tr>\n",
       "      <td>21</td>\n",
       "      <td>iMicro</td>\n",
       "      <td>Keyboard</td>\n",
       "      <td>Component</td>\n",
       "      <td>Input &amp; Output Device</td>\n",
       "      <td>Keyboard</td>\n",
       "    </tr>\n",
       "    <tr>\n",
       "      <td>22</td>\n",
       "      <td>iMicro</td>\n",
       "      <td>Speaker &amp; Headset</td>\n",
       "      <td>Component</td>\n",
       "      <td>Multimedia</td>\n",
       "      <td>Speaker &amp; Headset</td>\n",
       "    </tr>\n",
       "    <tr>\n",
       "      <td>23</td>\n",
       "      <td>iMicro</td>\n",
       "      <td>Mouse</td>\n",
       "      <td>Component</td>\n",
       "      <td>Input &amp; Output Device</td>\n",
       "      <td>Mouse</td>\n",
       "    </tr>\n",
       "    <tr>\n",
       "      <td>24</td>\n",
       "      <td>DEEPCOOL</td>\n",
       "      <td>LGA 1156</td>\n",
       "      <td>Component</td>\n",
       "      <td>Fan &amp; Heatsink</td>\n",
       "      <td>CPU Fan &amp; Heatsink</td>\n",
       "    </tr>\n",
       "    <tr>\n",
       "      <td>25</td>\n",
       "      <td>be quiet!</td>\n",
       "      <td>92mm</td>\n",
       "      <td>Component</td>\n",
       "      <td>Fan &amp; Heatsink</td>\n",
       "      <td>Case Fan</td>\n",
       "    </tr>\n",
       "    <tr>\n",
       "      <td>26</td>\n",
       "      <td>AeroCool</td>\n",
       "      <td>120mm</td>\n",
       "      <td>Component</td>\n",
       "      <td>Fan &amp; Heatsink</td>\n",
       "      <td>Case Fan</td>\n",
       "    </tr>\n",
       "    <tr>\n",
       "      <td>27</td>\n",
       "      <td>Bgears</td>\n",
       "      <td>90mm</td>\n",
       "      <td>Component</td>\n",
       "      <td>Fan &amp; Heatsink</td>\n",
       "      <td>Case Fan</td>\n",
       "    </tr>\n",
       "    <tr>\n",
       "      <td>28</td>\n",
       "      <td>Thermaltake</td>\n",
       "      <td>120mm</td>\n",
       "      <td>Component</td>\n",
       "      <td>Fan &amp; Heatsink</td>\n",
       "      <td>Case Fan</td>\n",
       "    </tr>\n",
       "    <tr>\n",
       "      <td>29</td>\n",
       "      <td>Fractal Design</td>\n",
       "      <td>Accessory</td>\n",
       "      <td>Component</td>\n",
       "      <td>Hard Drive</td>\n",
       "      <td>Accessory</td>\n",
       "    </tr>\n",
       "  </tbody>\n",
       "</table>\n",
       "</div>"
      ],
      "text/plain": [
       "      Manufacturer                  Category      Category Path 1  \\\n",
       "0       Supermicro                 Accessory  Hardware & Software   \n",
       "1              APC          Surge Protection            Component   \n",
       "2           Vantec                     120mm            Component   \n",
       "3           Scythe                     120mm            Component   \n",
       "4           iMicro                  Keyboard            Component   \n",
       "5        be quiet!                     120mm            Component   \n",
       "6       Supermicro                 Accessory            Component   \n",
       "7      Thermaltake                  LGA 1155            Component   \n",
       "8             VCOM                 DVI Cable            Component   \n",
       "9             VCOM                 USB Cable            Component   \n",
       "10        AeroCool                     140mm            Component   \n",
       "11        BitFenix                     120mm            Component   \n",
       "12      Supermicro                 Accessory  Hardware & Software   \n",
       "13      Supermicro                 Accessory  Hardware & Software   \n",
       "14           Antec             Thermal Paste            Component   \n",
       "15           BORND                     Mouse            Component   \n",
       "16          Bgears                     140mm            Component   \n",
       "17           Netis  Wireless Network Adapter            Component   \n",
       "18          iMicro                      HDMI            Component   \n",
       "19          iMicro                  Keyboard            Component   \n",
       "20          iMicro                  Keyboard            Component   \n",
       "21          iMicro                  Keyboard            Component   \n",
       "22          iMicro         Speaker & Headset            Component   \n",
       "23          iMicro                     Mouse            Component   \n",
       "24        DEEPCOOL                  LGA 1156            Component   \n",
       "25       be quiet!                      92mm            Component   \n",
       "26        AeroCool                     120mm            Component   \n",
       "27          Bgears                      90mm            Component   \n",
       "28     Thermaltake                     120mm            Component   \n",
       "29  Fractal Design                 Accessory            Component   \n",
       "\n",
       "           Category Path 2      Category Path 3  \n",
       "0     Server & Workstation            Accessory  \n",
       "1   Power Protection / UPS     Surge Protection  \n",
       "2           Fan & Heatsink             Case Fan  \n",
       "3           Fan & Heatsink             Case Fan  \n",
       "4    Input & Output Device             Keyboard  \n",
       "5           Fan & Heatsink             Case Fan  \n",
       "6              Motherboard            Accessory  \n",
       "7           Fan & Heatsink   CPU Fan & Heatsink  \n",
       "8                    Cable            DVI Cable  \n",
       "9                    Cable            USB Cable  \n",
       "10          Fan & Heatsink             Case Fan  \n",
       "11          Fan & Heatsink             Case Fan  \n",
       "12    Server & Workstation            Accessory  \n",
       "13    Server & Workstation            Accessory  \n",
       "14          Fan & Heatsink        Thermal Paste  \n",
       "15   Input & Output Device                Mouse  \n",
       "16          Fan & Heatsink             Case Fan  \n",
       "17              Networking  Wireless Networking  \n",
       "18                   Cable                 HDMI  \n",
       "19   Input & Output Device             Keyboard  \n",
       "20   Input & Output Device             Keyboard  \n",
       "21   Input & Output Device             Keyboard  \n",
       "22              Multimedia    Speaker & Headset  \n",
       "23   Input & Output Device                Mouse  \n",
       "24          Fan & Heatsink   CPU Fan & Heatsink  \n",
       "25          Fan & Heatsink             Case Fan  \n",
       "26          Fan & Heatsink             Case Fan  \n",
       "27          Fan & Heatsink             Case Fan  \n",
       "28          Fan & Heatsink             Case Fan  \n",
       "29              Hard Drive            Accessory  "
      ]
     },
     "execution_count": 17,
     "metadata": {},
     "output_type": "execute_result"
    }
   ],
   "source": [
    "# limit to categorical data using df.select_dtypes()\n",
    "#nominal_data = data.drop(['Price(USD)', 'Cost price', 'Inventory', 'Shipping', 'Profit', 'weight(lb)', 'SaleRateNew'], axis=1)\n",
    "#ordinal_data = data.drop(nominal_data.columns)\n",
    "nominal_data = data.select_dtypes(include=[object])\n",
    "ordinal_data = data.drop(list(nominal_data.columns), axis=1)\n",
    "nominal_data = nominal_data.replace(np.nan, 'Default', regex=True)\n",
    "nominal_data.head(30)"
   ]
  },
  {
   "cell_type": "markdown",
   "metadata": {},
   "source": [
    "## Lable Encoding"
   ]
  },
  {
   "cell_type": "code",
   "execution_count": 18,
   "metadata": {},
   "outputs": [
    {
     "data": {
      "text/html": [
       "<div>\n",
       "<style scoped>\n",
       "    .dataframe tbody tr th:only-of-type {\n",
       "        vertical-align: middle;\n",
       "    }\n",
       "\n",
       "    .dataframe tbody tr th {\n",
       "        vertical-align: top;\n",
       "    }\n",
       "\n",
       "    .dataframe thead th {\n",
       "        text-align: right;\n",
       "    }\n",
       "</style>\n",
       "<table border=\"1\" class=\"dataframe\">\n",
       "  <thead>\n",
       "    <tr style=\"text-align: right;\">\n",
       "      <th></th>\n",
       "      <th>Manufacturer</th>\n",
       "      <th>Category</th>\n",
       "      <th>Category Path 1</th>\n",
       "      <th>Category Path 2</th>\n",
       "      <th>Category Path 3</th>\n",
       "    </tr>\n",
       "  </thead>\n",
       "  <tbody>\n",
       "    <tr>\n",
       "      <td>0</td>\n",
       "      <td>98</td>\n",
       "      <td>30</td>\n",
       "      <td>3</td>\n",
       "      <td>33</td>\n",
       "      <td>1</td>\n",
       "    </tr>\n",
       "    <tr>\n",
       "      <td>1</td>\n",
       "      <td>2</td>\n",
       "      <td>163</td>\n",
       "      <td>0</td>\n",
       "      <td>27</td>\n",
       "      <td>87</td>\n",
       "    </tr>\n",
       "    <tr>\n",
       "      <td>2</td>\n",
       "      <td>110</td>\n",
       "      <td>0</td>\n",
       "      <td>0</td>\n",
       "      <td>15</td>\n",
       "      <td>13</td>\n",
       "    </tr>\n",
       "    <tr>\n",
       "      <td>3</td>\n",
       "      <td>91</td>\n",
       "      <td>0</td>\n",
       "      <td>0</td>\n",
       "      <td>15</td>\n",
       "      <td>13</td>\n",
       "    </tr>\n",
       "    <tr>\n",
       "      <td>4</td>\n",
       "      <td>118</td>\n",
       "      <td>97</td>\n",
       "      <td>0</td>\n",
       "      <td>18</td>\n",
       "      <td>44</td>\n",
       "    </tr>\n",
       "    <tr>\n",
       "      <td>5</td>\n",
       "      <td>117</td>\n",
       "      <td>0</td>\n",
       "      <td>0</td>\n",
       "      <td>15</td>\n",
       "      <td>13</td>\n",
       "    </tr>\n",
       "    <tr>\n",
       "      <td>6</td>\n",
       "      <td>98</td>\n",
       "      <td>30</td>\n",
       "      <td>0</td>\n",
       "      <td>22</td>\n",
       "      <td>1</td>\n",
       "    </tr>\n",
       "    <tr>\n",
       "      <td>7</td>\n",
       "      <td>103</td>\n",
       "      <td>102</td>\n",
       "      <td>0</td>\n",
       "      <td>15</td>\n",
       "      <td>7</td>\n",
       "    </tr>\n",
       "    <tr>\n",
       "      <td>8</td>\n",
       "      <td>108</td>\n",
       "      <td>64</td>\n",
       "      <td>0</td>\n",
       "      <td>5</td>\n",
       "      <td>18</td>\n",
       "    </tr>\n",
       "    <tr>\n",
       "      <td>9</td>\n",
       "      <td>108</td>\n",
       "      <td>171</td>\n",
       "      <td>0</td>\n",
       "      <td>5</td>\n",
       "      <td>93</td>\n",
       "    </tr>\n",
       "  </tbody>\n",
       "</table>\n",
       "</div>"
      ],
      "text/plain": [
       "   Manufacturer  Category  Category Path 1  Category Path 2  Category Path 3\n",
       "0            98        30                3               33                1\n",
       "1             2       163                0               27               87\n",
       "2           110         0                0               15               13\n",
       "3            91         0                0               15               13\n",
       "4           118        97                0               18               44\n",
       "5           117         0                0               15               13\n",
       "6            98        30                0               22                1\n",
       "7           103       102                0               15                7\n",
       "8           108        64                0                5               18\n",
       "9           108       171                0                5               93"
      ]
     },
     "execution_count": 18,
     "metadata": {},
     "output_type": "execute_result"
    }
   ],
   "source": [
    "from sklearn import preprocessing\n",
    "nominal_data.reset_index(drop=True, inplace=True)\n",
    "le = preprocessing.LabelEncoder()\n",
    "nominal_data_2 = nominal_data.apply(le.fit_transform)\n",
    "nominal_data_2.head(10)"
   ]
  },
  {
   "cell_type": "markdown",
   "metadata": {},
   "source": [
    "## One-Hot Encoding"
   ]
  },
  {
   "cell_type": "code",
   "execution_count": 19,
   "metadata": {},
   "outputs": [
    {
     "name": "stdout",
     "output_type": "stream",
     "text": [
      "(4200, 458)\n",
      "458\n"
     ]
    },
    {
     "name": "stderr",
     "output_type": "stream",
     "text": [
      "C:\\ProgramData\\Anaconda3\\lib\\site-packages\\sklearn\\preprocessing\\_encoders.py:415: FutureWarning: The handling of integer data will change in version 0.22. Currently, the categories are determined based on the range [0, max(values)], while in the future they will be determined based on the unique values.\n",
      "If you want the future behaviour and silence this warning, you can specify \"categories='auto'\".\n",
      "In case you used a LabelEncoder before this OneHotEncoder to convert the categories to integers, then you can now use the OneHotEncoder directly.\n",
      "  warnings.warn(msg, FutureWarning)\n"
     ]
    }
   ],
   "source": [
    "# TODO: create a OneHotEncoder object, and fit it to all of X\n",
    "\n",
    "# 1. INSTANTIATE\n",
    "enc = preprocessing.OneHotEncoder()\n",
    "# 2. FIT\n",
    "enc.fit(nominal_data_2)\n",
    "# 3. Transform\n",
    "onehotlabels = enc.transform(nominal_data_2).toarray()\n",
    "print(onehotlabels.shape)\n",
    "# as you can see, you've the same number of rows 891\n",
    "# but now you've so many more columns due to how we changed all the categorical data into numerical data\n",
    "num_col = (len(nominal_data_2['Manufacturer'].unique())+\n",
    "              len(nominal_data_2['Category'].unique())+\n",
    "              len(nominal_data_2['Category Path 1'].unique())+\n",
    "              len(nominal_data_2['Category Path 2'].unique())+\n",
    "              len(nominal_data_2['Category Path 3'].unique()))\n",
    "print(num_col)"
   ]
  },
  {
   "cell_type": "code",
   "execution_count": 20,
   "metadata": {},
   "outputs": [
    {
     "data": {
      "text/plain": [
       "(4200, 458)"
      ]
     },
     "execution_count": 20,
     "metadata": {},
     "output_type": "execute_result"
    }
   ],
   "source": [
    "onehotlabels.shape"
   ]
  },
  {
   "cell_type": "code",
   "execution_count": 21,
   "metadata": {
    "scrolled": true
   },
   "outputs": [
    {
     "name": "stdout",
     "output_type": "stream",
     "text": [
      "(4200, 465)\n",
      "   Price(USD)  Cost price  Inventory  Shipping  Profit  weight(lb)  \\\n",
      "0        2.05      1.0000         57       0.0  1.0500        0.90   \n",
      "1       11.07      8.3025         51       2.5  0.2675        1.33   \n",
      "2       11.02      8.2650         19       2.5  0.2550        0.54   \n",
      "3       11.02      8.2650         19       2.5  0.2550        0.50   \n",
      "4       10.76      8.0700         26       2.5  0.1900        1.20   \n",
      "\n",
      "   SaleRateNew    0    1    2  ...  448  449  450  451  452  453  454  455  \\\n",
      "0     1.000000  0.0  0.0  0.0  ...  0.0  0.0  0.0  0.0  0.0  0.0  0.0  0.0   \n",
      "1     1.457143  0.0  0.0  1.0  ...  0.0  0.0  0.0  0.0  0.0  0.0  0.0  0.0   \n",
      "2     1.000000  0.0  0.0  0.0  ...  0.0  0.0  0.0  0.0  0.0  0.0  0.0  0.0   \n",
      "3     1.117647  0.0  0.0  0.0  ...  0.0  0.0  0.0  0.0  0.0  0.0  0.0  0.0   \n",
      "4     0.714286  0.0  0.0  0.0  ...  0.0  0.0  0.0  0.0  0.0  0.0  0.0  0.0   \n",
      "\n",
      "   456  457  \n",
      "0  0.0  0.0  \n",
      "1  0.0  0.0  \n",
      "2  0.0  0.0  \n",
      "3  0.0  0.0  \n",
      "4  0.0  0.0  \n",
      "\n",
      "[5 rows x 465 columns]\n"
     ]
    }
   ],
   "source": [
    "encoded_data = pd.concat([ordinal_data, pd.DataFrame(onehotlabels)], axis=1)\n",
    "print(encoded_data.shape)\n",
    "print(encoded_data.head(5))"
   ]
  },
  {
   "cell_type": "markdown",
   "metadata": {},
   "source": [
    "## Data Split"
   ]
  },
  {
   "cell_type": "code",
   "execution_count": 22,
   "metadata": {},
   "outputs": [],
   "source": [
    "X = encoded_data.drop('SaleRateNew', axis=1)\n",
    "Y = encoded_data['SaleRateNew']\n",
    "from sklearn.model_selection import train_test_split\n",
    "X_train, X_test, Y_train, Y_test = train_test_split(X, Y, test_size=0.1)"
   ]
  },
  {
   "cell_type": "markdown",
   "metadata": {},
   "source": [
    "## Model Creation (Linear Regression)"
   ]
  },
  {
   "cell_type": "markdown",
   "metadata": {},
   "source": [
    "### Training"
   ]
  },
  {
   "cell_type": "code",
   "execution_count": 23,
   "metadata": {},
   "outputs": [
    {
     "data": {
      "text/plain": [
       "LinearRegression(copy_X=True, fit_intercept=True, n_jobs=None, normalize=False)"
      ]
     },
     "execution_count": 23,
     "metadata": {},
     "output_type": "execute_result"
    }
   ],
   "source": [
    "from sklearn.linear_model import LinearRegression\n",
    "model = LinearRegression(fit_intercept=True)\n",
    "model.fit(X_train, Y_train)"
   ]
  },
  {
   "cell_type": "markdown",
   "metadata": {},
   "source": [
    "### Prediction"
   ]
  },
  {
   "cell_type": "code",
   "execution_count": 24,
   "metadata": {},
   "outputs": [],
   "source": [
    "Y_pred = model.predict(X_test)"
   ]
  },
  {
   "cell_type": "markdown",
   "metadata": {},
   "source": [
    "### Scoring"
   ]
  },
  {
   "cell_type": "code",
   "execution_count": 26,
   "metadata": {},
   "outputs": [
    {
     "data": {
      "text/plain": [
       "0.6382147901330464"
      ]
     },
     "execution_count": 26,
     "metadata": {},
     "output_type": "execute_result"
    }
   ],
   "source": [
    "#import sklearn\n",
    "#sklearn.metrics.precision_recall_fscore_support(Y_test, Y_pred)\n",
    "model.score(X_test, Y_test)"
   ]
  },
  {
   "cell_type": "markdown",
   "metadata": {},
   "source": [
    "## Model Creation (Lasso Regression)"
   ]
  },
  {
   "cell_type": "markdown",
   "metadata": {},
   "source": [
    "### Training"
   ]
  },
  {
   "cell_type": "code",
   "execution_count": 40,
   "metadata": {},
   "outputs": [
    {
     "data": {
      "text/plain": [
       "Lasso(alpha=0.01, copy_X=True, fit_intercept=True, max_iter=10000,\n",
       "      normalize=False, positive=False, precompute=False, random_state=None,\n",
       "      selection='cyclic', tol=0.0001, warm_start=False)"
      ]
     },
     "execution_count": 40,
     "metadata": {},
     "output_type": "execute_result"
    }
   ],
   "source": [
    "from sklearn import linear_model\n",
    "model = linear_model.Lasso(alpha=0.01, max_iter=10000, normalize=False)\n",
    "model.fit(X_train, Y_train)"
   ]
  },
  {
   "cell_type": "markdown",
   "metadata": {},
   "source": [
    "### Prediction"
   ]
  },
  {
   "cell_type": "code",
   "execution_count": 41,
   "metadata": {},
   "outputs": [],
   "source": [
    "Y_pred = model.predict(X_test)"
   ]
  },
  {
   "cell_type": "markdown",
   "metadata": {},
   "source": [
    "### Scoring"
   ]
  },
  {
   "cell_type": "code",
   "execution_count": 42,
   "metadata": {},
   "outputs": [
    {
     "data": {
      "text/plain": [
       "0.606818229157456"
      ]
     },
     "execution_count": 42,
     "metadata": {},
     "output_type": "execute_result"
    }
   ],
   "source": [
    "#import sklearn\n",
    "#sklearn.metrics.precision_recall_fscore_support(Y_test, Y_pred)\n",
    "model.score(X_test, Y_test)"
   ]
  },
  {
   "cell_type": "code",
   "execution_count": null,
   "metadata": {},
   "outputs": [],
   "source": []
  }
 ],
 "metadata": {
  "kernelspec": {
   "display_name": "Python 3",
   "language": "python",
   "name": "python3"
  },
  "language_info": {
   "codemirror_mode": {
    "name": "ipython",
    "version": 3
   },
   "file_extension": ".py",
   "mimetype": "text/x-python",
   "name": "python",
   "nbconvert_exporter": "python",
   "pygments_lexer": "ipython3",
   "version": "3.7.4"
  }
 },
 "nbformat": 4,
 "nbformat_minor": 2
}
