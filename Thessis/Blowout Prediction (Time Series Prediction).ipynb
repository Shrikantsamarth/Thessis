{
 "cells": [
  {
   "cell_type": "markdown",
   "metadata": {},
   "source": [
    "# Warehouse Optimization (Time Series Prediction)"
   ]
  },
  {
   "cell_type": "markdown",
   "metadata": {},
   "source": [
    "## Initilization"
   ]
  },
  {
   "cell_type": "code",
   "execution_count": 1,
   "metadata": {
    "scrolled": false
   },
   "outputs": [
    {
     "data": {
      "text/html": [
       "<div>\n",
       "<style scoped>\n",
       "    .dataframe tbody tr th:only-of-type {\n",
       "        vertical-align: middle;\n",
       "    }\n",
       "\n",
       "    .dataframe tbody tr th {\n",
       "        vertical-align: top;\n",
       "    }\n",
       "\n",
       "    .dataframe thead th {\n",
       "        text-align: right;\n",
       "    }\n",
       "</style>\n",
       "<table border=\"1\" class=\"dataframe\">\n",
       "  <thead>\n",
       "    <tr style=\"text-align: right;\">\n",
       "      <th></th>\n",
       "      <th>Item No</th>\n",
       "      <th>Manufacturer</th>\n",
       "      <th>Category</th>\n",
       "      <th>Category Path 1</th>\n",
       "      <th>Category Path 2</th>\n",
       "      <th>Category Path 3</th>\n",
       "      <th>Price(USD)</th>\n",
       "      <th>Cost price</th>\n",
       "      <th>Inventory</th>\n",
       "      <th>Shipping</th>\n",
       "      <th>Profit</th>\n",
       "      <th>STOCK TYPE</th>\n",
       "      <th>Date</th>\n",
       "      <th>In Stock</th>\n",
       "      <th>weight(lb)</th>\n",
       "      <th>Initial Stock</th>\n",
       "    </tr>\n",
       "  </thead>\n",
       "  <tbody>\n",
       "    <tr>\n",
       "      <td>0</td>\n",
       "      <td>1000M500D1</td>\n",
       "      <td>Crucial</td>\n",
       "      <td>SATA3</td>\n",
       "      <td>Component</td>\n",
       "      <td>Solid State Drive</td>\n",
       "      <td>SATA3</td>\n",
       "      <td>135.3</td>\n",
       "      <td>101.475</td>\n",
       "      <td>0</td>\n",
       "      <td>2.5</td>\n",
       "      <td>31.325</td>\n",
       "      <td>Recurring</td>\n",
       "      <td>13-Feb-19</td>\n",
       "      <td>Y</td>\n",
       "      <td>0.25</td>\n",
       "      <td>51</td>\n",
       "    </tr>\n",
       "    <tr>\n",
       "      <td>1</td>\n",
       "      <td>1000M500D1</td>\n",
       "      <td>Crucial</td>\n",
       "      <td>SATA3</td>\n",
       "      <td>Component</td>\n",
       "      <td>Solid State Drive</td>\n",
       "      <td>SATA3</td>\n",
       "      <td>135.3</td>\n",
       "      <td>101.475</td>\n",
       "      <td>0</td>\n",
       "      <td>2.5</td>\n",
       "      <td>31.325</td>\n",
       "      <td>Recurring</td>\n",
       "      <td>14-Feb-19</td>\n",
       "      <td>Y</td>\n",
       "      <td>0.25</td>\n",
       "      <td>51</td>\n",
       "    </tr>\n",
       "    <tr>\n",
       "      <td>2</td>\n",
       "      <td>1000M500D1</td>\n",
       "      <td>Crucial</td>\n",
       "      <td>SATA3</td>\n",
       "      <td>Component</td>\n",
       "      <td>Solid State Drive</td>\n",
       "      <td>SATA3</td>\n",
       "      <td>135.3</td>\n",
       "      <td>101.475</td>\n",
       "      <td>0</td>\n",
       "      <td>2.5</td>\n",
       "      <td>31.325</td>\n",
       "      <td>Recurring</td>\n",
       "      <td>15-Feb-19</td>\n",
       "      <td>Y</td>\n",
       "      <td>0.25</td>\n",
       "      <td>51</td>\n",
       "    </tr>\n",
       "    <tr>\n",
       "      <td>3</td>\n",
       "      <td>1000M500D1</td>\n",
       "      <td>Crucial</td>\n",
       "      <td>SATA3</td>\n",
       "      <td>Component</td>\n",
       "      <td>Solid State Drive</td>\n",
       "      <td>SATA3</td>\n",
       "      <td>135.3</td>\n",
       "      <td>101.475</td>\n",
       "      <td>0</td>\n",
       "      <td>2.5</td>\n",
       "      <td>31.325</td>\n",
       "      <td>Recurring</td>\n",
       "      <td>16-Feb-19</td>\n",
       "      <td>Y</td>\n",
       "      <td>0.25</td>\n",
       "      <td>51</td>\n",
       "    </tr>\n",
       "    <tr>\n",
       "      <td>4</td>\n",
       "      <td>1000M500D1</td>\n",
       "      <td>Crucial</td>\n",
       "      <td>SATA3</td>\n",
       "      <td>Component</td>\n",
       "      <td>Solid State Drive</td>\n",
       "      <td>SATA3</td>\n",
       "      <td>135.3</td>\n",
       "      <td>101.475</td>\n",
       "      <td>0</td>\n",
       "      <td>2.5</td>\n",
       "      <td>31.325</td>\n",
       "      <td>Recurring</td>\n",
       "      <td>17-Feb-19</td>\n",
       "      <td>Y</td>\n",
       "      <td>0.25</td>\n",
       "      <td>51</td>\n",
       "    </tr>\n",
       "    <tr>\n",
       "      <td>5</td>\n",
       "      <td>1000M500D1</td>\n",
       "      <td>Crucial</td>\n",
       "      <td>SATA3</td>\n",
       "      <td>Component</td>\n",
       "      <td>Solid State Drive</td>\n",
       "      <td>SATA3</td>\n",
       "      <td>135.3</td>\n",
       "      <td>101.475</td>\n",
       "      <td>0</td>\n",
       "      <td>2.5</td>\n",
       "      <td>31.325</td>\n",
       "      <td>Recurring</td>\n",
       "      <td>18-Feb-19</td>\n",
       "      <td>Y</td>\n",
       "      <td>0.25</td>\n",
       "      <td>51</td>\n",
       "    </tr>\n",
       "    <tr>\n",
       "      <td>6</td>\n",
       "      <td>1000M500D1</td>\n",
       "      <td>Crucial</td>\n",
       "      <td>SATA3</td>\n",
       "      <td>Component</td>\n",
       "      <td>Solid State Drive</td>\n",
       "      <td>SATA3</td>\n",
       "      <td>135.3</td>\n",
       "      <td>101.475</td>\n",
       "      <td>0</td>\n",
       "      <td>2.5</td>\n",
       "      <td>31.325</td>\n",
       "      <td>Recurring</td>\n",
       "      <td>19-Feb-19</td>\n",
       "      <td>Y</td>\n",
       "      <td>0.25</td>\n",
       "      <td>51</td>\n",
       "    </tr>\n",
       "    <tr>\n",
       "      <td>7</td>\n",
       "      <td>1000M500D1</td>\n",
       "      <td>Crucial</td>\n",
       "      <td>SATA3</td>\n",
       "      <td>Component</td>\n",
       "      <td>Solid State Drive</td>\n",
       "      <td>SATA3</td>\n",
       "      <td>135.3</td>\n",
       "      <td>101.475</td>\n",
       "      <td>0</td>\n",
       "      <td>2.5</td>\n",
       "      <td>31.325</td>\n",
       "      <td>Recurring</td>\n",
       "      <td>20-Feb-19</td>\n",
       "      <td>Y</td>\n",
       "      <td>0.25</td>\n",
       "      <td>51</td>\n",
       "    </tr>\n",
       "    <tr>\n",
       "      <td>8</td>\n",
       "      <td>1000M500D1</td>\n",
       "      <td>Crucial</td>\n",
       "      <td>SATA3</td>\n",
       "      <td>Component</td>\n",
       "      <td>Solid State Drive</td>\n",
       "      <td>SATA3</td>\n",
       "      <td>135.3</td>\n",
       "      <td>101.475</td>\n",
       "      <td>0</td>\n",
       "      <td>2.5</td>\n",
       "      <td>31.325</td>\n",
       "      <td>Recurring</td>\n",
       "      <td>21-Feb-19</td>\n",
       "      <td>Y</td>\n",
       "      <td>0.25</td>\n",
       "      <td>51</td>\n",
       "    </tr>\n",
       "    <tr>\n",
       "      <td>9</td>\n",
       "      <td>1000M500D1</td>\n",
       "      <td>Crucial</td>\n",
       "      <td>SATA3</td>\n",
       "      <td>Component</td>\n",
       "      <td>Solid State Drive</td>\n",
       "      <td>SATA3</td>\n",
       "      <td>135.3</td>\n",
       "      <td>101.475</td>\n",
       "      <td>0</td>\n",
       "      <td>2.5</td>\n",
       "      <td>31.325</td>\n",
       "      <td>Recurring</td>\n",
       "      <td>22-Feb-19</td>\n",
       "      <td>Y</td>\n",
       "      <td>0.25</td>\n",
       "      <td>51</td>\n",
       "    </tr>\n",
       "  </tbody>\n",
       "</table>\n",
       "</div>"
      ],
      "text/plain": [
       "      Item No Manufacturer Category Category Path 1    Category Path 2  \\\n",
       "0  1000M500D1      Crucial    SATA3       Component  Solid State Drive   \n",
       "1  1000M500D1      Crucial    SATA3       Component  Solid State Drive   \n",
       "2  1000M500D1      Crucial    SATA3       Component  Solid State Drive   \n",
       "3  1000M500D1      Crucial    SATA3       Component  Solid State Drive   \n",
       "4  1000M500D1      Crucial    SATA3       Component  Solid State Drive   \n",
       "5  1000M500D1      Crucial    SATA3       Component  Solid State Drive   \n",
       "6  1000M500D1      Crucial    SATA3       Component  Solid State Drive   \n",
       "7  1000M500D1      Crucial    SATA3       Component  Solid State Drive   \n",
       "8  1000M500D1      Crucial    SATA3       Component  Solid State Drive   \n",
       "9  1000M500D1      Crucial    SATA3       Component  Solid State Drive   \n",
       "\n",
       "  Category Path 3  Price(USD)  Cost price  Inventory  Shipping  Profit  \\\n",
       "0           SATA3       135.3     101.475          0       2.5  31.325   \n",
       "1           SATA3       135.3     101.475          0       2.5  31.325   \n",
       "2           SATA3       135.3     101.475          0       2.5  31.325   \n",
       "3           SATA3       135.3     101.475          0       2.5  31.325   \n",
       "4           SATA3       135.3     101.475          0       2.5  31.325   \n",
       "5           SATA3       135.3     101.475          0       2.5  31.325   \n",
       "6           SATA3       135.3     101.475          0       2.5  31.325   \n",
       "7           SATA3       135.3     101.475          0       2.5  31.325   \n",
       "8           SATA3       135.3     101.475          0       2.5  31.325   \n",
       "9           SATA3       135.3     101.475          0       2.5  31.325   \n",
       "\n",
       "  STOCK TYPE       Date In Stock  weight(lb)  Initial Stock  \n",
       "0  Recurring  13-Feb-19        Y        0.25             51  \n",
       "1  Recurring  14-Feb-19        Y        0.25             51  \n",
       "2  Recurring  15-Feb-19        Y        0.25             51  \n",
       "3  Recurring  16-Feb-19        Y        0.25             51  \n",
       "4  Recurring  17-Feb-19        Y        0.25             51  \n",
       "5  Recurring  18-Feb-19        Y        0.25             51  \n",
       "6  Recurring  19-Feb-19        Y        0.25             51  \n",
       "7  Recurring  20-Feb-19        Y        0.25             51  \n",
       "8  Recurring  21-Feb-19        Y        0.25             51  \n",
       "9  Recurring  22-Feb-19        Y        0.25             51  "
      ]
     },
     "execution_count": 1,
     "metadata": {},
     "output_type": "execute_result"
    }
   ],
   "source": [
    "import pandas as pd\n",
    "import pandas_profiling\n",
    "import numpy as np\n",
    "data = pd.read_csv('ML_data_LSTM.csv')\n",
    "data.reset_index(drop=True, inplace=True)\n",
    "data = data.drop(['Manufacturer No', 'Product Name', 'List No',\n",
    "                 'UPC Code', 'SaleRate', 'SaleRateNew'], axis=1)\n",
    "data.head(10)"
   ]
  },
  {
   "cell_type": "code",
   "execution_count": 3,
   "metadata": {},
   "outputs": [
    {
     "name": "stdout",
     "output_type": "stream",
     "text": [
      "(378000, 16)\n",
      "(378000, 16)\n"
     ]
    }
   ],
   "source": [
    "print(data.shape)\n",
    "data = data[data.Inventory != '#REF!']\n",
    "print(data.shape)"
   ]
  },
  {
   "cell_type": "code",
   "execution_count": 4,
   "metadata": {},
   "outputs": [
    {
     "data": {
      "text/plain": [
       "Index(['Item No', 'Manufacturer', 'Category', 'Category Path 1',\n",
       "       'Category Path 2', 'Category Path 3', 'Price(USD)', 'Cost price',\n",
       "       'Inventory', 'Shipping', 'Profit', 'STOCK TYPE', 'Date', 'In Stock',\n",
       "       'weight(lb)', 'Initial Stock'],\n",
       "      dtype='object')"
      ]
     },
     "execution_count": 4,
     "metadata": {},
     "output_type": "execute_result"
    }
   ],
   "source": [
    "data.columns"
   ]
  },
  {
   "cell_type": "code",
   "execution_count": 5,
   "metadata": {},
   "outputs": [
    {
     "data": {
      "text/html": [
       "<div>\n",
       "<style scoped>\n",
       "    .dataframe tbody tr th:only-of-type {\n",
       "        vertical-align: middle;\n",
       "    }\n",
       "\n",
       "    .dataframe tbody tr th {\n",
       "        vertical-align: top;\n",
       "    }\n",
       "\n",
       "    .dataframe thead th {\n",
       "        text-align: right;\n",
       "    }\n",
       "</style>\n",
       "<table border=\"1\" class=\"dataframe\">\n",
       "  <thead>\n",
       "    <tr style=\"text-align: right;\">\n",
       "      <th></th>\n",
       "      <th>Item No</th>\n",
       "      <th>Manufacturer</th>\n",
       "      <th>Category</th>\n",
       "      <th>Category Path 1</th>\n",
       "      <th>Category Path 2</th>\n",
       "      <th>Category Path 3</th>\n",
       "      <th>Price(USD)</th>\n",
       "      <th>Cost price</th>\n",
       "      <th>Inventory</th>\n",
       "      <th>Shipping</th>\n",
       "      <th>Profit</th>\n",
       "      <th>STOCK TYPE</th>\n",
       "      <th>Date</th>\n",
       "      <th>In Stock</th>\n",
       "      <th>weight(lb)</th>\n",
       "      <th>Initial Stock</th>\n",
       "    </tr>\n",
       "  </thead>\n",
       "  <tbody>\n",
       "  </tbody>\n",
       "</table>\n",
       "</div>"
      ],
      "text/plain": [
       "Empty DataFrame\n",
       "Columns: [Item No, Manufacturer, Category, Category Path 1, Category Path 2, Category Path 3, Price(USD), Cost price, Inventory, Shipping, Profit, STOCK TYPE, Date, In Stock, weight(lb), Initial Stock]\n",
       "Index: []"
      ]
     },
     "execution_count": 5,
     "metadata": {},
     "output_type": "execute_result"
    }
   ],
   "source": [
    "data[pd.to_numeric(data.Inventory, errors='coerce').isnull()]"
   ]
  },
  {
   "cell_type": "code",
   "execution_count": 6,
   "metadata": {},
   "outputs": [
    {
     "name": "stdout",
     "output_type": "stream",
     "text": [
      "Item No             object\n",
      "Manufacturer        object\n",
      "Category            object\n",
      "Category Path 1     object\n",
      "Category Path 2     object\n",
      "Category Path 3     object\n",
      "Price(USD)         float64\n",
      "Cost price         float64\n",
      "Inventory            int64\n",
      "Shipping           float64\n",
      "Profit             float64\n",
      "STOCK TYPE          object\n",
      "Date                object\n",
      "In Stock            object\n",
      "weight(lb)         float64\n",
      "Initial Stock        int64\n",
      "dtype: object\n",
      "Item No             object\n",
      "Manufacturer        object\n",
      "Category            object\n",
      "Category Path 1     object\n",
      "Category Path 2     object\n",
      "Category Path 3     object\n",
      "Price(USD)         float64\n",
      "Cost price         float64\n",
      "Inventory            int32\n",
      "Shipping           float64\n",
      "Profit             float64\n",
      "STOCK TYPE          object\n",
      "Date                object\n",
      "In Stock            object\n",
      "weight(lb)         float64\n",
      "Initial Stock        int64\n",
      "dtype: object\n"
     ]
    }
   ],
   "source": [
    "print(data.dtypes)\n",
    "data.Inventory = data.Inventory.astype(str).astype(int)\n",
    "print(data.dtypes)"
   ]
  },
  {
   "cell_type": "code",
   "execution_count": 7,
   "metadata": {},
   "outputs": [],
   "source": [
    "data = data.fillna(data.median()) "
   ]
  },
  {
   "cell_type": "code",
   "execution_count": 8,
   "metadata": {},
   "outputs": [
    {
     "name": "stdout",
     "output_type": "stream",
     "text": [
      "Statistics=544710.273, p=0.000\n",
      "Data does not look Gaussian (reject H0)\n"
     ]
    }
   ],
   "source": [
    "from scipy import stats\n",
    "stat, p = stats.normaltest(data.Inventory)\n",
    "print('Statistics=%.3f, p=%.3f' % (stat, p))\n",
    "alpha = 0.05\n",
    "if p > alpha:\n",
    "    print('Data looks Gaussian (fail to reject H0)')\n",
    "else:\n",
    "    print('Data does not look Gaussian (reject H0)')"
   ]
  },
  {
   "cell_type": "code",
   "execution_count": 9,
   "metadata": {},
   "outputs": [
    {
     "name": "stdout",
     "output_type": "stream",
     "text": [
      "Kurtosis of normal distribution: 100.53200586916208\n",
      "Skewness of normal distribution: 8.829737356772588\n"
     ]
    },
    {
     "data": {
      "image/png": "[encoded data removed]",
      "text/plain": [
       "<Figure size 432x288 with 1 Axes>"
      ]
     },
     "metadata": {
      "needs_background": "light"
     },
     "output_type": "display_data"
    }
   ],
   "source": [
    "import seaborn as sns\n",
    "%matplotlib inline\n",
    "sns.distplot(data.Inventory);\n",
    "print( 'Kurtosis of normal distribution: {}'.format(stats.kurtosis(data.Inventory)))\n",
    "print( 'Skewness of normal distribution: {}'.format(stats.skew(data.Inventory)))"
   ]
  },
  {
   "cell_type": "code",
   "execution_count": 10,
   "metadata": {},
   "outputs": [
    {
     "name": "stdout",
     "output_type": "stream",
     "text": [
      "(4200, 16)\n",
      "(2670, 16)\n",
      "(333, 16)\n",
      "(152, 16)\n",
      "(79, 16)\n"
     ]
    }
   ],
   "source": [
    "stock_data = data[data.Date == '01-Jan-19']\n",
    "print(stock_data[stock_data.Inventory > 0].shape)\n",
    "print(stock_data[stock_data.Inventory > 10].shape)\n",
    "print(stock_data[stock_data.Inventory > 100].shape)\n",
    "print(stock_data[stock_data.Inventory > 200].shape)\n",
    "print(stock_data[stock_data.Inventory > 300].shape)"
   ]
  },
  {
   "cell_type": "code",
   "execution_count": 11,
   "metadata": {},
   "outputs": [],
   "source": [
    "nominal_data = data.select_dtypes(include=[object])\n",
    "ordinal_data = data.drop(list(nominal_data.columns), axis=1)\n",
    "nominal_data = nominal_data.replace(np.nan, 'Default', regex=True)"
   ]
  },
  {
   "cell_type": "code",
   "execution_count": null,
   "metadata": {},
   "outputs": [],
   "source": [
    "from sklearn import preprocessing\n",
    "nominal_data_2 = nominal_data\n",
    "# 1. INSTANTIATE\n",
    "enc = preprocessing.OneHotEncoder()\n",
    "# 2. FIT\n",
    "enc.fit(nominal_data_2)\n",
    "# 3. Transform\n",
    "onehotlabels = enc.transform(nominal_data_2).toarray()\n",
    "print(onehotlabels.shape)\n",
    "(4200, 30, 553)"
   ]
  },
  {
   "cell_type": "code",
   "execution_count": null,
   "metadata": {},
   "outputs": [],
   "source": [
    "encoded_data = pd.concat([ordinal_data, pd.DataFrame(onehotlabels)], axis=1)"
   ]
  },
  {
   "cell_type": "code",
   "execution_count": null,
   "metadata": {},
   "outputs": [],
   "source": [
    "new_data = encoded_data.groupby('')\n",
    "\n"
   ]
  },
  {
   "cell_type": "code",
   "execution_count": 72,
   "metadata": {},
   "outputs": [
    {
     "data": {
      "text/plain": [
       "Manufacturer  Category  Category Path 1  Category Path 2  Category Path 3\n",
       "AIC           1U        Component        Server           Server Barebone    [26-Mar-19, 27-Mar-19, 28-Mar-19, 29-Mar-19, 3...\n",
       "Name: Date, dtype: object"
      ]
     },
     "execution_count": 72,
     "metadata": {},
     "output_type": "execute_result"
    }
   ],
   "source": [
    "new_data.head(5)\n",
    "new_data = new_data.aggregate(lambda x: list(x))\n",
    "new_data.head(1).Date"
   ]
  },
  {
   "cell_type": "code",
   "execution_count": 78,
   "metadata": {},
   "outputs": [
    {
     "data": {
      "text/plain": [
       "Index(['Price(USD)', 'Cost price', 'Inventory', 'Shipping', 'Profit',\n",
       "       'STOCK TYPE', 'Date', 'In Stock', 'weight(lb)', 'Initial Stock'],\n",
       "      dtype='object')"
      ]
     },
     "execution_count": 78,
     "metadata": {},
     "output_type": "execute_result"
    }
   ],
   "source": []
  },
  {
   "cell_type": "code",
   "execution_count": 38,
   "metadata": {},
   "outputs": [
    {
     "ename": "AttributeError",
     "evalue": "'numpy.ndarray' object has no attribute 'head'",
     "output_type": "error",
     "traceback": [
      "\u001b[1;31m---------------------------------------------------------------------------\u001b[0m",
      "\u001b[1;31mAttributeError\u001b[0m                            Traceback (most recent call last)",
      "\u001b[1;32m<ipython-input-38-fe506a466b64>\u001b[0m in \u001b[0;36m<module>\u001b[1;34m\u001b[0m\n\u001b[0;32m      2\u001b[0m \u001b[0mscaler\u001b[0m \u001b[1;33m=\u001b[0m \u001b[0mStandardScaler\u001b[0m\u001b[1;33m(\u001b[0m\u001b[1;33m)\u001b[0m\u001b[1;33m\u001b[0m\u001b[1;33m\u001b[0m\u001b[0m\n\u001b[0;32m      3\u001b[0m \u001b[0mdata_scaler\u001b[0m \u001b[1;33m=\u001b[0m \u001b[0mscaler\u001b[0m\u001b[1;33m.\u001b[0m\u001b[0mfit_transform\u001b[0m\u001b[1;33m(\u001b[0m\u001b[0mencoded_data\u001b[0m\u001b[1;33m)\u001b[0m\u001b[1;33m\u001b[0m\u001b[1;33m\u001b[0m\u001b[0m\n\u001b[1;32m----> 4\u001b[1;33m \u001b[0mdata_scaler\u001b[0m\u001b[1;33m.\u001b[0m\u001b[0mhead\u001b[0m\u001b[1;33m(\u001b[0m\u001b[1;36m10\u001b[0m\u001b[1;33m)\u001b[0m\u001b[1;33m\u001b[0m\u001b[1;33m\u001b[0m\u001b[0m\n\u001b[0m",
      "\u001b[1;31mAttributeError\u001b[0m: 'numpy.ndarray' object has no attribute 'head'"
     ]
    }
   ],
   "source": [
    "from sklearn.preprocessing import StandardScaler\n",
    "scaler = StandardScaler()\n",
    "data_scaler = scaler.fit_transform(encoded_data)"
   ]
  },
  {
   "cell_type": "code",
   "execution_count": 40,
   "metadata": {},
   "outputs": [
    {
     "data": {
      "text/html": [
       "<div>\n",
       "<style scoped>\n",
       "    .dataframe tbody tr th:only-of-type {\n",
       "        vertical-align: middle;\n",
       "    }\n",
       "\n",
       "    .dataframe tbody tr th {\n",
       "        vertical-align: top;\n",
       "    }\n",
       "\n",
       "    .dataframe thead th {\n",
       "        text-align: right;\n",
       "    }\n",
       "</style>\n",
       "<table border=\"1\" class=\"dataframe\">\n",
       "  <thead>\n",
       "    <tr style=\"text-align: right;\">\n",
       "      <th></th>\n",
       "      <th>Price(USD)</th>\n",
       "      <th>Cost price</th>\n",
       "      <th>Inventory</th>\n",
       "      <th>Shipping</th>\n",
       "      <th>Profit</th>\n",
       "      <th>weight(lb)</th>\n",
       "      <th>Initial Stock</th>\n",
       "      <th>0</th>\n",
       "      <th>1</th>\n",
       "      <th>2</th>\n",
       "      <th>...</th>\n",
       "      <th>543</th>\n",
       "      <th>544</th>\n",
       "      <th>545</th>\n",
       "      <th>546</th>\n",
       "      <th>547</th>\n",
       "      <th>548</th>\n",
       "      <th>549</th>\n",
       "      <th>550</th>\n",
       "      <th>551</th>\n",
       "      <th>552</th>\n",
       "    </tr>\n",
       "  </thead>\n",
       "  <tbody>\n",
       "    <tr>\n",
       "      <td>0</td>\n",
       "      <td>-0.244112</td>\n",
       "      <td>-0.244428</td>\n",
       "      <td>-0.287486</td>\n",
       "      <td>-0.083928</td>\n",
       "      <td>-0.239493</td>\n",
       "      <td>-0.452334</td>\n",
       "      <td>0.069655</td>\n",
       "      <td>-0.053529</td>\n",
       "      <td>-0.067412</td>\n",
       "      <td>-0.11087</td>\n",
       "      <td>...</td>\n",
       "      <td>-0.106</td>\n",
       "      <td>-0.106</td>\n",
       "      <td>-0.106</td>\n",
       "      <td>-0.106</td>\n",
       "      <td>-0.106</td>\n",
       "      <td>-0.106</td>\n",
       "      <td>-0.106</td>\n",
       "      <td>-0.106</td>\n",
       "      <td>-0.511137</td>\n",
       "      <td>0.511137</td>\n",
       "    </tr>\n",
       "    <tr>\n",
       "      <td>1</td>\n",
       "      <td>-0.244112</td>\n",
       "      <td>-0.244428</td>\n",
       "      <td>-0.287486</td>\n",
       "      <td>-0.083928</td>\n",
       "      <td>-0.239493</td>\n",
       "      <td>-0.452334</td>\n",
       "      <td>0.069655</td>\n",
       "      <td>-0.053529</td>\n",
       "      <td>-0.067412</td>\n",
       "      <td>-0.11087</td>\n",
       "      <td>...</td>\n",
       "      <td>-0.106</td>\n",
       "      <td>-0.106</td>\n",
       "      <td>-0.106</td>\n",
       "      <td>-0.106</td>\n",
       "      <td>-0.106</td>\n",
       "      <td>-0.106</td>\n",
       "      <td>-0.106</td>\n",
       "      <td>-0.106</td>\n",
       "      <td>-0.511137</td>\n",
       "      <td>0.511137</td>\n",
       "    </tr>\n",
       "    <tr>\n",
       "      <td>2</td>\n",
       "      <td>-0.244112</td>\n",
       "      <td>-0.244428</td>\n",
       "      <td>-0.287486</td>\n",
       "      <td>-0.083928</td>\n",
       "      <td>-0.239493</td>\n",
       "      <td>-0.452334</td>\n",
       "      <td>0.069655</td>\n",
       "      <td>-0.053529</td>\n",
       "      <td>-0.067412</td>\n",
       "      <td>-0.11087</td>\n",
       "      <td>...</td>\n",
       "      <td>-0.106</td>\n",
       "      <td>-0.106</td>\n",
       "      <td>-0.106</td>\n",
       "      <td>-0.106</td>\n",
       "      <td>-0.106</td>\n",
       "      <td>-0.106</td>\n",
       "      <td>-0.106</td>\n",
       "      <td>-0.106</td>\n",
       "      <td>-0.511137</td>\n",
       "      <td>0.511137</td>\n",
       "    </tr>\n",
       "    <tr>\n",
       "      <td>3</td>\n",
       "      <td>-0.244112</td>\n",
       "      <td>-0.244428</td>\n",
       "      <td>-0.287486</td>\n",
       "      <td>-0.083928</td>\n",
       "      <td>-0.239493</td>\n",
       "      <td>-0.452334</td>\n",
       "      <td>0.069655</td>\n",
       "      <td>-0.053529</td>\n",
       "      <td>-0.067412</td>\n",
       "      <td>-0.11087</td>\n",
       "      <td>...</td>\n",
       "      <td>-0.106</td>\n",
       "      <td>-0.106</td>\n",
       "      <td>-0.106</td>\n",
       "      <td>-0.106</td>\n",
       "      <td>-0.106</td>\n",
       "      <td>-0.106</td>\n",
       "      <td>-0.106</td>\n",
       "      <td>-0.106</td>\n",
       "      <td>-0.511137</td>\n",
       "      <td>0.511137</td>\n",
       "    </tr>\n",
       "    <tr>\n",
       "      <td>4</td>\n",
       "      <td>-0.244112</td>\n",
       "      <td>-0.244428</td>\n",
       "      <td>-0.287486</td>\n",
       "      <td>-0.083928</td>\n",
       "      <td>-0.239493</td>\n",
       "      <td>-0.452334</td>\n",
       "      <td>0.069655</td>\n",
       "      <td>-0.053529</td>\n",
       "      <td>-0.067412</td>\n",
       "      <td>-0.11087</td>\n",
       "      <td>...</td>\n",
       "      <td>-0.106</td>\n",
       "      <td>-0.106</td>\n",
       "      <td>-0.106</td>\n",
       "      <td>-0.106</td>\n",
       "      <td>-0.106</td>\n",
       "      <td>-0.106</td>\n",
       "      <td>-0.106</td>\n",
       "      <td>-0.106</td>\n",
       "      <td>-0.511137</td>\n",
       "      <td>0.511137</td>\n",
       "    </tr>\n",
       "    <tr>\n",
       "      <td>5</td>\n",
       "      <td>-0.244112</td>\n",
       "      <td>-0.244428</td>\n",
       "      <td>-0.287486</td>\n",
       "      <td>-0.083928</td>\n",
       "      <td>-0.239493</td>\n",
       "      <td>-0.452334</td>\n",
       "      <td>0.069655</td>\n",
       "      <td>-0.053529</td>\n",
       "      <td>-0.067412</td>\n",
       "      <td>-0.11087</td>\n",
       "      <td>...</td>\n",
       "      <td>-0.106</td>\n",
       "      <td>-0.106</td>\n",
       "      <td>-0.106</td>\n",
       "      <td>-0.106</td>\n",
       "      <td>-0.106</td>\n",
       "      <td>-0.106</td>\n",
       "      <td>-0.106</td>\n",
       "      <td>-0.106</td>\n",
       "      <td>-0.511137</td>\n",
       "      <td>0.511137</td>\n",
       "    </tr>\n",
       "    <tr>\n",
       "      <td>6</td>\n",
       "      <td>-0.244112</td>\n",
       "      <td>-0.244428</td>\n",
       "      <td>-0.287486</td>\n",
       "      <td>-0.083928</td>\n",
       "      <td>-0.239493</td>\n",
       "      <td>-0.452334</td>\n",
       "      <td>0.069655</td>\n",
       "      <td>-0.053529</td>\n",
       "      <td>-0.067412</td>\n",
       "      <td>-0.11087</td>\n",
       "      <td>...</td>\n",
       "      <td>-0.106</td>\n",
       "      <td>-0.106</td>\n",
       "      <td>-0.106</td>\n",
       "      <td>-0.106</td>\n",
       "      <td>-0.106</td>\n",
       "      <td>-0.106</td>\n",
       "      <td>-0.106</td>\n",
       "      <td>-0.106</td>\n",
       "      <td>-0.511137</td>\n",
       "      <td>0.511137</td>\n",
       "    </tr>\n",
       "    <tr>\n",
       "      <td>7</td>\n",
       "      <td>-0.244112</td>\n",
       "      <td>-0.244428</td>\n",
       "      <td>-0.287486</td>\n",
       "      <td>-0.083928</td>\n",
       "      <td>-0.239493</td>\n",
       "      <td>-0.452334</td>\n",
       "      <td>0.069655</td>\n",
       "      <td>-0.053529</td>\n",
       "      <td>-0.067412</td>\n",
       "      <td>-0.11087</td>\n",
       "      <td>...</td>\n",
       "      <td>-0.106</td>\n",
       "      <td>-0.106</td>\n",
       "      <td>-0.106</td>\n",
       "      <td>-0.106</td>\n",
       "      <td>-0.106</td>\n",
       "      <td>-0.106</td>\n",
       "      <td>-0.106</td>\n",
       "      <td>-0.106</td>\n",
       "      <td>-0.511137</td>\n",
       "      <td>0.511137</td>\n",
       "    </tr>\n",
       "    <tr>\n",
       "      <td>8</td>\n",
       "      <td>-0.244112</td>\n",
       "      <td>-0.244428</td>\n",
       "      <td>-0.287486</td>\n",
       "      <td>-0.083928</td>\n",
       "      <td>-0.239493</td>\n",
       "      <td>-0.452334</td>\n",
       "      <td>0.069655</td>\n",
       "      <td>-0.053529</td>\n",
       "      <td>-0.067412</td>\n",
       "      <td>-0.11087</td>\n",
       "      <td>...</td>\n",
       "      <td>-0.106</td>\n",
       "      <td>-0.106</td>\n",
       "      <td>-0.106</td>\n",
       "      <td>-0.106</td>\n",
       "      <td>-0.106</td>\n",
       "      <td>-0.106</td>\n",
       "      <td>-0.106</td>\n",
       "      <td>-0.106</td>\n",
       "      <td>-0.511137</td>\n",
       "      <td>0.511137</td>\n",
       "    </tr>\n",
       "    <tr>\n",
       "      <td>9</td>\n",
       "      <td>-0.244112</td>\n",
       "      <td>-0.244428</td>\n",
       "      <td>-0.287486</td>\n",
       "      <td>-0.083928</td>\n",
       "      <td>-0.239493</td>\n",
       "      <td>-0.452334</td>\n",
       "      <td>0.069655</td>\n",
       "      <td>-0.053529</td>\n",
       "      <td>-0.067412</td>\n",
       "      <td>-0.11087</td>\n",
       "      <td>...</td>\n",
       "      <td>-0.106</td>\n",
       "      <td>-0.106</td>\n",
       "      <td>-0.106</td>\n",
       "      <td>-0.106</td>\n",
       "      <td>-0.106</td>\n",
       "      <td>-0.106</td>\n",
       "      <td>-0.106</td>\n",
       "      <td>-0.106</td>\n",
       "      <td>-0.511137</td>\n",
       "      <td>0.511137</td>\n",
       "    </tr>\n",
       "  </tbody>\n",
       "</table>\n",
       "<p>10 rows × 560 columns</p>\n",
       "</div>"
      ],
      "text/plain": [
       "   Price(USD)  Cost price  Inventory  Shipping    Profit  weight(lb)  \\\n",
       "0   -0.244112   -0.244428  -0.287486 -0.083928 -0.239493   -0.452334   \n",
       "1   -0.244112   -0.244428  -0.287486 -0.083928 -0.239493   -0.452334   \n",
       "2   -0.244112   -0.244428  -0.287486 -0.083928 -0.239493   -0.452334   \n",
       "3   -0.244112   -0.244428  -0.287486 -0.083928 -0.239493   -0.452334   \n",
       "4   -0.244112   -0.244428  -0.287486 -0.083928 -0.239493   -0.452334   \n",
       "5   -0.244112   -0.244428  -0.287486 -0.083928 -0.239493   -0.452334   \n",
       "6   -0.244112   -0.244428  -0.287486 -0.083928 -0.239493   -0.452334   \n",
       "7   -0.244112   -0.244428  -0.287486 -0.083928 -0.239493   -0.452334   \n",
       "8   -0.244112   -0.244428  -0.287486 -0.083928 -0.239493   -0.452334   \n",
       "9   -0.244112   -0.244428  -0.287486 -0.083928 -0.239493   -0.452334   \n",
       "\n",
       "   Initial Stock         0         1        2  ...    543    544    545  \\\n",
       "0       0.069655 -0.053529 -0.067412 -0.11087  ... -0.106 -0.106 -0.106   \n",
       "1       0.069655 -0.053529 -0.067412 -0.11087  ... -0.106 -0.106 -0.106   \n",
       "2       0.069655 -0.053529 -0.067412 -0.11087  ... -0.106 -0.106 -0.106   \n",
       "3       0.069655 -0.053529 -0.067412 -0.11087  ... -0.106 -0.106 -0.106   \n",
       "4       0.069655 -0.053529 -0.067412 -0.11087  ... -0.106 -0.106 -0.106   \n",
       "5       0.069655 -0.053529 -0.067412 -0.11087  ... -0.106 -0.106 -0.106   \n",
       "6       0.069655 -0.053529 -0.067412 -0.11087  ... -0.106 -0.106 -0.106   \n",
       "7       0.069655 -0.053529 -0.067412 -0.11087  ... -0.106 -0.106 -0.106   \n",
       "8       0.069655 -0.053529 -0.067412 -0.11087  ... -0.106 -0.106 -0.106   \n",
       "9       0.069655 -0.053529 -0.067412 -0.11087  ... -0.106 -0.106 -0.106   \n",
       "\n",
       "     546    547    548    549    550       551       552  \n",
       "0 -0.106 -0.106 -0.106 -0.106 -0.106 -0.511137  0.511137  \n",
       "1 -0.106 -0.106 -0.106 -0.106 -0.106 -0.511137  0.511137  \n",
       "2 -0.106 -0.106 -0.106 -0.106 -0.106 -0.511137  0.511137  \n",
       "3 -0.106 -0.106 -0.106 -0.106 -0.106 -0.511137  0.511137  \n",
       "4 -0.106 -0.106 -0.106 -0.106 -0.106 -0.511137  0.511137  \n",
       "5 -0.106 -0.106 -0.106 -0.106 -0.106 -0.511137  0.511137  \n",
       "6 -0.106 -0.106 -0.106 -0.106 -0.106 -0.511137  0.511137  \n",
       "7 -0.106 -0.106 -0.106 -0.106 -0.106 -0.511137  0.511137  \n",
       "8 -0.106 -0.106 -0.106 -0.106 -0.106 -0.511137  0.511137  \n",
       "9 -0.106 -0.106 -0.106 -0.106 -0.106 -0.511137  0.511137  \n",
       "\n",
       "[10 rows x 560 columns]"
      ]
     },
     "execution_count": 40,
     "metadata": {},
     "output_type": "execute_result"
    }
   ],
   "source": [
    "encoded_scaler_data = pd.DataFrame(data_scaler, index=encoded_data.index, columns=encoded_data.columns)\n",
    "encoded_scaler_data.head(10)"
   ]
  },
  {
   "cell_type": "code",
   "execution_count": 41,
   "metadata": {},
   "outputs": [],
   "source": [
    "X = encoded_scaler_data.drop('Inventory', axis=1)\n",
    "Y = encoded_scaler_data['Inventory']"
   ]
  },
  {
   "cell_type": "code",
   "execution_count": 48,
   "metadata": {},
   "outputs": [],
   "source": [
    "from sklearn.model_selection import train_test_split\n",
    "X_train, X_test, Y_train, Y_test = train_test_split(X, Y, test_size= 0.2)"
   ]
  },
  {
   "cell_type": "code",
   "execution_count": 45,
   "metadata": {},
   "outputs": [
    {
     "name": "stderr",
     "output_type": "stream",
     "text": [
      "Using TensorFlow backend.\n",
      "WARNING:tensorflow:From C:\\ProgramData\\Anaconda3\\lib\\site-packages\\tensorflow_core\\python\\ops\\distributions\\distribution.py:265: ReparameterizationType.__init__ (from tensorflow.python.ops.distributions.distribution) is deprecated and will be removed after 2019-01-01.\n",
      "Instructions for updating:\n",
      "The TensorFlow Distributions library has moved to TensorFlow Probability (https://github.com/tensorflow/probability). You should update all references to use `tfp.distributions` instead of `tf.distributions`.\n",
      "WARNING:tensorflow:From C:\\ProgramData\\Anaconda3\\lib\\site-packages\\tensorflow_core\\python\\ops\\distributions\\bernoulli.py:169: RegisterKL.__init__ (from tensorflow.python.ops.distributions.kullback_leibler) is deprecated and will be removed after 2019-01-01.\n",
      "Instructions for updating:\n",
      "The TensorFlow Distributions library has moved to TensorFlow Probability (https://github.com/tensorflow/probability). You should update all references to use `tfp.distributions` instead of `tf.distributions`.\n"
     ]
    }
   ],
   "source": [
    "from math import sqrt\n",
    "from numpy import concatenate\n",
    "from matplotlib import pyplot\n",
    "from pandas import read_csv\n",
    "from pandas import DataFrame\n",
    "from pandas import concat\n",
    "from sklearn.preprocessing import MinMaxScaler\n",
    "from sklearn.preprocessing import LabelEncoder\n",
    "from sklearn.metrics import mean_squared_error\n",
    "from keras.models import Sequential\n",
    "from keras.layers import Dense\n",
    "from keras.layers import LSTM"
   ]
  },
  {
   "cell_type": "code",
   "execution_count": 51,
   "metadata": {},
   "outputs": [
    {
     "ename": "ValueError",
     "evalue": "Error when checking input: expected lstm_2_input to have 3 dimensions, but got array with shape (302400, 559)",
     "output_type": "error",
     "traceback": [
      "\u001b[1;31m---------------------------------------------------------------------------\u001b[0m",
      "\u001b[1;31mValueError\u001b[0m                                Traceback (most recent call last)",
      "\u001b[1;32m<ipython-input-51-3795192443a2>\u001b[0m in \u001b[0;36m<module>\u001b[1;34m\u001b[0m\n\u001b[0;32m      5\u001b[0m \u001b[0mmodel\u001b[0m\u001b[1;33m.\u001b[0m\u001b[0mcompile\u001b[0m\u001b[1;33m(\u001b[0m\u001b[0mloss\u001b[0m\u001b[1;33m=\u001b[0m\u001b[1;34m'mae'\u001b[0m\u001b[1;33m,\u001b[0m \u001b[0moptimizer\u001b[0m\u001b[1;33m=\u001b[0m\u001b[1;34m'adam'\u001b[0m\u001b[1;33m)\u001b[0m\u001b[1;33m\u001b[0m\u001b[1;33m\u001b[0m\u001b[0m\n\u001b[0;32m      6\u001b[0m \u001b[1;31m# fit network\u001b[0m\u001b[1;33m\u001b[0m\u001b[1;33m\u001b[0m\u001b[1;33m\u001b[0m\u001b[0m\n\u001b[1;32m----> 7\u001b[1;33m \u001b[0mhistory\u001b[0m \u001b[1;33m=\u001b[0m \u001b[0mmodel\u001b[0m\u001b[1;33m.\u001b[0m\u001b[0mfit\u001b[0m\u001b[1;33m(\u001b[0m\u001b[0mX_train\u001b[0m\u001b[1;33m,\u001b[0m \u001b[0mY_train\u001b[0m\u001b[1;33m,\u001b[0m \u001b[0mepochs\u001b[0m\u001b[1;33m=\u001b[0m\u001b[1;36m50\u001b[0m\u001b[1;33m,\u001b[0m \u001b[0mbatch_size\u001b[0m\u001b[1;33m=\u001b[0m\u001b[1;36m72\u001b[0m\u001b[1;33m,\u001b[0m \u001b[0mvalidation_data\u001b[0m\u001b[1;33m=\u001b[0m\u001b[1;33m(\u001b[0m\u001b[0mX_test\u001b[0m\u001b[1;33m,\u001b[0m \u001b[0mY_test\u001b[0m\u001b[1;33m)\u001b[0m\u001b[1;33m,\u001b[0m \u001b[0mverbose\u001b[0m\u001b[1;33m=\u001b[0m\u001b[1;36m2\u001b[0m\u001b[1;33m,\u001b[0m \u001b[0mshuffle\u001b[0m\u001b[1;33m=\u001b[0m\u001b[1;32mFalse\u001b[0m\u001b[1;33m)\u001b[0m\u001b[1;33m\u001b[0m\u001b[1;33m\u001b[0m\u001b[0m\n\u001b[0m\u001b[0;32m      8\u001b[0m \u001b[1;31m# plot history\u001b[0m\u001b[1;33m\u001b[0m\u001b[1;33m\u001b[0m\u001b[1;33m\u001b[0m\u001b[0m\n\u001b[0;32m      9\u001b[0m \u001b[0mpyplot\u001b[0m\u001b[1;33m.\u001b[0m\u001b[0mplot\u001b[0m\u001b[1;33m(\u001b[0m\u001b[0mhistory\u001b[0m\u001b[1;33m.\u001b[0m\u001b[0mhistory\u001b[0m\u001b[1;33m[\u001b[0m\u001b[1;34m'loss'\u001b[0m\u001b[1;33m]\u001b[0m\u001b[1;33m,\u001b[0m \u001b[0mlabel\u001b[0m\u001b[1;33m=\u001b[0m\u001b[1;34m'train'\u001b[0m\u001b[1;33m)\u001b[0m\u001b[1;33m\u001b[0m\u001b[1;33m\u001b[0m\u001b[0m\n",
      "\u001b[1;32mC:\\ProgramData\\Anaconda3\\lib\\site-packages\\keras\\engine\\training.py\u001b[0m in \u001b[0;36mfit\u001b[1;34m(self, x, y, batch_size, epochs, verbose, callbacks, validation_split, validation_data, shuffle, class_weight, sample_weight, initial_epoch, steps_per_epoch, validation_steps, **kwargs)\u001b[0m\n\u001b[0;32m    950\u001b[0m             \u001b[0msample_weight\u001b[0m\u001b[1;33m=\u001b[0m\u001b[0msample_weight\u001b[0m\u001b[1;33m,\u001b[0m\u001b[1;33m\u001b[0m\u001b[1;33m\u001b[0m\u001b[0m\n\u001b[0;32m    951\u001b[0m             \u001b[0mclass_weight\u001b[0m\u001b[1;33m=\u001b[0m\u001b[0mclass_weight\u001b[0m\u001b[1;33m,\u001b[0m\u001b[1;33m\u001b[0m\u001b[1;33m\u001b[0m\u001b[0m\n\u001b[1;32m--> 952\u001b[1;33m             batch_size=batch_size)\n\u001b[0m\u001b[0;32m    953\u001b[0m         \u001b[1;31m# Prepare validation data.\u001b[0m\u001b[1;33m\u001b[0m\u001b[1;33m\u001b[0m\u001b[1;33m\u001b[0m\u001b[0m\n\u001b[0;32m    954\u001b[0m         \u001b[0mdo_validation\u001b[0m \u001b[1;33m=\u001b[0m \u001b[1;32mFalse\u001b[0m\u001b[1;33m\u001b[0m\u001b[1;33m\u001b[0m\u001b[0m\n",
      "\u001b[1;32mC:\\ProgramData\\Anaconda3\\lib\\site-packages\\keras\\engine\\training.py\u001b[0m in \u001b[0;36m_standardize_user_data\u001b[1;34m(self, x, y, sample_weight, class_weight, check_array_lengths, batch_size)\u001b[0m\n\u001b[0;32m    749\u001b[0m             \u001b[0mfeed_input_shapes\u001b[0m\u001b[1;33m,\u001b[0m\u001b[1;33m\u001b[0m\u001b[1;33m\u001b[0m\u001b[0m\n\u001b[0;32m    750\u001b[0m             \u001b[0mcheck_batch_axis\u001b[0m\u001b[1;33m=\u001b[0m\u001b[1;32mFalse\u001b[0m\u001b[1;33m,\u001b[0m  \u001b[1;31m# Don't enforce the batch size.\u001b[0m\u001b[1;33m\u001b[0m\u001b[1;33m\u001b[0m\u001b[0m\n\u001b[1;32m--> 751\u001b[1;33m             exception_prefix='input')\n\u001b[0m\u001b[0;32m    752\u001b[0m \u001b[1;33m\u001b[0m\u001b[0m\n\u001b[0;32m    753\u001b[0m         \u001b[1;32mif\u001b[0m \u001b[0my\u001b[0m \u001b[1;32mis\u001b[0m \u001b[1;32mnot\u001b[0m \u001b[1;32mNone\u001b[0m\u001b[1;33m:\u001b[0m\u001b[1;33m\u001b[0m\u001b[1;33m\u001b[0m\u001b[0m\n",
      "\u001b[1;32mC:\\ProgramData\\Anaconda3\\lib\\site-packages\\keras\\engine\\training_utils.py\u001b[0m in \u001b[0;36mstandardize_input_data\u001b[1;34m(data, names, shapes, check_batch_axis, exception_prefix)\u001b[0m\n\u001b[0;32m    126\u001b[0m                         \u001b[1;34m': expected '\u001b[0m \u001b[1;33m+\u001b[0m \u001b[0mnames\u001b[0m\u001b[1;33m[\u001b[0m\u001b[0mi\u001b[0m\u001b[1;33m]\u001b[0m \u001b[1;33m+\u001b[0m \u001b[1;34m' to have '\u001b[0m \u001b[1;33m+\u001b[0m\u001b[1;33m\u001b[0m\u001b[1;33m\u001b[0m\u001b[0m\n\u001b[0;32m    127\u001b[0m                         \u001b[0mstr\u001b[0m\u001b[1;33m(\u001b[0m\u001b[0mlen\u001b[0m\u001b[1;33m(\u001b[0m\u001b[0mshape\u001b[0m\u001b[1;33m)\u001b[0m\u001b[1;33m)\u001b[0m \u001b[1;33m+\u001b[0m \u001b[1;34m' dimensions, but got array '\u001b[0m\u001b[1;33m\u001b[0m\u001b[1;33m\u001b[0m\u001b[0m\n\u001b[1;32m--> 128\u001b[1;33m                         'with shape ' + str(data_shape))\n\u001b[0m\u001b[0;32m    129\u001b[0m                 \u001b[1;32mif\u001b[0m \u001b[1;32mnot\u001b[0m \u001b[0mcheck_batch_axis\u001b[0m\u001b[1;33m:\u001b[0m\u001b[1;33m\u001b[0m\u001b[1;33m\u001b[0m\u001b[0m\n\u001b[0;32m    130\u001b[0m                     \u001b[0mdata_shape\u001b[0m \u001b[1;33m=\u001b[0m \u001b[0mdata_shape\u001b[0m\u001b[1;33m[\u001b[0m\u001b[1;36m1\u001b[0m\u001b[1;33m:\u001b[0m\u001b[1;33m]\u001b[0m\u001b[1;33m\u001b[0m\u001b[1;33m\u001b[0m\u001b[0m\n",
      "\u001b[1;31mValueError\u001b[0m: Error when checking input: expected lstm_2_input to have 3 dimensions, but got array with shape (302400, 559)"
     ]
    }
   ],
   "source": [
    "# design network\n",
    "model = Sequential()\n",
    "model.add(LSTM(50, input_shape=(X_train.shape[0], X_train.shape[1])))\n",
    "model.add(Dense(1))\n",
    "model.compile(loss='mae', optimizer='adam')\n",
    "# fit network\n",
    "history = model.fit(X_train, Y_train, epochs=50, batch_size=72, validation_data=(X_test, Y_test), verbose=2, shuffle=False)\n",
    "# plot history\n",
    "pyplot.plot(history.history['loss'], label='train')\n",
    "pyplot.plot(history.history['val_loss'], label='test')\n",
    "pyplot.legend()\n",
    "pyplot.show()"
   ]
  },
  {
   "cell_type": "code",
   "execution_count": 16,
   "metadata": {},
   "outputs": [
    {
     "name": "stdout",
     "output_type": "stream",
     "text": [
      "Collecting package metadata (current_repodata.json): ...working... done\n",
      "Solving environment: ...working... failed with initial frozen solve. Retrying with flexible solve.\n",
      "Solving environment: ...working... failed with repodata from current_repodata.json, will retry with next repodata source.\n",
      "Collecting package metadata (repodata.json): ...working... done\n",
      "Solving environment: ...working... done\n",
      "\n",
      "## Package Plan ##\n",
      "\n",
      "  environment location: C:\\ProgramData\\Anaconda3\n",
      "\n",
      "  added / updated specs:\n",
      "    - keras\n",
      "\n",
      "\n",
      "The following NEW packages will be INSTALLED:\n",
      "\n",
      "  _tflow_select      pkgs/main/win-64::_tflow_select-2.3.0-mkl\n",
      "  absl-py            pkgs/main/win-64::absl-py-0.8.1-py37_0\n",
      "  astor              pkgs/main/win-64::astor-0.8.0-py37_0\n",
      "  gast               pkgs/main/win-64::gast-0.2.2-py37_0\n",
      "  google-pasta       pkgs/main/noarch::google-pasta-0.1.8-py_0\n",
      "  grpcio             pkgs/main/win-64::grpcio-1.16.1-py37h351948d_1\n",
      "  keras              pkgs/main/win-64::keras-2.2.4-0\n",
      "  keras-applications pkgs/main/noarch::keras-applications-1.0.8-py_0\n",
      "  keras-base         pkgs/main/win-64::keras-base-2.2.4-py37_0\n",
      "  keras-preprocessi~ pkgs/main/noarch::keras-preprocessing-1.1.0-py_1\n",
      "  libmklml           pkgs/main/win-64::libmklml-2019.0.5-0\n",
      "  libprotobuf        pkgs/main/win-64::libprotobuf-3.10.1-h7bd577a_0\n",
      "  markdown           pkgs/main/win-64::markdown-3.1.1-py37_0\n",
      "  opt_einsum         pkgs/main/noarch::opt_einsum-3.1.0-py_0\n",
      "  protobuf           pkgs/main/win-64::protobuf-3.10.1-py37h33f27b4_0\n",
      "  tensorboard        pkgs/main/noarch::tensorboard-2.0.0-pyhb230dea_0\n",
      "  tensorflow         pkgs/main/win-64::tensorflow-1.15.0-mkl_py37h3789bd0_0\n",
      "  tensorflow-base    pkgs/main/win-64::tensorflow-base-1.15.0-mkl_py37h190a33d_0\n",
      "  tensorflow-estima~ pkgs/main/noarch::tensorflow-estimator-1.15.1-pyh2649769_0\n",
      "  termcolor          pkgs/main/win-64::termcolor-1.1.0-py37_1\n",
      "\n",
      "\n",
      "Preparing transaction: ...working... done\n",
      "Verifying transaction: ...working... failed\n"
     ]
    },
    {
     "name": "stderr",
     "output_type": "stream",
     "text": [
      "\n",
      "EnvironmentNotWritableError: The current user does not have write permissions to the target environment.\n",
      "  environment location: C:\\ProgramData\\Anaconda3\n",
      "\n",
      "\n"
     ]
    }
   ],
   "source": [
    "import sys\n",
    "!conda install --yes --prefix {sys.prefix} keras"
   ]
  },
  {
   "cell_type": "code",
   "execution_count": null,
   "metadata": {},
   "outputs": [],
   "source": [
    "# limit to categorical data using df.select_dtypes()\n",
    "#nominal_data = data.drop(['Price(USD)', 'Cost price', 'Inventory', 'Shipping', 'Profit', 'weight(lb)', 'SaleRateNew'], axis=1)\n",
    "#ordinal_data = data.drop(nominal_data.columns)\n",
    "nominal_data = data.select_dtypes(include=[object])\n",
    "ordinal_data = data.drop(list(nominal_data.columns), axis=1)\n",
    "nominal_data = nominal_data.replace(np.nan, 'Default', regex=True)"
   ]
  },
  {
   "cell_type": "markdown",
   "metadata": {},
   "source": [
    "## One-Hot Encoding"
   ]
  },
  {
   "cell_type": "code",
   "execution_count": null,
   "metadata": {},
   "outputs": [],
   "source": [
    "from sklearn import preprocessing\n",
    "nominal_data_2 = nominal_data\n",
    "# 1. INSTANTIATE\n",
    "enc = preprocessing.OneHotEncoder()\n",
    "# 2. FIT\n",
    "enc.fit(nominal_data_2)\n",
    "# 3. Transform\n",
    "onehotlabels = enc.transform(nominal_data_2).toarray()\n",
    "print(onehotlabels.shape)"
   ]
  },
  {
   "cell_type": "code",
   "execution_count": null,
   "metadata": {
    "scrolled": true
   },
   "outputs": [],
   "source": [
    "encoded_data = pd.concat([ordinal_data, pd.DataFrame(onehotlabels)], axis=1)"
   ]
  },
  {
   "cell_type": "markdown",
   "metadata": {},
   "source": [
    "## Data Split"
   ]
  },
  {
   "cell_type": "code",
   "execution_count": null,
   "metadata": {},
   "outputs": [],
   "source": [
    "X = encoded_data.drop('SaleRateNew', axis=1)\n",
    "Y = encoded_data['SaleRateNew']"
   ]
  },
  {
   "cell_type": "markdown",
   "metadata": {},
   "source": [
    "## Tunning"
   ]
  },
  {
   "cell_type": "code",
   "execution_count": null,
   "metadata": {},
   "outputs": [],
   "source": [
    "import pandas as pd\n",
    "import numpy as np\n",
    "from sklearn import metrics\n",
    "from sklearn import linear_model\n",
    "from sklearn.pipeline import Pipeline\n",
    "from sklearn.preprocessing import PolynomialFeatures\n",
    "from sklearn.model_selection import GridSearchCV, train_test_split\n",
    "from sklearn.ensemble import AdaBoostRegressor\n",
    "from sklearn.svm import LinearSVR\n",
    "from sklearn.ensemble import GradientBoostingRegressor"
   ]
  },
  {
   "cell_type": "code",
   "execution_count": null,
   "metadata": {},
   "outputs": [],
   "source": [
    "def test(models, X, Y, iterations = 10):\n",
    "    results = {}\n",
    "    for i in models:\n",
    "        print(\"\\nRunning \", i)\n",
    "        r2_train = []\n",
    "        r2_test = []\n",
    "        for j in range(iterations):\n",
    "            print(j, end='')\n",
    "            X_train, X_test, y_train, y_test = train_test_split(X, \n",
    "                                                                Y, \n",
    "                                                                test_size= 0.2)\n",
    "            r2_test.append(metrics.r2_score(y_test,\n",
    "                                            models[i].fit(X_train, \n",
    "                                                         y_train).predict(X_test)))\n",
    "            r2_train.append(metrics.r2_score(y_train, \n",
    "                                             models[i].fit(X_train, \n",
    "                                                          y_train).predict(X_train)))\n",
    "        results[i] = [np.mean(r2_train), np.mean(r2_test)]\n",
    "    return pd.DataFrame(results)"
   ]
  },
  {
   "cell_type": "code",
   "execution_count": null,
   "metadata": {},
   "outputs": [],
   "source": [
    "models = {'OLS': linear_model.LinearRegression(),\n",
    "         'Lasso': linear_model.Lasso(),\n",
    "         'Ridge': linear_model.Ridge(),\n",
    "         'Ada': AdaBoostRegressor(),\n",
    "         'GBM': GradientBoostingRegressor()}"
   ]
  },
  {
   "cell_type": "code",
   "execution_count": null,
   "metadata": {
    "scrolled": true
   },
   "outputs": [],
   "source": [
    "%time test(models, X, Y)"
   ]
  },
  {
   "cell_type": "code",
   "execution_count": null,
   "metadata": {},
   "outputs": [],
   "source": [
    "ada_param = {\n",
    " 'n_estimators': [50, 100],\n",
    " 'learning_rate' : [0.01,0.05,0.1,0.3,1],\n",
    " 'loss' : ['linear', 'square', 'exponential']\n",
    " }\n",
    "\n",
    "gbm_param = {\n",
    " 'n_estimators': [50, 100],\n",
    " 'learning_rate' : [0.01,0.05,0.1,0.3,1],\n",
    " 'loss' : ['ls', 'lad', 'huber', 'quantile']\n",
    " }\n",
    "\n",
    "models2 = {'Ada': GridSearchCV(AdaBoostRegressor(), \n",
    "                               param_grid=ada_param).fit(X, Y).best_estimator_,\n",
    "          'GBM': GridSearchCV(GradientBoostingRegressor(), \n",
    "                               param_grid=ada_param).fit(X, Y).best_estimator_}\n",
    "%time test(models2, X, Y)"
   ]
  },
  {
   "cell_type": "code",
   "execution_count": null,
   "metadata": {},
   "outputs": [],
   "source": [
    "models2['Ada']"
   ]
  },
  {
   "cell_type": "code",
   "execution_count": null,
   "metadata": {},
   "outputs": [],
   "source": [
    "models2['GBM']"
   ]
  },
  {
   "cell_type": "code",
   "execution_count": null,
   "metadata": {},
   "outputs": [],
   "source": []
  }
 ],
 "metadata": {
  "kernelspec": {
   "display_name": "Python 3",
   "language": "python",
   "name": "python3"
  },
  "language_info": {
   "codemirror_mode": {
    "name": "ipython",
    "version": 3
   },
   "file_extension": ".py",
   "mimetype": "text/x-python",
   "name": "python",
   "nbconvert_exporter": "python",
   "pygments_lexer": "ipython3",
   "version": "3.7.4"
  }
 },
 "nbformat": 4,
 "nbformat_minor": 2
}
