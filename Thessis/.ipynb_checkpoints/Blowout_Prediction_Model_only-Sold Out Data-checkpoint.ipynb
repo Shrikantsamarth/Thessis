{
 "cells": [
  {
   "cell_type": "markdown",
   "metadata": {},
   "source": [
    "# Warehouse Optimization (Model Only)"
   ]
  },
  {
   "cell_type": "markdown",
   "metadata": {},
   "source": [
    "## Initilization"
   ]
  },
  {
   "cell_type": "code",
   "execution_count": 48,
   "metadata": {
    "scrolled": true
   },
   "outputs": [
    {
     "data": {
      "text/html": [
       "<div>\n",
       "<style scoped>\n",
       "    .dataframe tbody tr th:only-of-type {\n",
       "        vertical-align: middle;\n",
       "    }\n",
       "\n",
       "    .dataframe tbody tr th {\n",
       "        vertical-align: top;\n",
       "    }\n",
       "\n",
       "    .dataframe thead th {\n",
       "        text-align: right;\n",
       "    }\n",
       "</style>\n",
       "<table border=\"1\" class=\"dataframe\">\n",
       "  <thead>\n",
       "    <tr style=\"text-align: right;\">\n",
       "      <th></th>\n",
       "      <th>Manufacturer</th>\n",
       "      <th>Category</th>\n",
       "      <th>Category Path 1</th>\n",
       "      <th>Category Path 2</th>\n",
       "      <th>Category Path 3</th>\n",
       "      <th>Price(USD)</th>\n",
       "      <th>Cost price</th>\n",
       "      <th>Inventory</th>\n",
       "      <th>Shipping</th>\n",
       "      <th>weight(lb)</th>\n",
       "      <th>Qty_Remaining</th>\n",
       "      <th>SaleRate</th>\n",
       "    </tr>\n",
       "  </thead>\n",
       "  <tbody>\n",
       "    <tr>\n",
       "      <td>0</td>\n",
       "      <td>iMicro</td>\n",
       "      <td>Cartridge &amp; Toner</td>\n",
       "      <td>Hardware &amp; Software</td>\n",
       "      <td>Printer &amp; Scanner</td>\n",
       "      <td>Cartridge &amp; Toner</td>\n",
       "      <td>17.94</td>\n",
       "      <td>13.455</td>\n",
       "      <td>3</td>\n",
       "      <td>2.5</td>\n",
       "      <td>1.48</td>\n",
       "      <td>0</td>\n",
       "      <td>0.500000</td>\n",
       "    </tr>\n",
       "    <tr>\n",
       "      <td>1</td>\n",
       "      <td>Cougar</td>\n",
       "      <td>Mouse Pad</td>\n",
       "      <td>Component</td>\n",
       "      <td>Input &amp; Output Device</td>\n",
       "      <td>Mouse Pad</td>\n",
       "      <td>20.50</td>\n",
       "      <td>15.375</td>\n",
       "      <td>3</td>\n",
       "      <td>2.5</td>\n",
       "      <td>1.00</td>\n",
       "      <td>0</td>\n",
       "      <td>0.500000</td>\n",
       "    </tr>\n",
       "    <tr>\n",
       "      <td>2</td>\n",
       "      <td>ASUS</td>\n",
       "      <td>Wireless Router</td>\n",
       "      <td>Component</td>\n",
       "      <td>Networking</td>\n",
       "      <td>Wireless Networking</td>\n",
       "      <td>25.62</td>\n",
       "      <td>19.215</td>\n",
       "      <td>3</td>\n",
       "      <td>2.5</td>\n",
       "      <td>1.02</td>\n",
       "      <td>0</td>\n",
       "      <td>0.500000</td>\n",
       "    </tr>\n",
       "    <tr>\n",
       "      <td>3</td>\n",
       "      <td>Dynatron</td>\n",
       "      <td>Server</td>\n",
       "      <td>Component</td>\n",
       "      <td>Fan &amp; Heatsink</td>\n",
       "      <td>CPU Fan &amp; Heatsink</td>\n",
       "      <td>32.80</td>\n",
       "      <td>24.600</td>\n",
       "      <td>3</td>\n",
       "      <td>2.5</td>\n",
       "      <td>0.99</td>\n",
       "      <td>0</td>\n",
       "      <td>0.500000</td>\n",
       "    </tr>\n",
       "    <tr>\n",
       "      <td>4</td>\n",
       "      <td>Linksys</td>\n",
       "      <td>Wireless Router</td>\n",
       "      <td>Component</td>\n",
       "      <td>Networking</td>\n",
       "      <td>Wireless Networking</td>\n",
       "      <td>41.00</td>\n",
       "      <td>30.750</td>\n",
       "      <td>3</td>\n",
       "      <td>2.5</td>\n",
       "      <td>1.40</td>\n",
       "      <td>0</td>\n",
       "      <td>0.500000</td>\n",
       "    </tr>\n",
       "    <tr>\n",
       "      <td>...</td>\n",
       "      <td>...</td>\n",
       "      <td>...</td>\n",
       "      <td>...</td>\n",
       "      <td>...</td>\n",
       "      <td>...</td>\n",
       "      <td>...</td>\n",
       "      <td>...</td>\n",
       "      <td>...</td>\n",
       "      <td>...</td>\n",
       "      <td>...</td>\n",
       "      <td>...</td>\n",
       "      <td>...</td>\n",
       "    </tr>\n",
       "    <tr>\n",
       "      <td>4195</td>\n",
       "      <td>SUPER TALENT</td>\n",
       "      <td>Server DDR3</td>\n",
       "      <td>Component</td>\n",
       "      <td>DRAM Memory</td>\n",
       "      <td>Server DRAM</td>\n",
       "      <td>76.88</td>\n",
       "      <td>57.660</td>\n",
       "      <td>1</td>\n",
       "      <td>0.0</td>\n",
       "      <td>0.08</td>\n",
       "      <td>0</td>\n",
       "      <td>0.011111</td>\n",
       "    </tr>\n",
       "    <tr>\n",
       "      <td>4196</td>\n",
       "      <td>QNAP</td>\n",
       "      <td>Server</td>\n",
       "      <td>Component</td>\n",
       "      <td>Power Supply</td>\n",
       "      <td>Server</td>\n",
       "      <td>142.00</td>\n",
       "      <td>106.500</td>\n",
       "      <td>1</td>\n",
       "      <td>2.5</td>\n",
       "      <td>3.00</td>\n",
       "      <td>0</td>\n",
       "      <td>0.011111</td>\n",
       "    </tr>\n",
       "    <tr>\n",
       "      <td>4197</td>\n",
       "      <td>Supermicro</td>\n",
       "      <td>1U</td>\n",
       "      <td>Component</td>\n",
       "      <td>Server</td>\n",
       "      <td>Server Barebone</td>\n",
       "      <td>105.00</td>\n",
       "      <td>78.750</td>\n",
       "      <td>1</td>\n",
       "      <td>0.0</td>\n",
       "      <td>0.00</td>\n",
       "      <td>0</td>\n",
       "      <td>0.011111</td>\n",
       "    </tr>\n",
       "    <tr>\n",
       "      <td>4198</td>\n",
       "      <td>Supermicro</td>\n",
       "      <td>Accessory</td>\n",
       "      <td>Hardware &amp; Software</td>\n",
       "      <td>Server &amp; Workstation</td>\n",
       "      <td>Accessory</td>\n",
       "      <td>119.92</td>\n",
       "      <td>89.940</td>\n",
       "      <td>1</td>\n",
       "      <td>2.5</td>\n",
       "      <td>2.00</td>\n",
       "      <td>0</td>\n",
       "      <td>0.011111</td>\n",
       "    </tr>\n",
       "    <tr>\n",
       "      <td>4199</td>\n",
       "      <td>Samsung</td>\n",
       "      <td>SATA3</td>\n",
       "      <td>Component</td>\n",
       "      <td>Solid State Drive</td>\n",
       "      <td>SATA3</td>\n",
       "      <td>95.00</td>\n",
       "      <td>71.250</td>\n",
       "      <td>21</td>\n",
       "      <td>0.0</td>\n",
       "      <td>0.00</td>\n",
       "      <td>0</td>\n",
       "      <td>0.233333</td>\n",
       "    </tr>\n",
       "  </tbody>\n",
       "</table>\n",
       "<p>3770 rows × 12 columns</p>\n",
       "</div>"
      ],
      "text/plain": [
       "      Manufacturer           Category      Category Path 1  \\\n",
       "0           iMicro  Cartridge & Toner  Hardware & Software   \n",
       "1           Cougar          Mouse Pad            Component   \n",
       "2             ASUS    Wireless Router            Component   \n",
       "3         Dynatron             Server            Component   \n",
       "4          Linksys    Wireless Router            Component   \n",
       "...            ...                ...                  ...   \n",
       "4195  SUPER TALENT        Server DDR3            Component   \n",
       "4196          QNAP             Server            Component   \n",
       "4197    Supermicro                 1U            Component   \n",
       "4198    Supermicro          Accessory  Hardware & Software   \n",
       "4199       Samsung              SATA3            Component   \n",
       "\n",
       "            Category Path 2      Category Path 3  Price(USD)  Cost price  \\\n",
       "0         Printer & Scanner    Cartridge & Toner       17.94      13.455   \n",
       "1     Input & Output Device            Mouse Pad       20.50      15.375   \n",
       "2                Networking  Wireless Networking       25.62      19.215   \n",
       "3            Fan & Heatsink   CPU Fan & Heatsink       32.80      24.600   \n",
       "4                Networking  Wireless Networking       41.00      30.750   \n",
       "...                     ...                  ...         ...         ...   \n",
       "4195            DRAM Memory          Server DRAM       76.88      57.660   \n",
       "4196           Power Supply               Server      142.00     106.500   \n",
       "4197                 Server      Server Barebone      105.00      78.750   \n",
       "4198   Server & Workstation            Accessory      119.92      89.940   \n",
       "4199      Solid State Drive                SATA3       95.00      71.250   \n",
       "\n",
       "      Inventory  Shipping  weight(lb)  Qty_Remaining  SaleRate  \n",
       "0             3       2.5        1.48              0  0.500000  \n",
       "1             3       2.5        1.00              0  0.500000  \n",
       "2             3       2.5        1.02              0  0.500000  \n",
       "3             3       2.5        0.99              0  0.500000  \n",
       "4             3       2.5        1.40              0  0.500000  \n",
       "...         ...       ...         ...            ...       ...  \n",
       "4195          1       0.0        0.08              0  0.011111  \n",
       "4196          1       2.5        3.00              0  0.011111  \n",
       "4197          1       0.0        0.00              0  0.011111  \n",
       "4198          1       2.5        2.00              0  0.011111  \n",
       "4199         21       0.0        0.00              0  0.233333  \n",
       "\n",
       "[3770 rows x 12 columns]"
      ]
     },
     "execution_count": 48,
     "metadata": {},
     "output_type": "execute_result"
    }
   ],
   "source": [
    "import warnings\n",
    "warnings.filterwarnings('ignore')\n",
    "import pandas as pd\n",
    "import pandas_profiling\n",
    "import numpy as np\n",
    "data = pd.read_csv('ML_datafile_Final.csv')\n",
    "data.reset_index(drop=True, inplace=True)\n",
    "data = data[data['Soldout/not'] == 'Sold'].copy()\n",
    "data = data.drop(['Item No', 'Manufacturer No', 'Product Name', 'Date', 'STOCK TYPE', 'In Stock', 'List No',\n",
    "                 'UPC Code', 'Profit','Soldout/not','Qty_Remaining','Sold_day', 'Sold','Blowout','Unnamed: 0'\t ], axis=1)\n",
    "data"
   ]
  },
  {
   "cell_type": "code",
   "execution_count": 49,
   "metadata": {},
   "outputs": [],
   "source": [
    "# limit to categorical data\n",
    "nominal_data = data.select_dtypes(include=[object])\n",
    "ordinal_data = data.drop(list(nominal_data.columns), axis=1)\n",
    "nominal_data = nominal_data.replace(np.nan, 'Default', regex=True)\n",
    "ordinal_data.reset_index(drop=True, inplace=True)"
   ]
  },
  {
   "cell_type": "markdown",
   "metadata": {},
   "source": [
    "## One-Hot Encoding"
   ]
  },
  {
   "cell_type": "code",
   "execution_count": 50,
   "metadata": {},
   "outputs": [
    {
     "name": "stdout",
     "output_type": "stream",
     "text": [
      "(3770, 450)\n"
     ]
    }
   ],
   "source": [
    "from sklearn import preprocessing\n",
    "nominal_data_2 = nominal_data\n",
    "# 1. INSTANTIATE\n",
    "enc = preprocessing.OneHotEncoder()\n",
    "# 2. FIT\n",
    "enc.fit(nominal_data_2)\n",
    "# 3. Transform\n",
    "onehotlabels = enc.transform(nominal_data_2).toarray()\n",
    "onehotlabels = pd.DataFrame(onehotlabels)\n",
    "onehotlabels.reset_index(drop=True, inplace=True)\n",
    "print(onehotlabels.shape)"
   ]
  },
  {
   "cell_type": "code",
   "execution_count": 51,
   "metadata": {},
   "outputs": [
    {
     "data": {
      "text/plain": [
       "(3770, 7)"
      ]
     },
     "execution_count": 51,
     "metadata": {},
     "output_type": "execute_result"
    }
   ],
   "source": [
    "ordinal_data.shape"
   ]
  },
  {
   "cell_type": "code",
   "execution_count": 52,
   "metadata": {
    "scrolled": true
   },
   "outputs": [],
   "source": [
    "encoded_data = pd.concat([ordinal_data, onehotlabels], axis=1)"
   ]
  },
  {
   "cell_type": "code",
   "execution_count": 53,
   "metadata": {},
   "outputs": [
    {
     "name": "stdout",
     "output_type": "stream",
     "text": [
      "(3770, 457)\n"
     ]
    }
   ],
   "source": [
    "print(encoded_data.shape)"
   ]
  },
  {
   "cell_type": "code",
   "execution_count": 54,
   "metadata": {},
   "outputs": [],
   "source": [
    "#Library Import\n",
    "import random\n",
    "import pandas as pd\n",
    "import numpy as np\n",
    "import pickle\n",
    "from math import sqrt\n",
    "from sklearn import metrics\n",
    "from sklearn import linear_model\n",
    "from sklearn.model_selection import GridSearchCV, train_test_split\n",
    "from sklearn.ensemble import AdaBoostRegressor\n",
    "from sklearn.ensemble import GradientBoostingRegressor\n",
    "from sklearn.ensemble import RandomForestRegressor\n",
    "from sklearn.model_selection import validation_curve"
   ]
  },
  {
   "cell_type": "markdown",
   "metadata": {},
   "source": [
    "## Data Split"
   ]
  },
  {
   "cell_type": "code",
   "execution_count": 55,
   "metadata": {},
   "outputs": [],
   "source": [
    "X = encoded_data.drop('SaleRate', axis=1)\n",
    "Y = encoded_data['SaleRate']"
   ]
  },
  {
   "cell_type": "code",
   "execution_count": 56,
   "metadata": {},
   "outputs": [
    {
     "data": {
      "text/html": [
       "<div>\n",
       "<style scoped>\n",
       "    .dataframe tbody tr th:only-of-type {\n",
       "        vertical-align: middle;\n",
       "    }\n",
       "\n",
       "    .dataframe tbody tr th {\n",
       "        vertical-align: top;\n",
       "    }\n",
       "\n",
       "    .dataframe thead th {\n",
       "        text-align: right;\n",
       "    }\n",
       "</style>\n",
       "<table border=\"1\" class=\"dataframe\">\n",
       "  <thead>\n",
       "    <tr style=\"text-align: right;\">\n",
       "      <th></th>\n",
       "      <th>Price(USD)</th>\n",
       "      <th>Cost price</th>\n",
       "      <th>Inventory</th>\n",
       "      <th>Shipping</th>\n",
       "      <th>weight(lb)</th>\n",
       "      <th>Qty_Remaining</th>\n",
       "      <th>0</th>\n",
       "      <th>1</th>\n",
       "      <th>2</th>\n",
       "      <th>3</th>\n",
       "      <th>...</th>\n",
       "      <th>440</th>\n",
       "      <th>441</th>\n",
       "      <th>442</th>\n",
       "      <th>443</th>\n",
       "      <th>444</th>\n",
       "      <th>445</th>\n",
       "      <th>446</th>\n",
       "      <th>447</th>\n",
       "      <th>448</th>\n",
       "      <th>449</th>\n",
       "    </tr>\n",
       "  </thead>\n",
       "  <tbody>\n",
       "    <tr>\n",
       "      <td>993</td>\n",
       "      <td>271.63</td>\n",
       "      <td>203.7225</td>\n",
       "      <td>40</td>\n",
       "      <td>2.5</td>\n",
       "      <td>1.50</td>\n",
       "      <td>0</td>\n",
       "      <td>0.0</td>\n",
       "      <td>0.0</td>\n",
       "      <td>0.0</td>\n",
       "      <td>0.0</td>\n",
       "      <td>...</td>\n",
       "      <td>0.0</td>\n",
       "      <td>0.0</td>\n",
       "      <td>0.0</td>\n",
       "      <td>0.0</td>\n",
       "      <td>0.0</td>\n",
       "      <td>0.0</td>\n",
       "      <td>0.0</td>\n",
       "      <td>0.0</td>\n",
       "      <td>0.0</td>\n",
       "      <td>0.0</td>\n",
       "    </tr>\n",
       "    <tr>\n",
       "      <td>231</td>\n",
       "      <td>25.62</td>\n",
       "      <td>19.2150</td>\n",
       "      <td>12</td>\n",
       "      <td>0.0</td>\n",
       "      <td>0.06</td>\n",
       "      <td>0</td>\n",
       "      <td>0.0</td>\n",
       "      <td>0.0</td>\n",
       "      <td>0.0</td>\n",
       "      <td>0.0</td>\n",
       "      <td>...</td>\n",
       "      <td>0.0</td>\n",
       "      <td>0.0</td>\n",
       "      <td>0.0</td>\n",
       "      <td>0.0</td>\n",
       "      <td>0.0</td>\n",
       "      <td>0.0</td>\n",
       "      <td>0.0</td>\n",
       "      <td>0.0</td>\n",
       "      <td>0.0</td>\n",
       "      <td>0.0</td>\n",
       "    </tr>\n",
       "    <tr>\n",
       "      <td>314</td>\n",
       "      <td>50.22</td>\n",
       "      <td>37.6650</td>\n",
       "      <td>14</td>\n",
       "      <td>2.5</td>\n",
       "      <td>2.30</td>\n",
       "      <td>0</td>\n",
       "      <td>0.0</td>\n",
       "      <td>0.0</td>\n",
       "      <td>0.0</td>\n",
       "      <td>0.0</td>\n",
       "      <td>...</td>\n",
       "      <td>0.0</td>\n",
       "      <td>0.0</td>\n",
       "      <td>0.0</td>\n",
       "      <td>0.0</td>\n",
       "      <td>0.0</td>\n",
       "      <td>0.0</td>\n",
       "      <td>0.0</td>\n",
       "      <td>0.0</td>\n",
       "      <td>0.0</td>\n",
       "      <td>0.0</td>\n",
       "    </tr>\n",
       "    <tr>\n",
       "      <td>2957</td>\n",
       "      <td>15.89</td>\n",
       "      <td>11.9175</td>\n",
       "      <td>279</td>\n",
       "      <td>2.5</td>\n",
       "      <td>0.33</td>\n",
       "      <td>0</td>\n",
       "      <td>0.0</td>\n",
       "      <td>0.0</td>\n",
       "      <td>0.0</td>\n",
       "      <td>0.0</td>\n",
       "      <td>...</td>\n",
       "      <td>0.0</td>\n",
       "      <td>0.0</td>\n",
       "      <td>0.0</td>\n",
       "      <td>0.0</td>\n",
       "      <td>0.0</td>\n",
       "      <td>0.0</td>\n",
       "      <td>0.0</td>\n",
       "      <td>0.0</td>\n",
       "      <td>0.0</td>\n",
       "      <td>0.0</td>\n",
       "    </tr>\n",
       "    <tr>\n",
       "      <td>340</td>\n",
       "      <td>11.79</td>\n",
       "      <td>8.8425</td>\n",
       "      <td>11</td>\n",
       "      <td>2.5</td>\n",
       "      <td>0.47</td>\n",
       "      <td>0</td>\n",
       "      <td>0.0</td>\n",
       "      <td>0.0</td>\n",
       "      <td>0.0</td>\n",
       "      <td>0.0</td>\n",
       "      <td>...</td>\n",
       "      <td>0.0</td>\n",
       "      <td>0.0</td>\n",
       "      <td>0.0</td>\n",
       "      <td>0.0</td>\n",
       "      <td>0.0</td>\n",
       "      <td>0.0</td>\n",
       "      <td>0.0</td>\n",
       "      <td>0.0</td>\n",
       "      <td>0.0</td>\n",
       "      <td>0.0</td>\n",
       "    </tr>\n",
       "  </tbody>\n",
       "</table>\n",
       "<p>5 rows × 456 columns</p>\n",
       "</div>"
      ],
      "text/plain": [
       "      Price(USD)  Cost price  Inventory  Shipping  weight(lb)  Qty_Remaining  \\\n",
       "993       271.63    203.7225         40       2.5        1.50              0   \n",
       "231        25.62     19.2150         12       0.0        0.06              0   \n",
       "314        50.22     37.6650         14       2.5        2.30              0   \n",
       "2957       15.89     11.9175        279       2.5        0.33              0   \n",
       "340        11.79      8.8425         11       2.5        0.47              0   \n",
       "\n",
       "        0    1    2    3  ...  440  441  442  443  444  445  446  447  448  \\\n",
       "993   0.0  0.0  0.0  0.0  ...  0.0  0.0  0.0  0.0  0.0  0.0  0.0  0.0  0.0   \n",
       "231   0.0  0.0  0.0  0.0  ...  0.0  0.0  0.0  0.0  0.0  0.0  0.0  0.0  0.0   \n",
       "314   0.0  0.0  0.0  0.0  ...  0.0  0.0  0.0  0.0  0.0  0.0  0.0  0.0  0.0   \n",
       "2957  0.0  0.0  0.0  0.0  ...  0.0  0.0  0.0  0.0  0.0  0.0  0.0  0.0  0.0   \n",
       "340   0.0  0.0  0.0  0.0  ...  0.0  0.0  0.0  0.0  0.0  0.0  0.0  0.0  0.0   \n",
       "\n",
       "      449  \n",
       "993   0.0  \n",
       "231   0.0  \n",
       "314   0.0  \n",
       "2957  0.0  \n",
       "340   0.0  \n",
       "\n",
       "[5 rows x 456 columns]"
      ]
     },
     "execution_count": 56,
     "metadata": {},
     "output_type": "execute_result"
    }
   ],
   "source": [
    "X_train, X_test, y_train, y_test = train_test_split(X, Y, test_size= 0.2, random_state = 1)\n",
    "X_val, X_test, y_val, y_test = train_test_split(X_test, y_test, test_size= 0.5, random_state = 1)\n",
    "X_train.head(5)"
   ]
  },
  {
   "cell_type": "markdown",
   "metadata": {},
   "source": [
    "#### Training with validation "
   ]
  },
  {
   "cell_type": "code",
   "execution_count": 57,
   "metadata": {},
   "outputs": [],
   "source": [
    "from matplotlib import pyplot as plt\n",
    "%matplotlib inline\n",
    "\n",
    "def train(models, X, Y, iterations = 5, X_train = X_train,  y_train = y_train, X_val = X_val, y_val = y_val):\n",
    "    results = {}\n",
    "    for i in models:\n",
    "        print(\"\\nRunning \", i)\n",
    "        r2_train = []\n",
    "        r2_val = []\n",
    "        mae_train = []\n",
    "        mae_val = []\n",
    "        mse_train = []\n",
    "        mse_val = []\n",
    "        mabe_train = []\n",
    "        mabe_val = []\n",
    "        mevs_train = []\n",
    "        mevs_val = []\n",
    "        for j in range(1, iterations):\n",
    "            print(j, end='')\n",
    "            h = int(4200/iterations*j)\n",
    "            r2_val.append(metrics.r2_score(y_val,\n",
    "                                            models[i].fit(X_train.head(h), \n",
    "                                                         y_train.head(h)).predict(X_val)))\n",
    "            r2_train.append(metrics.r2_score(y_train, \n",
    "                                            models[i].fit(X_train.head(h), \n",
    "                                                         y_train.head(h)).predict(X_train)))\n",
    "            mae_val.append(metrics.mean_absolute_error(y_val,\n",
    "                                            models[i].fit(X_train.head(h), \n",
    "                                                         y_train.head(h)).predict(X_val)))\n",
    "            mae_train.append(metrics.mean_absolute_error(y_train, \n",
    "                                            models[i].fit(X_train.head(h), \n",
    "                                                         y_train.head(h)).predict(X_train)))\n",
    "            mse_val.append(metrics.mean_squared_error(y_val,\n",
    "                                            models[i].fit(X_train.head(h), \n",
    "                                                         y_train.head(h)).predict(X_val)))\n",
    "            mse_train.append(metrics.mean_squared_error(y_train, \n",
    "                                            models[i].fit(X_train.head(h), \n",
    "                                                         y_train.head(h)).predict(X_train)))\n",
    "            mabe_val.append(metrics.median_absolute_error(y_val,\n",
    "                                            models[i].fit(X_train.head(h), \n",
    "                                                         y_train.head(h)).predict(X_val)))\n",
    "            mabe_train.append(metrics.median_absolute_error(y_train, \n",
    "                                            models[i].fit(X_train.head(h), \n",
    "                                                         y_train.head(h)).predict(X_train)))\n",
    "            mevs_val.append(metrics.explained_variance_score(y_val,\n",
    "                                            models[i].fit(X_train.head(h), \n",
    "                                                         y_train.head(h)).predict(X_val)))\n",
    "            mevs_train.append(metrics.explained_variance_score(y_train, \n",
    "                                            models[i].fit(X_train.head(h), \n",
    "                                                    y_train.head(h)).predict(X_train)))\n",
    "            \n",
    "#R2 score\n",
    "        fig, ax = plt.subplots()       \n",
    "        plt.xlabel('Iterations') \n",
    "        plt.ylabel('Score') \n",
    "        ax.plot(r2_train, label='train')\n",
    "        ax.plot(r2_val, label='test')\n",
    "        plt.title(\"r2_val-train_score \" + i)\n",
    "        ax.legend()\n",
    "        plt.figure()\n",
    "#mae\n",
    "        fig, ax = plt.subplots() \n",
    "        plt.xlabel('Iterations') \n",
    "        plt.ylabel('Score')\n",
    "        ax.plot(mae_train, label='train')\n",
    "        ax.plot(mae_val, label='test')\n",
    "        plt.title(\"mean_absolute_error_train-val \" + i)\n",
    "        ax.legend()\n",
    "        plt.figure()\n",
    "#mse\n",
    "        fig, ax = plt.subplots() \n",
    "        plt.xlabel('Iterations') \n",
    "        plt.ylabel('Score')\n",
    "        ax.plot(mse_train, label='train')\n",
    "        ax.plot(mse_val, label='val')\n",
    "        plt.title(\"mean_squared_error_train-val \" + i)\n",
    "        ax.legend()\n",
    "        plt.figure()\n",
    "#mabe        \n",
    "        fig, ax = plt.subplots() \n",
    "        plt.xlabel('Iterations') \n",
    "        plt.ylabel('Score')\n",
    "        ax.plot(mabe_train, label='train')\n",
    "        ax.plot(mabe_val, label='val')\n",
    "        plt.title(\"median_absolute_error_train-val \" + i)\n",
    "        ax.legend()\n",
    "        plt.figure()\n",
    "#mevs\n",
    "        fig, ax = plt.subplots()\n",
    "        plt.xlabel('Iterations') \n",
    "        plt.ylabel('Score')\n",
    "        ax.plot(mevs_train, label='train')\n",
    "        ax.plot(mevs_val, label='val')\n",
    "        plt.title(\"explained_variance_score_train-val \" + i)\n",
    "        ax.legend()\n",
    "        plt.figure()\n",
    "        \n",
    "        results[i] = [r2_val[-1],r2_train[-1],mae_val[-1],mae_train[-1],mse_val[-1],mse_train[-1],mabe_val[-1],mabe_train[-1],\n",
    "                      mevs_val[-1],mevs_train[-1]]\n",
    "    return pd.DataFrame(results), models"
   ]
  },
  {
   "cell_type": "code",
   "execution_count": 58,
   "metadata": {},
   "outputs": [],
   "source": [
    "models = {'ElasticNet': linear_model.ElasticNet(),\n",
    "          'Lasso': linear_model.Lasso(),\n",
    "          'Ridge': linear_model.Ridge(),\n",
    "          'GBM': GradientBoostingRegressor(),\n",
    "          'ada': AdaBoostRegressor(),\n",
    "          'RFR':RandomForestRegressor()}"
   ]
  },
  {
   "cell_type": "code",
   "execution_count": 59,
   "metadata": {},
   "outputs": [
    {
     "name": "stdout",
     "output_type": "stream",
     "text": [
      "\n",
      "Running  ElasticNet\n",
      "1\n",
      "Running  Lasso\n",
      "1\n",
      "Running  Ridge\n",
      "1\n",
      "Running  GBM\n",
      "1\n",
      "Running  ada\n",
      "1\n",
      "Running  RFR\n",
      "1Wall time: 55.1 s\n"
     ]
    },
    {
     "data": {
      "text/html": [
       "<div>\n",
       "<style scoped>\n",
       "    .dataframe tbody tr th:only-of-type {\n",
       "        vertical-align: middle;\n",
       "    }\n",
       "\n",
       "    .dataframe tbody tr th {\n",
       "        vertical-align: top;\n",
       "    }\n",
       "\n",
       "    .dataframe thead th {\n",
       "        text-align: right;\n",
       "    }\n",
       "</style>\n",
       "<table border=\"1\" class=\"dataframe\">\n",
       "  <thead>\n",
       "    <tr style=\"text-align: right;\">\n",
       "      <th></th>\n",
       "      <th>ElasticNet</th>\n",
       "      <th>Lasso</th>\n",
       "      <th>Ridge</th>\n",
       "      <th>GBM</th>\n",
       "      <th>ada</th>\n",
       "      <th>RFR</th>\n",
       "    </tr>\n",
       "  </thead>\n",
       "  <tbody>\n",
       "    <tr>\n",
       "      <td>0</td>\n",
       "      <td>0.686920</td>\n",
       "      <td>0.687587</td>\n",
       "      <td>0.697980</td>\n",
       "      <td>0.893768</td>\n",
       "      <td>0.895091</td>\n",
       "      <td>0.878540</td>\n",
       "    </tr>\n",
       "    <tr>\n",
       "      <td>1</td>\n",
       "      <td>0.748480</td>\n",
       "      <td>0.748424</td>\n",
       "      <td>0.773774</td>\n",
       "      <td>0.950463</td>\n",
       "      <td>0.937315</td>\n",
       "      <td>0.968915</td>\n",
       "    </tr>\n",
       "    <tr>\n",
       "      <td>2</td>\n",
       "      <td>0.392217</td>\n",
       "      <td>0.392991</td>\n",
       "      <td>0.385416</td>\n",
       "      <td>0.182174</td>\n",
       "      <td>0.207296</td>\n",
       "      <td>0.188862</td>\n",
       "    </tr>\n",
       "    <tr>\n",
       "      <td>3</td>\n",
       "      <td>0.394896</td>\n",
       "      <td>0.395868</td>\n",
       "      <td>0.362344</td>\n",
       "      <td>0.148676</td>\n",
       "      <td>0.169615</td>\n",
       "      <td>0.100853</td>\n",
       "    </tr>\n",
       "    <tr>\n",
       "      <td>4</td>\n",
       "      <td>0.303584</td>\n",
       "      <td>0.302937</td>\n",
       "      <td>0.292859</td>\n",
       "      <td>0.102439</td>\n",
       "      <td>0.100037</td>\n",
       "      <td>0.116964</td>\n",
       "    </tr>\n",
       "    <tr>\n",
       "      <td>5</td>\n",
       "      <td>0.295135</td>\n",
       "      <td>0.295200</td>\n",
       "      <td>0.265455</td>\n",
       "      <td>0.058133</td>\n",
       "      <td>0.079999</td>\n",
       "      <td>0.036710</td>\n",
       "    </tr>\n",
       "    <tr>\n",
       "      <td>6</td>\n",
       "      <td>0.327154</td>\n",
       "      <td>0.331148</td>\n",
       "      <td>0.270280</td>\n",
       "      <td>0.063644</td>\n",
       "      <td>0.082133</td>\n",
       "      <td>0.060283</td>\n",
       "    </tr>\n",
       "    <tr>\n",
       "      <td>7</td>\n",
       "      <td>0.324569</td>\n",
       "      <td>0.328782</td>\n",
       "      <td>0.265856</td>\n",
       "      <td>0.056389</td>\n",
       "      <td>0.079527</td>\n",
       "      <td>0.031496</td>\n",
       "    </tr>\n",
       "    <tr>\n",
       "      <td>8</td>\n",
       "      <td>0.687341</td>\n",
       "      <td>0.687995</td>\n",
       "      <td>0.698165</td>\n",
       "      <td>0.894533</td>\n",
       "      <td>0.898289</td>\n",
       "      <td>0.880923</td>\n",
       "    </tr>\n",
       "    <tr>\n",
       "      <td>9</td>\n",
       "      <td>0.748530</td>\n",
       "      <td>0.748475</td>\n",
       "      <td>0.773774</td>\n",
       "      <td>0.950410</td>\n",
       "      <td>0.935312</td>\n",
       "      <td>0.968065</td>\n",
       "    </tr>\n",
       "  </tbody>\n",
       "</table>\n",
       "</div>"
      ],
      "text/plain": [
       "   ElasticNet     Lasso     Ridge       GBM       ada       RFR\n",
       "0    0.686920  0.687587  0.697980  0.893768  0.895091  0.878540\n",
       "1    0.748480  0.748424  0.773774  0.950463  0.937315  0.968915\n",
       "2    0.392217  0.392991  0.385416  0.182174  0.207296  0.188862\n",
       "3    0.394896  0.395868  0.362344  0.148676  0.169615  0.100853\n",
       "4    0.303584  0.302937  0.292859  0.102439  0.100037  0.116964\n",
       "5    0.295135  0.295200  0.265455  0.058133  0.079999  0.036710\n",
       "6    0.327154  0.331148  0.270280  0.063644  0.082133  0.060283\n",
       "7    0.324569  0.328782  0.265856  0.056389  0.079527  0.031496\n",
       "8    0.687341  0.687995  0.698165  0.894533  0.898289  0.880923\n",
       "9    0.748530  0.748475  0.773774  0.950410  0.935312  0.968065"
      ]
     },
     "execution_count": 59,
     "metadata": {},
     "output_type": "execute_result"
    },
    {
     "data": {
      "image/png": "[encoded data removed]",
      "text/plain": [
       "<Figure size 432x288 with 1 Axes>"
      ]
     },
     "metadata": {
      "needs_background": "light"
     },
     "output_type": "display_data"
    },
    {
     "data": {
      "text/plain": [
       "<Figure size 432x288 with 0 Axes>"
      ]
     },
     "metadata": {},
     "output_type": "display_data"
    },
    {
     "data": {
      "image/png": "[encoded data removed]",
      "text/plain": [
       "<Figure size 432x288 with 1 Axes>"
      ]
     },
     "metadata": {
      "needs_background": "light"
     },
     "output_type": "display_data"
    },
    {
     "data": {
      "text/plain": [
       "<Figure size 432x288 with 0 Axes>"
      ]
     },
     "metadata": {},
     "output_type": "display_data"
    },
    {
     "data": {
      "image/png": "[encoded data removed]",
      "text/plain": [
       "<Figure size 432x288 with 1 Axes>"
      ]
     },
     "metadata": {
      "needs_background": "light"
     },
     "output_type": "display_data"
    },
    {
     "data": {
      "text/plain": [
       "<Figure size 432x288 with 0 Axes>"
      ]
     },
     "metadata": {},
     "output_type": "display_data"
    },
    {
     "data": {
      "image/png": "[encoded data removed]",
      "text/plain": [
       "<Figure size 432x288 with 1 Axes>"
      ]
     },
     "metadata": {
      "needs_background": "light"
     },
     "output_type": "display_data"
    },
    {
     "data": {
      "text/plain": [
       "<Figure size 432x288 with 0 Axes>"
      ]
     },
     "metadata": {},
     "output_type": "display_data"
    },
    {
     "data": {
      "image/png": "[encoded data removed]",
      "text/plain": [
       "<Figure size 432x288 with 1 Axes>"
      ]
     },
     "metadata": {
      "needs_background": "light"
     },
     "output_type": "display_data"
    },
    {
     "data": {
      "text/plain": [
       "<Figure size 432x288 with 0 Axes>"
      ]
     },
     "metadata": {},
     "output_type": "display_data"
    },
    {
     "data": {
      "image/png": "[encoded data removed]",
      "text/plain": [
       "<Figure size 432x288 with 1 Axes>"
      ]
     },
     "metadata": {
      "needs_background": "light"
     },
     "output_type": "display_data"
    },
    {
     "data": {
      "text/plain": [
       "<Figure size 432x288 with 0 Axes>"
      ]
     },
     "metadata": {},
     "output_type": "display_data"
    },
    {
     "data": {
      "image/png": "[encoded data removed]",
      "text/plain": [
       "<Figure size 432x288 with 1 Axes>"
      ]
     },
     "metadata": {
      "needs_background": "light"
     },
     "output_type": "display_data"
    },
    {
     "data": {
      "text/plain": [
       "<Figure size 432x288 with 0 Axes>"
      ]
     },
     "metadata": {},
     "output_type": "display_data"
    },
    {
     "data": {
      "image/png": "[encoded data removed]",
      "text/plain": [
       "<Figure size 432x288 with 1 Axes>"
      ]
     },
     "metadata": {
      "needs_background": "light"
     },
     "output_type": "display_data"
    },
    {
     "data": {
      "text/plain": [
       "<Figure size 432x288 with 0 Axes>"
      ]
     },
     "metadata": {},
     "output_type": "display_data"
    },
    {
     "data": {
      "image/png": "[encoded data removed]",
      "text/plain": [
       "<Figure size 432x288 with 1 Axes>"
      ]
     },
     "metadata": {
      "needs_background": "light"
     },
     "output_type": "display_data"
    },
    {
     "data": {
      "text/plain": [
       "<Figure size 432x288 with 0 Axes>"
      ]
     },
     "metadata": {},
     "output_type": "display_data"
    },
    {
     "data": {
      "image/png": "[encoded data removed]",
      "text/plain": [
       "<Figure size 432x288 with 1 Axes>"
      ]
     },
     "metadata": {
      "needs_background": "light"
     },
     "output_type": "display_data"
    },
    {
     "data": {
      "text/plain": [
       "<Figure size 432x288 with 0 Axes>"
      ]
     },
     "metadata": {},
     "output_type": "display_data"
    },
    {
     "data": {
      "image/png": "[encoded data removed]",
      "text/plain": [
       "<Figure size 432x288 with 1 Axes>"
      ]
     },
     "metadata": {
      "needs_background": "light"
     },
     "output_type": "display_data"
    },
    {
     "data": {
      "text/plain": [
       "<Figure size 432x288 with 0 Axes>"
      ]
     },
     "metadata": {},
     "output_type": "display_data"
    },
    {
     "data": {
      "image/png": "[encoded data removed]",
      "text/plain": [
       "<Figure size 432x288 with 1 Axes>"
      ]
     },
     "metadata": {
      "needs_background": "light"
     },
     "output_type": "display_data"
    },
    {
     "data": {
      "text/plain": [
       "<Figure size 432x288 with 0 Axes>"
      ]
     },
     "metadata": {},
     "output_type": "display_data"
    },
    {
     "data": {
      "image/png": "[encoded data removed]",
      "text/plain": [
       "<Figure size 432x288 with 1 Axes>"
      ]
     },
     "metadata": {
      "needs_background": "light"
     },
     "output_type": "display_data"
    },
    {
     "data": {
      "text/plain": [
       "<Figure size 432x288 with 0 Axes>"
      ]
     },
     "metadata": {},
     "output_type": "display_data"
    },
    {
     "data": {
      "image/png": "[encoded data removed]",
      "text/plain": [
       "<Figure size 432x288 with 1 Axes>"
      ]
     },
     "metadata": {
      "needs_background": "light"
     },
     "output_type": "display_data"
    },
    {
     "data": {
      "text/plain": [
       "<Figure size 432x288 with 0 Axes>"
      ]
     },
     "metadata": {},
     "output_type": "display_data"
    },
    {
     "data": {
      "image/png": "[encoded data removed]",
      "text/plain": [
       "<Figure size 432x288 with 1 Axes>"
      ]
     },
     "metadata": {
      "needs_background": "light"
     },
     "output_type": "display_data"
    },
    {
     "data": {
      "text/plain": [
       "<Figure size 432x288 with 0 Axes>"
      ]
     },
     "metadata": {},
     "output_type": "display_data"
    },
    {
     "data": {
      "image/png": "[encoded data removed]",
      "text/plain": [
       "<Figure size 432x288 with 1 Axes>"
      ]
     },
     "metadata": {
      "needs_background": "light"
     },
     "output_type": "display_data"
    },
    {
     "data": {
      "text/plain": [
       "<Figure size 432x288 with 0 Axes>"
      ]
     },
     "metadata": {},
     "output_type": "display_data"
    },
    {
     "data": {
      "image/png": "[encoded data removed]",
      "text/plain": [
       "<Figure size 432x288 with 1 Axes>"
      ]
     },
     "metadata": {
      "needs_background": "light"
     },
     "output_type": "display_data"
    },
    {
     "data": {
      "text/plain": [
       "<Figure size 432x288 with 0 Axes>"
      ]
     },
     "metadata": {},
     "output_type": "display_data"
    },
    {
     "data": {
      "image/png": "[encoded data removed]",
      "text/plain": [
       "<Figure size 432x288 with 1 Axes>"
      ]
     },
     "metadata": {
      "needs_background": "light"
     },
     "output_type": "display_data"
    },
    {
     "data": {
      "text/plain": [
       "<Figure size 432x288 with 0 Axes>"
      ]
     },
     "metadata": {},
     "output_type": "display_data"
    },
    {
     "data": {
      "image/png": "[encoded data removed]",
      "text/plain": [
       "<Figure size 432x288 with 1 Axes>"
      ]
     },
     "metadata": {
      "needs_background": "light"
     },
     "output_type": "display_data"
    },
    {
     "data": {
      "text/plain": [
       "<Figure size 432x288 with 0 Axes>"
      ]
     },
     "metadata": {},
     "output_type": "display_data"
    },
    {
     "data": {
      "image/png": "[encoded data removed]",
      "text/plain": [
       "<Figure size 432x288 with 1 Axes>"
      ]
     },
     "metadata": {
      "needs_background": "light"
     },
     "output_type": "display_data"
    },
    {
     "data": {
      "text/plain": [
       "<Figure size 432x288 with 0 Axes>"
      ]
     },
     "metadata": {},
     "output_type": "display_data"
    },
    {
     "data": {
      "image/png": "[encoded data removed]",
      "text/plain": [
       "<Figure size 432x288 with 1 Axes>"
      ]
     },
     "metadata": {
      "needs_background": "light"
     },
     "output_type": "display_data"
    },
    {
     "data": {
      "text/plain": [
       "<Figure size 432x288 with 0 Axes>"
      ]
     },
     "metadata": {},
     "output_type": "display_data"
    },
    {
     "data": {
      "image/png": "[encoded data removed]",
      "text/plain": [
       "<Figure size 432x288 with 1 Axes>"
      ]
     },
     "metadata": {
      "needs_background": "light"
     },
     "output_type": "display_data"
    },
    {
     "data": {
      "text/plain": [
       "<Figure size 432x288 with 0 Axes>"
      ]
     },
     "metadata": {},
     "output_type": "display_data"
    },
    {
     "data": {
      "image/png": "[encoded data removed]",
      "text/plain": [
       "<Figure size 432x288 with 1 Axes>"
      ]
     },
     "metadata": {
      "needs_background": "light"
     },
     "output_type": "display_data"
    },
    {
     "data": {
      "text/plain": [
       "<Figure size 432x288 with 0 Axes>"
      ]
     },
     "metadata": {},
     "output_type": "display_data"
    },
    {
     "data": {
      "image/png": "[encoded data removed]",
      "text/plain": [
       "<Figure size 432x288 with 1 Axes>"
      ]
     },
     "metadata": {
      "needs_background": "light"
     },
     "output_type": "display_data"
    },
    {
     "data": {
      "text/plain": [
       "<Figure size 432x288 with 0 Axes>"
      ]
     },
     "metadata": {},
     "output_type": "display_data"
    },
    {
     "data": {
      "image/png": "[encoded data removed]",
      "text/plain": [
       "<Figure size 432x288 with 1 Axes>"
      ]
     },
     "metadata": {
      "needs_background": "light"
     },
     "output_type": "display_data"
    },
    {
     "data": {
      "text/plain": [
       "<Figure size 432x288 with 0 Axes>"
      ]
     },
     "metadata": {},
     "output_type": "display_data"
    },
    {
     "data": {
      "image/png": "[encoded data removed]",
      "text/plain": [
       "<Figure size 432x288 with 1 Axes>"
      ]
     },
     "metadata": {
      "needs_background": "light"
     },
     "output_type": "display_data"
    },
    {
     "data": {
      "text/plain": [
       "<Figure size 432x288 with 0 Axes>"
      ]
     },
     "metadata": {},
     "output_type": "display_data"
    },
    {
     "data": {
      "image/png": "[encoded data removed]",
      "text/plain": [
       "<Figure size 432x288 with 1 Axes>"
      ]
     },
     "metadata": {
      "needs_background": "light"
     },
     "output_type": "display_data"
    },
    {
     "data": {
      "text/plain": [
       "<Figure size 432x288 with 0 Axes>"
      ]
     },
     "metadata": {},
     "output_type": "display_data"
    },
    {
     "data": {
      "image/png": "[encoded data removed]",
      "text/plain": [
       "<Figure size 432x288 with 1 Axes>"
      ]
     },
     "metadata": {
      "needs_background": "light"
     },
     "output_type": "display_data"
    },
    {
     "data": {
      "text/plain": [
       "<Figure size 432x288 with 0 Axes>"
      ]
     },
     "metadata": {},
     "output_type": "display_data"
    },
    {
     "data": {
      "image/png": "[encoded data removed]",
      "text/plain": [
       "<Figure size 432x288 with 1 Axes>"
      ]
     },
     "metadata": {
      "needs_background": "light"
     },
     "output_type": "display_data"
    },
    {
     "data": {
      "text/plain": [
       "<Figure size 432x288 with 0 Axes>"
      ]
     },
     "metadata": {},
     "output_type": "display_data"
    },
    {
     "data": {
      "image/png": "[encoded data removed]",
      "text/plain": [
       "<Figure size 432x288 with 1 Axes>"
      ]
     },
     "metadata": {
      "needs_background": "light"
     },
     "output_type": "display_data"
    },
    {
     "data": {
      "text/plain": [
       "<Figure size 432x288 with 0 Axes>"
      ]
     },
     "metadata": {},
     "output_type": "display_data"
    }
   ],
   "source": [
    "%time result, models = train(models, X, Y, iterations=2)\n",
    "result"
   ]
  },
  {
   "cell_type": "code",
   "execution_count": 61,
   "metadata": {},
   "outputs": [
    {
     "ename": "AttributeError",
     "evalue": "'GradientBoostingRegressor' object has no attribute 'coef_'",
     "output_type": "error",
     "traceback": [
      "\u001b[1;31m---------------------------------------------------------------------------\u001b[0m",
      "\u001b[1;31mAttributeError\u001b[0m                            Traceback (most recent call last)",
      "\u001b[1;32m<ipython-input-61-1f689748daf6>\u001b[0m in \u001b[0;36m<module>\u001b[1;34m\u001b[0m\n\u001b[1;32m----> 1\u001b[1;33m \u001b[0mmodels\u001b[0m\u001b[1;33m[\u001b[0m\u001b[1;34m'GBM'\u001b[0m\u001b[1;33m]\u001b[0m\u001b[1;33m.\u001b[0m\u001b[0mcoef_\u001b[0m\u001b[1;33m\u001b[0m\u001b[1;33m\u001b[0m\u001b[0m\n\u001b[0m",
      "\u001b[1;31mAttributeError\u001b[0m: 'GradientBoostingRegressor' object has no attribute 'coef_'"
     ]
    }
   ],
   "source": [
    "models['GBM'].coef_"
   ]
  },
  {
   "cell_type": "code",
   "execution_count": 69,
   "metadata": {},
   "outputs": [
    {
     "data": {
      "text/plain": [
       "2424    0.137255\n",
       "2779    0.016129\n",
       "2011    1.454545\n",
       "986     0.031250\n",
       "3298    0.011905\n",
       "3707    0.766667\n",
       "2967    0.753623\n",
       "1453    1.243902\n",
       "3849    0.333333\n",
       "2871    3.909091\n",
       "Name: SaleRate, dtype: float64"
      ]
     },
     "execution_count": 69,
     "metadata": {},
     "output_type": "execute_result"
    }
   ],
   "source": [
    "y_test.head(10)"
   ]
  },
  {
   "cell_type": "markdown",
   "metadata": {},
   "source": [
    "#### Save and Load Machine Learning Models"
   ]
  },
  {
   "cell_type": "code",
   "execution_count": 31,
   "metadata": {},
   "outputs": [],
   "source": [
    "from joblib import dump, load\n",
    "for model in models.keys():\n",
    "    dump(models[model], model + 'SoldOut'+ '.joblib')"
   ]
  },
  {
   "cell_type": "markdown",
   "metadata": {},
   "source": [
    "#### Model prediction with Testing"
   ]
  },
  {
   "cell_type": "code",
   "execution_count": 32,
   "metadata": {},
   "outputs": [],
   "source": [
    "#model prediction with testing\n",
    "from matplotlib import pyplot as plt\n",
    "%matplotlib inline\n",
    "\n",
    "def test2(models, X, Y, iterations = 2, X_train = X_train,  y_train = y_train, X_test = X_test, y_test = y_test):\n",
    "    results = {}\n",
    "    for i in models:\n",
    "        print(\"\\nRunning \", i)\n",
    "        table = dict()\n",
    "        for j in range(1, iterations):\n",
    "            print(j, end='')\n",
    "            table['r2_test'] = metrics.r2_score(y_test, models[i].predict(X_test))\n",
    "            table['r2_train'] = metrics.r2_score(y_train, models[i].predict(X_train))\n",
    "            table['mae_test'] = metrics.mean_absolute_error(y_test, models[i].predict(X_test))\n",
    "            table['mae_train'] = metrics.mean_absolute_error(y_train, models[i].predict(X_train))\n",
    "            table['mse_test'] = metrics.mean_squared_error(y_test, models[i].predict(X_test))\n",
    "            table['mse_train'] = metrics.mean_squared_error(y_train, models[i].predict(X_train))\n",
    "            table['mabe_test'] = metrics.median_absolute_error(y_test, models[i].predict(X_test))\n",
    "            table['mabe_train'] = metrics.median_absolute_error(y_train, models[i].predict(X_train))\n",
    "            table['mevs_test'] = metrics.explained_variance_score(y_test, models[i].predict(X_test))\n",
    "            table['mevs_train'] = metrics.explained_variance_score(y_train, models[i].predict(X_train))\n",
    "            table['rmse_train'] = sqrt(table['mse_train'])\n",
    "            table['rmse_test'] = sqrt(table['mse_test'])\n",
    "            \n",
    "            #R2 score\n",
    "        fig, ax = plt.subplots()       \n",
    "        plt.xlabel('Iterations') \n",
    "        plt.ylabel('Score') \n",
    "        ax.plot(table['r2_test'], label='train')\n",
    "        ax.plot(['r2_train'], label='test')\n",
    "        plt.title(\"r2_val-train_score \" + i)\n",
    "        ax.legend()\n",
    "        plt.figure()\n",
    "             \n",
    "        results[i] = table\n",
    "    return pd.DataFrame(results), models"
   ]
  },
  {
   "cell_type": "code",
   "execution_count": 33,
   "metadata": {},
   "outputs": [],
   "source": [
    "from joblib import dump, load\n",
    "models = {'ElasticNet': load('ElasticNetSoldOut.joblib'),\n",
    "          'Lasso': load('LassoSoldOut.joblib'), \n",
    "          'Ridge': load('RidgeSoldOut.joblib'),\n",
    "          'ada'  : load('adaSoldOut.joblib'),\n",
    "          'GBM'  : load('GBMSoldOut.joblib'),\n",
    "          'RFR'  : load('RFRSoldOut.joblib')}"
   ]
  },
  {
   "cell_type": "code",
   "execution_count": 34,
   "metadata": {},
   "outputs": [
    {
     "name": "stdout",
     "output_type": "stream",
     "text": [
      "\n",
      "Running  ElasticNet\n",
      "1\n",
      "Running  Lasso\n",
      "1\n",
      "Running  Ridge\n",
      "1\n",
      "Running  ada\n",
      "1\n",
      "Running  GBM\n",
      "1\n",
      "Running  RFR\n",
      "1Wall time: 1.66 s\n"
     ]
    },
    {
     "data": {
      "text/html": [
       "<div>\n",
       "<style scoped>\n",
       "    .dataframe tbody tr th:only-of-type {\n",
       "        vertical-align: middle;\n",
       "    }\n",
       "\n",
       "    .dataframe tbody tr th {\n",
       "        vertical-align: top;\n",
       "    }\n",
       "\n",
       "    .dataframe thead th {\n",
       "        text-align: right;\n",
       "    }\n",
       "</style>\n",
       "<table border=\"1\" class=\"dataframe\">\n",
       "  <thead>\n",
       "    <tr style=\"text-align: right;\">\n",
       "      <th></th>\n",
       "      <th>ElasticNet</th>\n",
       "      <th>Lasso</th>\n",
       "      <th>Ridge</th>\n",
       "      <th>ada</th>\n",
       "      <th>GBM</th>\n",
       "      <th>RFR</th>\n",
       "    </tr>\n",
       "  </thead>\n",
       "  <tbody>\n",
       "    <tr>\n",
       "      <td>r2_test</td>\n",
       "      <td>0.761802</td>\n",
       "      <td>0.762159</td>\n",
       "      <td>0.753440</td>\n",
       "      <td>0.938168</td>\n",
       "      <td>0.946886</td>\n",
       "      <td>0.939754</td>\n",
       "    </tr>\n",
       "    <tr>\n",
       "      <td>r2_train</td>\n",
       "      <td>0.748474</td>\n",
       "      <td>0.748286</td>\n",
       "      <td>0.784471</td>\n",
       "      <td>0.935140</td>\n",
       "      <td>0.952508</td>\n",
       "      <td>0.988061</td>\n",
       "    </tr>\n",
       "    <tr>\n",
       "      <td>mae_test</td>\n",
       "      <td>0.398840</td>\n",
       "      <td>0.399887</td>\n",
       "      <td>0.389813</td>\n",
       "      <td>0.197338</td>\n",
       "      <td>0.161292</td>\n",
       "      <td>0.168076</td>\n",
       "    </tr>\n",
       "    <tr>\n",
       "      <td>mae_train</td>\n",
       "      <td>0.397539</td>\n",
       "      <td>0.398581</td>\n",
       "      <td>0.358099</td>\n",
       "      <td>0.190774</td>\n",
       "      <td>0.144621</td>\n",
       "      <td>0.065794</td>\n",
       "    </tr>\n",
       "    <tr>\n",
       "      <td>mse_test</td>\n",
       "      <td>0.297164</td>\n",
       "      <td>0.296719</td>\n",
       "      <td>0.307596</td>\n",
       "      <td>0.077138</td>\n",
       "      <td>0.066262</td>\n",
       "      <td>0.075159</td>\n",
       "    </tr>\n",
       "    <tr>\n",
       "      <td>mse_train</td>\n",
       "      <td>0.295142</td>\n",
       "      <td>0.295362</td>\n",
       "      <td>0.252903</td>\n",
       "      <td>0.076108</td>\n",
       "      <td>0.055727</td>\n",
       "      <td>0.014009</td>\n",
       "    </tr>\n",
       "    <tr>\n",
       "      <td>mabe_test</td>\n",
       "      <td>0.329847</td>\n",
       "      <td>0.333715</td>\n",
       "      <td>0.285776</td>\n",
       "      <td>0.101527</td>\n",
       "      <td>0.066550</td>\n",
       "      <td>0.069184</td>\n",
       "    </tr>\n",
       "    <tr>\n",
       "      <td>mabe_train</td>\n",
       "      <td>0.334784</td>\n",
       "      <td>0.338860</td>\n",
       "      <td>0.275119</td>\n",
       "      <td>0.090524</td>\n",
       "      <td>0.055723</td>\n",
       "      <td>0.023538</td>\n",
       "    </tr>\n",
       "    <tr>\n",
       "      <td>mevs_test</td>\n",
       "      <td>0.761802</td>\n",
       "      <td>0.762159</td>\n",
       "      <td>0.753509</td>\n",
       "      <td>0.938255</td>\n",
       "      <td>0.947262</td>\n",
       "      <td>0.940056</td>\n",
       "    </tr>\n",
       "    <tr>\n",
       "      <td>mevs_train</td>\n",
       "      <td>0.748474</td>\n",
       "      <td>0.748286</td>\n",
       "      <td>0.784471</td>\n",
       "      <td>0.935228</td>\n",
       "      <td>0.952508</td>\n",
       "      <td>0.988062</td>\n",
       "    </tr>\n",
       "    <tr>\n",
       "      <td>rmse_train</td>\n",
       "      <td>0.543270</td>\n",
       "      <td>0.543472</td>\n",
       "      <td>0.502895</td>\n",
       "      <td>0.275876</td>\n",
       "      <td>0.236066</td>\n",
       "      <td>0.118361</td>\n",
       "    </tr>\n",
       "    <tr>\n",
       "      <td>rmse_test</td>\n",
       "      <td>0.545128</td>\n",
       "      <td>0.544719</td>\n",
       "      <td>0.554613</td>\n",
       "      <td>0.277738</td>\n",
       "      <td>0.257414</td>\n",
       "      <td>0.274152</td>\n",
       "    </tr>\n",
       "  </tbody>\n",
       "</table>\n",
       "</div>"
      ],
      "text/plain": [
       "            ElasticNet     Lasso     Ridge       ada       GBM       RFR\n",
       "r2_test       0.761802  0.762159  0.753440  0.938168  0.946886  0.939754\n",
       "r2_train      0.748474  0.748286  0.784471  0.935140  0.952508  0.988061\n",
       "mae_test      0.398840  0.399887  0.389813  0.197338  0.161292  0.168076\n",
       "mae_train     0.397539  0.398581  0.358099  0.190774  0.144621  0.065794\n",
       "mse_test      0.297164  0.296719  0.307596  0.077138  0.066262  0.075159\n",
       "mse_train     0.295142  0.295362  0.252903  0.076108  0.055727  0.014009\n",
       "mabe_test     0.329847  0.333715  0.285776  0.101527  0.066550  0.069184\n",
       "mabe_train    0.334784  0.338860  0.275119  0.090524  0.055723  0.023538\n",
       "mevs_test     0.761802  0.762159  0.753509  0.938255  0.947262  0.940056\n",
       "mevs_train    0.748474  0.748286  0.784471  0.935228  0.952508  0.988062\n",
       "rmse_train    0.543270  0.543472  0.502895  0.275876  0.236066  0.118361\n",
       "rmse_test     0.545128  0.544719  0.554613  0.277738  0.257414  0.274152"
      ]
     },
     "execution_count": 34,
     "metadata": {},
     "output_type": "execute_result"
    },
    {
     "data": {
      "image/png": "[encoded data removed]",
      "text/plain": [
       "<Figure size 432x288 with 1 Axes>"
      ]
     },
     "metadata": {
      "needs_background": "light"
     },
     "output_type": "display_data"
    },
    {
     "data": {
      "text/plain": [
       "<Figure size 432x288 with 0 Axes>"
      ]
     },
     "metadata": {},
     "output_type": "display_data"
    },
    {
     "data": {
      "image/png": "[encoded data removed]",
      "text/plain": [
       "<Figure size 432x288 with 1 Axes>"
      ]
     },
     "metadata": {
      "needs_background": "light"
     },
     "output_type": "display_data"
    },
    {
     "data": {
      "text/plain": [
       "<Figure size 432x288 with 0 Axes>"
      ]
     },
     "metadata": {},
     "output_type": "display_data"
    },
    {
     "data": {
      "image/png": "[encoded data removed]",
      "text/plain": [
       "<Figure size 432x288 with 1 Axes>"
      ]
     },
     "metadata": {
      "needs_background": "light"
     },
     "output_type": "display_data"
    },
    {
     "data": {
      "text/plain": [
       "<Figure size 432x288 with 0 Axes>"
      ]
     },
     "metadata": {},
     "output_type": "display_data"
    },
    {
     "data": {
      "image/png": "[encoded data removed]",
      "text/plain": [
       "<Figure size 432x288 with 1 Axes>"
      ]
     },
     "metadata": {
      "needs_background": "light"
     },
     "output_type": "display_data"
    },
    {
     "data": {
      "text/plain": [
       "<Figure size 432x288 with 0 Axes>"
      ]
     },
     "metadata": {},
     "output_type": "display_data"
    },
    {
     "data": {
      "image/png": "[encoded data removed]",
      "text/plain": [
       "<Figure size 432x288 with 1 Axes>"
      ]
     },
     "metadata": {
      "needs_background": "light"
     },
     "output_type": "display_data"
    },
    {
     "data": {
      "text/plain": [
       "<Figure size 432x288 with 0 Axes>"
      ]
     },
     "metadata": {},
     "output_type": "display_data"
    },
    {
     "data": {
      "image/png": "[encoded data removed]",
      "text/plain": [
       "<Figure size 432x288 with 1 Axes>"
      ]
     },
     "metadata": {
      "needs_background": "light"
     },
     "output_type": "display_data"
    },
    {
     "data": {
      "text/plain": [
       "<Figure size 432x288 with 0 Axes>"
      ]
     },
     "metadata": {},
     "output_type": "display_data"
    }
   ],
   "source": [
    "%time result, models = test2(models, X, Y)\n",
    "result"
   ]
  },
  {
   "cell_type": "code",
   "execution_count": null,
   "metadata": {},
   "outputs": [],
   "source": [
    "model_\n",
    "%time result, models = test2(models, X, Y)\n",
    "result"
   ]
  },
  {
   "cell_type": "code",
   "execution_count": 79,
   "metadata": {},
   "outputs": [
    {
     "name": "stdout",
     "output_type": "stream",
     "text": [
      "{'r2_test': 0.723461529821595, 'r2_train': 0.6463609563046717, 'mae_test': 0.5236887512426843, 'mae_train': 0.5087913776356436, 'mse_test': 0.4944293385006347, 'mse_train': 0.4657764968475938, 'mabe_test': 0.4198378693646254, 'mabe_train': 0.4233844111397533, 'mevs_test': 0.7235577443333974, 'mevs_train': 0.6463609563046717}\n",
      "{'r2_test': 0.7226098181465839, 'r2_train': 0.6455947638134061, 'mae_test': 0.5254676330589669, 'mae_train': 0.5101739592262166, 'mse_test': 0.4959521329234044, 'mse_train': 0.46678564575480574, 'mabe_test': 0.42293271820910994, 'mabe_train': 0.42457889720282616, 'mevs_test': 0.722709599978254, 'mevs_train': 0.6455947638134062}\n",
      "{'r2_test': 0.741709237031766, 'r2_train': 0.7047124531616333, 'mae_test': 0.48382838088768243, 'mae_train': 0.4453756665377708, 'mse_test': 0.46180385315945366, 'mse_train': 0.38892198579630743, 'mabe_test': 0.3524987520222028, 'mabe_train': 0.3469389011119479, 'mevs_test': 0.7417239564289922, 'mevs_train': 0.7047124531616333}\n",
      "{'r2_test': 0.8678710133875411, 'r2_train': 0.8574779863628852, 'mae_test': 0.284484699401192, 'mae_train': 0.2594674284298944, 'mse_test': 0.2362363811639352, 'mse_train': 0.18771514463417635, 'mabe_test': 0.13045226572299318, 'mabe_train': 0.12428423991991863, 'mevs_test': 0.8684249432450657, 'mevs_train': 0.8578068600341328}\n",
      "{'r2_test': 0.8813317438787887, 'r2_train': 0.8988542192995524, 'mae_test': 0.2615267164075793, 'mae_train': 0.22131190472612314, 'mse_test': 0.21216963895541285, 'mse_train': 0.13321868228485928, 'mabe_test': 0.13463621368238915, 'mabe_train': 0.10413151176457536, 'mevs_test': 0.881372335506982, 'mevs_train': 0.8988542192995526}\n",
      "{'r2_test': 0.848273582706333, 'r2_train': 0.973414289397103, 'mae_test': 0.277263258478008, 'mae_train': 0.09847586468095254, 'mse_test': 0.2712750673972491, 'mse_train': 0.03501592760071396, 'mabe_test': 0.10766127343717247, 'mabe_train': 0.035164513150994, 'mevs_test': 0.8487693190541854, 'mevs_train': 0.9734144189888916}\n"
     ]
    }
   ],
   "source": [
    "for i in result:\n",
    "    print(dict(result[i]))"
   ]
  },
  {
   "cell_type": "code",
   "execution_count": 80,
   "metadata": {},
   "outputs": [],
   "source": [
    "import seaborn as sb"
   ]
  },
  {
   "cell_type": "code",
   "execution_count": 81,
   "metadata": {},
   "outputs": [
    {
     "name": "stdout",
     "output_type": "stream",
     "text": [
      "r2_test\n"
     ]
    },
    {
     "data": {
      "image/png": "[encoded data removed]",
      "text/plain": [
       "<Figure size 432x288 with 1 Axes>"
      ]
     },
     "metadata": {
      "needs_background": "light"
     },
     "output_type": "display_data"
    },
    {
     "name": "stdout",
     "output_type": "stream",
     "text": [
      "r2_train\n"
     ]
    },
    {
     "data": {
      "image/png": "[encoded data removed]",
      "text/plain": [
       "<Figure size 432x288 with 1 Axes>"
      ]
     },
     "metadata": {
      "needs_background": "light"
     },
     "output_type": "display_data"
    },
    {
     "name": "stdout",
     "output_type": "stream",
     "text": [
      "mae_test\n"
     ]
    },
    {
     "data": {
      "image/png": "[encoded data removed]",
      "text/plain": [
       "<Figure size 432x288 with 1 Axes>"
      ]
     },
     "metadata": {
      "needs_background": "light"
     },
     "output_type": "display_data"
    },
    {
     "name": "stdout",
     "output_type": "stream",
     "text": [
      "mae_train\n"
     ]
    },
    {
     "data": {
      "image/png": "[encoded data removed]",
      "text/plain": [
       "<Figure size 432x288 with 1 Axes>"
      ]
     },
     "metadata": {
      "needs_background": "light"
     },
     "output_type": "display_data"
    },
    {
     "name": "stdout",
     "output_type": "stream",
     "text": [
      "mse_test\n"
     ]
    },
    {
     "data": {
      "image/png": "[encoded data removed]",
      "text/plain": [
       "<Figure size 432x288 with 1 Axes>"
      ]
     },
     "metadata": {
      "needs_background": "light"
     },
     "output_type": "display_data"
    },
    {
     "name": "stdout",
     "output_type": "stream",
     "text": [
      "mse_train\n"
     ]
    },
    {
     "data": {
      "image/png": "[encoded data removed]",
      "text/plain": [
       "<Figure size 432x288 with 1 Axes>"
      ]
     },
     "metadata": {
      "needs_background": "light"
     },
     "output_type": "display_data"
    },
    {
     "name": "stdout",
     "output_type": "stream",
     "text": [
      "mabe_test\n"
     ]
    },
    {
     "data": {
      "image/png": "[encoded data removed]",
      "text/plain": [
       "<Figure size 432x288 with 1 Axes>"
      ]
     },
     "metadata": {
      "needs_background": "light"
     },
     "output_type": "display_data"
    },
    {
     "name": "stdout",
     "output_type": "stream",
     "text": [
      "mabe_train\n"
     ]
    },
    {
     "data": {
      "image/png": "[encoded data removed]",
      "text/plain": [
       "<Figure size 432x288 with 1 Axes>"
      ]
     },
     "metadata": {
      "needs_background": "light"
     },
     "output_type": "display_data"
    },
    {
     "name": "stdout",
     "output_type": "stream",
     "text": [
      "mevs_test\n"
     ]
    },
    {
     "data": {
      "image/png": "[encoded data removed]",
      "text/plain": [
       "<Figure size 432x288 with 1 Axes>"
      ]
     },
     "metadata": {
      "needs_background": "light"
     },
     "output_type": "display_data"
    },
    {
     "name": "stdout",
     "output_type": "stream",
     "text": [
      "mevs_train\n"
     ]
    },
    {
     "data": {
      "image/png": "[encoded data removed]",
      "text/plain": [
       "<Figure size 432x288 with 1 Axes>"
      ]
     },
     "metadata": {
      "needs_background": "light"
     },
     "output_type": "display_data"
    }
   ],
   "source": [
    "import matplotlib.pyplot as plt\n",
    "result = result.transpose()\n",
    "for key in result:\n",
    "    print(key)\n",
    "    plt.bar(range(len(dict(result[key]))), list(dict(result[key]).values()), align='center')\n",
    "    plt.xticks(range(len(dict(result[key]))), list(dict(result[key]).keys()))\n",
    "    plt.show()"
   ]
  },
  {
   "cell_type": "code",
   "execution_count": 82,
   "metadata": {},
   "outputs": [
    {
     "data": {
      "text/plain": [
       "range(0, 6)"
      ]
     },
     "execution_count": 82,
     "metadata": {},
     "output_type": "execute_result"
    }
   ],
   "source": [
    "range(len(dict(result[key])))"
   ]
  },
  {
   "cell_type": "code",
   "execution_count": 83,
   "metadata": {},
   "outputs": [
    {
     "data": {
      "text/plain": [
       "{'ElasticNet': ElasticNet(alpha=1.0, copy_X=True, fit_intercept=True, l1_ratio=0.5,\n",
       "            max_iter=1000, normalize=False, positive=False, precompute=False,\n",
       "            random_state=None, selection='cyclic', tol=0.0001, warm_start=False),\n",
       " 'Lasso': Lasso(alpha=1.0, copy_X=True, fit_intercept=True, max_iter=1000,\n",
       "       normalize=False, positive=False, precompute=False, random_state=None,\n",
       "       selection='cyclic', tol=0.0001, warm_start=False),\n",
       " 'Ridge': Ridge(alpha=1.0, copy_X=True, fit_intercept=True, max_iter=None,\n",
       "       normalize=False, random_state=None, solver='auto', tol=0.001),\n",
       " 'ada': AdaBoostRegressor(base_estimator=None, learning_rate=1.0, loss='linear',\n",
       "                   n_estimators=50, random_state=None),\n",
       " 'GBM': GradientBoostingRegressor(alpha=0.9, criterion='friedman_mse', init=None,\n",
       "                           learning_rate=0.1, loss='ls', max_depth=3,\n",
       "                           max_features=None, max_leaf_nodes=None,\n",
       "                           min_impurity_decrease=0.0, min_impurity_split=None,\n",
       "                           min_samples_leaf=1, min_samples_split=2,\n",
       "                           min_weight_fraction_leaf=0.0, n_estimators=100,\n",
       "                           n_iter_no_change=None, presort='auto',\n",
       "                           random_state=None, subsample=1.0, tol=0.0001,\n",
       "                           validation_fraction=0.1, verbose=0, warm_start=False),\n",
       " 'RFR': RandomForestRegressor(bootstrap=True, criterion='mse', max_depth=None,\n",
       "                       max_features='auto', max_leaf_nodes=None,\n",
       "                       min_impurity_decrease=0.0, min_impurity_split=None,\n",
       "                       min_samples_leaf=1, min_samples_split=2,\n",
       "                       min_weight_fraction_leaf=0.0, n_estimators=10,\n",
       "                       n_jobs=None, oob_score=False, random_state=None,\n",
       "                       verbose=0, warm_start=False)}"
      ]
     },
     "execution_count": 83,
     "metadata": {},
     "output_type": "execute_result"
    }
   ],
   "source": [
    "models"
   ]
  },
  {
   "cell_type": "code",
   "execution_count": 47,
   "metadata": {},
   "outputs": [
    {
     "data": {
      "text/html": [
       "<div>\n",
       "<style scoped>\n",
       "    .dataframe tbody tr th:only-of-type {\n",
       "        vertical-align: middle;\n",
       "    }\n",
       "\n",
       "    .dataframe tbody tr th {\n",
       "        vertical-align: top;\n",
       "    }\n",
       "\n",
       "    .dataframe thead th {\n",
       "        text-align: right;\n",
       "    }\n",
       "</style>\n",
       "<table border=\"1\" class=\"dataframe\">\n",
       "  <thead>\n",
       "    <tr style=\"text-align: right;\">\n",
       "      <th></th>\n",
       "      <th>Price(USD)</th>\n",
       "      <th>Cost price</th>\n",
       "      <th>Inventory</th>\n",
       "      <th>Shipping</th>\n",
       "      <th>weight(lb)</th>\n",
       "      <th>0</th>\n",
       "      <th>1</th>\n",
       "      <th>2</th>\n",
       "      <th>3</th>\n",
       "      <th>4</th>\n",
       "      <th>...</th>\n",
       "      <th>452</th>\n",
       "      <th>453</th>\n",
       "      <th>454</th>\n",
       "      <th>455</th>\n",
       "      <th>456</th>\n",
       "      <th>457</th>\n",
       "      <th>y_pred</th>\n",
       "      <th>blowout_pred</th>\n",
       "      <th>blowout_test</th>\n",
       "      <th>blowout</th>\n",
       "    </tr>\n",
       "  </thead>\n",
       "  <tbody>\n",
       "    <tr>\n",
       "      <td>2424</td>\n",
       "      <td>16.13</td>\n",
       "      <td>12.0975</td>\n",
       "      <td>4</td>\n",
       "      <td>2.5</td>\n",
       "      <td>0.26</td>\n",
       "      <td>0.0</td>\n",
       "      <td>0.0</td>\n",
       "      <td>0.0</td>\n",
       "      <td>0.0</td>\n",
       "      <td>0.0</td>\n",
       "      <td>...</td>\n",
       "      <td>0.0</td>\n",
       "      <td>0.0</td>\n",
       "      <td>0.0</td>\n",
       "      <td>0.0</td>\n",
       "      <td>0.0</td>\n",
       "      <td>0.0</td>\n",
       "      <td>0.141685</td>\n",
       "      <td>28.231607</td>\n",
       "      <td>40.000000</td>\n",
       "      <td>40.000000</td>\n",
       "    </tr>\n",
       "    <tr>\n",
       "      <td>2779</td>\n",
       "      <td>6.38</td>\n",
       "      <td>4.7850</td>\n",
       "      <td>51</td>\n",
       "      <td>0.0</td>\n",
       "      <td>0.23</td>\n",
       "      <td>0.0</td>\n",
       "      <td>0.0</td>\n",
       "      <td>0.0</td>\n",
       "      <td>0.0</td>\n",
       "      <td>0.0</td>\n",
       "      <td>...</td>\n",
       "      <td>0.0</td>\n",
       "      <td>0.0</td>\n",
       "      <td>0.0</td>\n",
       "      <td>0.0</td>\n",
       "      <td>0.0</td>\n",
       "      <td>0.0</td>\n",
       "      <td>1.027425</td>\n",
       "      <td>49.638662</td>\n",
       "      <td>35.000000</td>\n",
       "      <td>35.000000</td>\n",
       "    </tr>\n",
       "    <tr>\n",
       "      <td>2011</td>\n",
       "      <td>3.59</td>\n",
       "      <td>2.6925</td>\n",
       "      <td>52</td>\n",
       "      <td>0.0</td>\n",
       "      <td>0.22</td>\n",
       "      <td>0.0</td>\n",
       "      <td>0.0</td>\n",
       "      <td>0.0</td>\n",
       "      <td>0.0</td>\n",
       "      <td>0.0</td>\n",
       "      <td>...</td>\n",
       "      <td>0.0</td>\n",
       "      <td>0.0</td>\n",
       "      <td>0.0</td>\n",
       "      <td>0.0</td>\n",
       "      <td>0.0</td>\n",
       "      <td>0.0</td>\n",
       "      <td>0.986051</td>\n",
       "      <td>52.735587</td>\n",
       "      <td>44.000000</td>\n",
       "      <td>44.000000</td>\n",
       "    </tr>\n",
       "    <tr>\n",
       "      <td>986</td>\n",
       "      <td>173.23</td>\n",
       "      <td>129.9225</td>\n",
       "      <td>2</td>\n",
       "      <td>2.5</td>\n",
       "      <td>3.00</td>\n",
       "      <td>0.0</td>\n",
       "      <td>0.0</td>\n",
       "      <td>0.0</td>\n",
       "      <td>0.0</td>\n",
       "      <td>0.0</td>\n",
       "      <td>...</td>\n",
       "      <td>0.0</td>\n",
       "      <td>0.0</td>\n",
       "      <td>0.0</td>\n",
       "      <td>0.0</td>\n",
       "      <td>0.0</td>\n",
       "      <td>0.0</td>\n",
       "      <td>0.107919</td>\n",
       "      <td>18.532416</td>\n",
       "      <td>64.000000</td>\n",
       "      <td>64.000000</td>\n",
       "    </tr>\n",
       "    <tr>\n",
       "      <td>3298</td>\n",
       "      <td>398.72</td>\n",
       "      <td>299.0400</td>\n",
       "      <td>3</td>\n",
       "      <td>2.5</td>\n",
       "      <td>0.60</td>\n",
       "      <td>0.0</td>\n",
       "      <td>0.0</td>\n",
       "      <td>0.0</td>\n",
       "      <td>0.0</td>\n",
       "      <td>0.0</td>\n",
       "      <td>...</td>\n",
       "      <td>0.0</td>\n",
       "      <td>0.0</td>\n",
       "      <td>0.0</td>\n",
       "      <td>0.0</td>\n",
       "      <td>0.0</td>\n",
       "      <td>0.0</td>\n",
       "      <td>0.133612</td>\n",
       "      <td>22.453046</td>\n",
       "      <td>25.000000</td>\n",
       "      <td>25.000000</td>\n",
       "    </tr>\n",
       "    <tr>\n",
       "      <td>...</td>\n",
       "      <td>...</td>\n",
       "      <td>...</td>\n",
       "      <td>...</td>\n",
       "      <td>...</td>\n",
       "      <td>...</td>\n",
       "      <td>...</td>\n",
       "      <td>...</td>\n",
       "      <td>...</td>\n",
       "      <td>...</td>\n",
       "      <td>...</td>\n",
       "      <td>...</td>\n",
       "      <td>...</td>\n",
       "      <td>...</td>\n",
       "      <td>...</td>\n",
       "      <td>...</td>\n",
       "      <td>...</td>\n",
       "      <td>...</td>\n",
       "      <td>...</td>\n",
       "      <td>...</td>\n",
       "      <td>...</td>\n",
       "      <td>...</td>\n",
       "    </tr>\n",
       "    <tr>\n",
       "      <td>416</td>\n",
       "      <td>736.97</td>\n",
       "      <td>552.7275</td>\n",
       "      <td>30</td>\n",
       "      <td>2.5</td>\n",
       "      <td>4.00</td>\n",
       "      <td>0.0</td>\n",
       "      <td>0.0</td>\n",
       "      <td>0.0</td>\n",
       "      <td>0.0</td>\n",
       "      <td>0.0</td>\n",
       "      <td>...</td>\n",
       "      <td>0.0</td>\n",
       "      <td>0.0</td>\n",
       "      <td>0.0</td>\n",
       "      <td>0.0</td>\n",
       "      <td>0.0</td>\n",
       "      <td>0.0</td>\n",
       "      <td>1.115865</td>\n",
       "      <td>26.884971</td>\n",
       "      <td>86.000000</td>\n",
       "      <td>86.000000</td>\n",
       "    </tr>\n",
       "    <tr>\n",
       "      <td>1823</td>\n",
       "      <td>54.84</td>\n",
       "      <td>41.1300</td>\n",
       "      <td>4</td>\n",
       "      <td>2.5</td>\n",
       "      <td>3.85</td>\n",
       "      <td>0.0</td>\n",
       "      <td>0.0</td>\n",
       "      <td>0.0</td>\n",
       "      <td>0.0</td>\n",
       "      <td>0.0</td>\n",
       "      <td>...</td>\n",
       "      <td>0.0</td>\n",
       "      <td>0.0</td>\n",
       "      <td>0.0</td>\n",
       "      <td>0.0</td>\n",
       "      <td>0.0</td>\n",
       "      <td>0.0</td>\n",
       "      <td>0.141522</td>\n",
       "      <td>28.264138</td>\n",
       "      <td>46.000000</td>\n",
       "      <td>46.000000</td>\n",
       "    </tr>\n",
       "    <tr>\n",
       "      <td>1167</td>\n",
       "      <td>2930.48</td>\n",
       "      <td>2197.8600</td>\n",
       "      <td>1</td>\n",
       "      <td>10.0</td>\n",
       "      <td>143.00</td>\n",
       "      <td>0.0</td>\n",
       "      <td>0.0</td>\n",
       "      <td>0.0</td>\n",
       "      <td>0.0</td>\n",
       "      <td>0.0</td>\n",
       "      <td>...</td>\n",
       "      <td>0.0</td>\n",
       "      <td>0.0</td>\n",
       "      <td>0.0</td>\n",
       "      <td>0.0</td>\n",
       "      <td>0.0</td>\n",
       "      <td>0.0</td>\n",
       "      <td>0.050784</td>\n",
       "      <td>19.691051</td>\n",
       "      <td>60.999999</td>\n",
       "      <td>60.999999</td>\n",
       "    </tr>\n",
       "    <tr>\n",
       "      <td>2458</td>\n",
       "      <td>27.67</td>\n",
       "      <td>20.7525</td>\n",
       "      <td>51</td>\n",
       "      <td>0.0</td>\n",
       "      <td>0.03</td>\n",
       "      <td>0.0</td>\n",
       "      <td>0.0</td>\n",
       "      <td>0.0</td>\n",
       "      <td>0.0</td>\n",
       "      <td>0.0</td>\n",
       "      <td>...</td>\n",
       "      <td>0.0</td>\n",
       "      <td>0.0</td>\n",
       "      <td>0.0</td>\n",
       "      <td>0.0</td>\n",
       "      <td>0.0</td>\n",
       "      <td>0.0</td>\n",
       "      <td>1.027425</td>\n",
       "      <td>49.638662</td>\n",
       "      <td>40.000000</td>\n",
       "      <td>40.000000</td>\n",
       "    </tr>\n",
       "    <tr>\n",
       "      <td>2425</td>\n",
       "      <td>6.14</td>\n",
       "      <td>4.6050</td>\n",
       "      <td>6</td>\n",
       "      <td>0.0</td>\n",
       "      <td>0.01</td>\n",
       "      <td>0.0</td>\n",
       "      <td>0.0</td>\n",
       "      <td>0.0</td>\n",
       "      <td>1.0</td>\n",
       "      <td>0.0</td>\n",
       "      <td>...</td>\n",
       "      <td>0.0</td>\n",
       "      <td>0.0</td>\n",
       "      <td>0.0</td>\n",
       "      <td>0.0</td>\n",
       "      <td>0.0</td>\n",
       "      <td>0.0</td>\n",
       "      <td>0.170721</td>\n",
       "      <td>35.145112</td>\n",
       "      <td>40.000000</td>\n",
       "      <td>40.000000</td>\n",
       "    </tr>\n",
       "  </tbody>\n",
       "</table>\n",
       "<p>420 rows × 467 columns</p>\n",
       "</div>"
      ],
      "text/plain": [
       "      Price(USD)  Cost price  Inventory  Shipping  weight(lb)    0    1    2  \\\n",
       "2424       16.13     12.0975          4       2.5        0.26  0.0  0.0  0.0   \n",
       "2779        6.38      4.7850         51       0.0        0.23  0.0  0.0  0.0   \n",
       "2011        3.59      2.6925         52       0.0        0.22  0.0  0.0  0.0   \n",
       "986       173.23    129.9225          2       2.5        3.00  0.0  0.0  0.0   \n",
       "3298      398.72    299.0400          3       2.5        0.60  0.0  0.0  0.0   \n",
       "...          ...         ...        ...       ...         ...  ...  ...  ...   \n",
       "416       736.97    552.7275         30       2.5        4.00  0.0  0.0  0.0   \n",
       "1823       54.84     41.1300          4       2.5        3.85  0.0  0.0  0.0   \n",
       "1167     2930.48   2197.8600          1      10.0      143.00  0.0  0.0  0.0   \n",
       "2458       27.67     20.7525         51       0.0        0.03  0.0  0.0  0.0   \n",
       "2425        6.14      4.6050          6       0.0        0.01  0.0  0.0  0.0   \n",
       "\n",
       "        3    4  ...  452  453  454  455  456  457    y_pred  blowout_pred  \\\n",
       "2424  0.0  0.0  ...  0.0  0.0  0.0  0.0  0.0  0.0  0.141685     28.231607   \n",
       "2779  0.0  0.0  ...  0.0  0.0  0.0  0.0  0.0  0.0  1.027425     49.638662   \n",
       "2011  0.0  0.0  ...  0.0  0.0  0.0  0.0  0.0  0.0  0.986051     52.735587   \n",
       "986   0.0  0.0  ...  0.0  0.0  0.0  0.0  0.0  0.0  0.107919     18.532416   \n",
       "3298  0.0  0.0  ...  0.0  0.0  0.0  0.0  0.0  0.0  0.133612     22.453046   \n",
       "...   ...  ...  ...  ...  ...  ...  ...  ...  ...       ...           ...   \n",
       "416   0.0  0.0  ...  0.0  0.0  0.0  0.0  0.0  0.0  1.115865     26.884971   \n",
       "1823  0.0  0.0  ...  0.0  0.0  0.0  0.0  0.0  0.0  0.141522     28.264138   \n",
       "1167  0.0  0.0  ...  0.0  0.0  0.0  0.0  0.0  0.0  0.050784     19.691051   \n",
       "2458  0.0  0.0  ...  0.0  0.0  0.0  0.0  0.0  0.0  1.027425     49.638662   \n",
       "2425  1.0  0.0  ...  0.0  0.0  0.0  0.0  0.0  0.0  0.170721     35.145112   \n",
       "\n",
       "      blowout_test    blowout  \n",
       "2424     40.000000  40.000000  \n",
       "2779     35.000000  35.000000  \n",
       "2011     44.000000  44.000000  \n",
       "986      64.000000  64.000000  \n",
       "3298     25.000000  25.000000  \n",
       "...            ...        ...  \n",
       "416      86.000000  86.000000  \n",
       "1823     46.000000  46.000000  \n",
       "1167     60.999999  60.999999  \n",
       "2458     40.000000  40.000000  \n",
       "2425     40.000000  40.000000  \n",
       "\n",
       "[420 rows x 467 columns]"
      ]
     },
     "execution_count": 47,
     "metadata": {},
     "output_type": "execute_result"
    }
   ],
   "source": [
    "X_test"
   ]
  },
  {
   "cell_type": "markdown",
   "metadata": {},
   "source": [
    "#### Number of days prediction (i.e Blowout period)"
   ]
  },
  {
   "cell_type": "code",
   "execution_count": 85,
   "metadata": {
    "scrolled": false
   },
   "outputs": [
    {
     "name": "stdout",
     "output_type": "stream",
     "text": [
      "[ 0.1512537  -0.01542601  0.78868978  0.01072055  0.04614865  0.9126617\n",
      "  0.92691841  0.93061341  0.7842994   4.28224478]\n",
      "2424    0.137255\n",
      "2779    0.016129\n",
      "2011    1.454545\n",
      "986     0.031250\n",
      "3298    0.011905\n",
      "3707    0.766667\n",
      "2967    0.753623\n",
      "1453    1.243902\n",
      "3849    0.333333\n",
      "2871    3.909091\n",
      "Name: SaleRate, dtype: float64\n"
     ]
    }
   ],
   "source": [
    "y_pred = models['GBM'].predict(X_test)\n",
    "print(y_pred[:10])\n",
    "print(y_test.head(10))"
   ]
  },
  {
   "cell_type": "code",
   "execution_count": 86,
   "metadata": {},
   "outputs": [
    {
     "data": {
      "text/plain": [
       "2424    0.137255\n",
       "2779    0.016129\n",
       "2011    1.454545\n",
       "986     0.031250\n",
       "3298    0.011905\n",
       "          ...   \n",
       "416     0.200000\n",
       "1823    1.159091\n",
       "1167    1.457143\n",
       "2458    1.000000\n",
       "2425    0.137255\n",
       "Name: SaleRate, Length: 420, dtype: float64"
      ]
     },
     "execution_count": 86,
     "metadata": {},
     "output_type": "execute_result"
    }
   ],
   "source": [
    "y_test"
   ]
  },
  {
   "cell_type": "code",
   "execution_count": 87,
   "metadata": {
    "scrolled": true
   },
   "outputs": [
    {
     "data": {
      "text/html": [
       "<div>\n",
       "<style scoped>\n",
       "    .dataframe tbody tr th:only-of-type {\n",
       "        vertical-align: middle;\n",
       "    }\n",
       "\n",
       "    .dataframe tbody tr th {\n",
       "        vertical-align: top;\n",
       "    }\n",
       "\n",
       "    .dataframe thead th {\n",
       "        text-align: right;\n",
       "    }\n",
       "</style>\n",
       "<table border=\"1\" class=\"dataframe\">\n",
       "  <thead>\n",
       "    <tr style=\"text-align: right;\">\n",
       "      <th></th>\n",
       "      <th>Price(USD)</th>\n",
       "      <th>Cost price</th>\n",
       "      <th>Inventory</th>\n",
       "      <th>Shipping</th>\n",
       "      <th>weight(lb)</th>\n",
       "      <th>0</th>\n",
       "      <th>1</th>\n",
       "      <th>2</th>\n",
       "      <th>3</th>\n",
       "      <th>4</th>\n",
       "      <th>...</th>\n",
       "      <th>451</th>\n",
       "      <th>452</th>\n",
       "      <th>453</th>\n",
       "      <th>454</th>\n",
       "      <th>455</th>\n",
       "      <th>456</th>\n",
       "      <th>457</th>\n",
       "      <th>y_pred</th>\n",
       "      <th>blowout_pred</th>\n",
       "      <th>blowout</th>\n",
       "    </tr>\n",
       "  </thead>\n",
       "  <tbody>\n",
       "    <tr>\n",
       "      <td>2424</td>\n",
       "      <td>3.95</td>\n",
       "      <td>2.9625</td>\n",
       "      <td>7</td>\n",
       "      <td>0.0</td>\n",
       "      <td>0.19</td>\n",
       "      <td>0.0</td>\n",
       "      <td>0.0</td>\n",
       "      <td>0.0</td>\n",
       "      <td>0.0</td>\n",
       "      <td>0.0</td>\n",
       "      <td>...</td>\n",
       "      <td>0.0</td>\n",
       "      <td>0.0</td>\n",
       "      <td>0.0</td>\n",
       "      <td>0.0</td>\n",
       "      <td>0.0</td>\n",
       "      <td>0.0</td>\n",
       "      <td>0.0</td>\n",
       "      <td>0.151254</td>\n",
       "      <td>46.279859</td>\n",
       "      <td>51.000000</td>\n",
       "    </tr>\n",
       "    <tr>\n",
       "      <td>2779</td>\n",
       "      <td>75.00</td>\n",
       "      <td>56.2500</td>\n",
       "      <td>1</td>\n",
       "      <td>10.0</td>\n",
       "      <td>35.19</td>\n",
       "      <td>0.0</td>\n",
       "      <td>0.0</td>\n",
       "      <td>0.0</td>\n",
       "      <td>0.0</td>\n",
       "      <td>0.0</td>\n",
       "      <td>...</td>\n",
       "      <td>0.0</td>\n",
       "      <td>0.0</td>\n",
       "      <td>0.0</td>\n",
       "      <td>0.0</td>\n",
       "      <td>0.0</td>\n",
       "      <td>0.0</td>\n",
       "      <td>0.0</td>\n",
       "      <td>-0.015426</td>\n",
       "      <td>-64.825563</td>\n",
       "      <td>62.000000</td>\n",
       "    </tr>\n",
       "    <tr>\n",
       "      <td>2011</td>\n",
       "      <td>30.75</td>\n",
       "      <td>23.0625</td>\n",
       "      <td>64</td>\n",
       "      <td>0.0</td>\n",
       "      <td>0.10</td>\n",
       "      <td>0.0</td>\n",
       "      <td>0.0</td>\n",
       "      <td>0.0</td>\n",
       "      <td>0.0</td>\n",
       "      <td>0.0</td>\n",
       "      <td>...</td>\n",
       "      <td>0.0</td>\n",
       "      <td>0.0</td>\n",
       "      <td>0.0</td>\n",
       "      <td>0.0</td>\n",
       "      <td>0.0</td>\n",
       "      <td>0.0</td>\n",
       "      <td>0.0</td>\n",
       "      <td>0.788690</td>\n",
       "      <td>81.147241</td>\n",
       "      <td>44.000000</td>\n",
       "    </tr>\n",
       "    <tr>\n",
       "      <td>986</td>\n",
       "      <td>169.12</td>\n",
       "      <td>126.8400</td>\n",
       "      <td>1</td>\n",
       "      <td>10.0</td>\n",
       "      <td>40.00</td>\n",
       "      <td>0.0</td>\n",
       "      <td>0.0</td>\n",
       "      <td>0.0</td>\n",
       "      <td>0.0</td>\n",
       "      <td>0.0</td>\n",
       "      <td>...</td>\n",
       "      <td>0.0</td>\n",
       "      <td>0.0</td>\n",
       "      <td>0.0</td>\n",
       "      <td>0.0</td>\n",
       "      <td>0.0</td>\n",
       "      <td>0.0</td>\n",
       "      <td>0.0</td>\n",
       "      <td>0.010721</td>\n",
       "      <td>93.278813</td>\n",
       "      <td>32.000000</td>\n",
       "    </tr>\n",
       "    <tr>\n",
       "      <td>3298</td>\n",
       "      <td>1288.43</td>\n",
       "      <td>966.3225</td>\n",
       "      <td>1</td>\n",
       "      <td>3.5</td>\n",
       "      <td>15.00</td>\n",
       "      <td>0.0</td>\n",
       "      <td>0.0</td>\n",
       "      <td>0.0</td>\n",
       "      <td>0.0</td>\n",
       "      <td>0.0</td>\n",
       "      <td>...</td>\n",
       "      <td>0.0</td>\n",
       "      <td>0.0</td>\n",
       "      <td>0.0</td>\n",
       "      <td>0.0</td>\n",
       "      <td>0.0</td>\n",
       "      <td>0.0</td>\n",
       "      <td>0.0</td>\n",
       "      <td>0.046149</td>\n",
       "      <td>21.669108</td>\n",
       "      <td>84.000000</td>\n",
       "    </tr>\n",
       "    <tr>\n",
       "      <td>3707</td>\n",
       "      <td>43.56</td>\n",
       "      <td>32.6700</td>\n",
       "      <td>86</td>\n",
       "      <td>2.5</td>\n",
       "      <td>6.61</td>\n",
       "      <td>0.0</td>\n",
       "      <td>0.0</td>\n",
       "      <td>1.0</td>\n",
       "      <td>0.0</td>\n",
       "      <td>0.0</td>\n",
       "      <td>...</td>\n",
       "      <td>0.0</td>\n",
       "      <td>0.0</td>\n",
       "      <td>0.0</td>\n",
       "      <td>0.0</td>\n",
       "      <td>0.0</td>\n",
       "      <td>0.0</td>\n",
       "      <td>0.0</td>\n",
       "      <td>0.912662</td>\n",
       "      <td>94.229877</td>\n",
       "      <td>112.173913</td>\n",
       "    </tr>\n",
       "    <tr>\n",
       "      <td>2967</td>\n",
       "      <td>127.10</td>\n",
       "      <td>95.3250</td>\n",
       "      <td>52</td>\n",
       "      <td>3.5</td>\n",
       "      <td>24.73</td>\n",
       "      <td>0.0</td>\n",
       "      <td>0.0</td>\n",
       "      <td>0.0</td>\n",
       "      <td>0.0</td>\n",
       "      <td>0.0</td>\n",
       "      <td>...</td>\n",
       "      <td>0.0</td>\n",
       "      <td>0.0</td>\n",
       "      <td>0.0</td>\n",
       "      <td>0.0</td>\n",
       "      <td>0.0</td>\n",
       "      <td>0.0</td>\n",
       "      <td>0.0</td>\n",
       "      <td>0.926918</td>\n",
       "      <td>56.099867</td>\n",
       "      <td>69.000000</td>\n",
       "    </tr>\n",
       "    <tr>\n",
       "      <td>1453</td>\n",
       "      <td>21.53</td>\n",
       "      <td>16.1475</td>\n",
       "      <td>51</td>\n",
       "      <td>2.5</td>\n",
       "      <td>0.99</td>\n",
       "      <td>0.0</td>\n",
       "      <td>0.0</td>\n",
       "      <td>0.0</td>\n",
       "      <td>0.0</td>\n",
       "      <td>0.0</td>\n",
       "      <td>...</td>\n",
       "      <td>0.0</td>\n",
       "      <td>0.0</td>\n",
       "      <td>0.0</td>\n",
       "      <td>0.0</td>\n",
       "      <td>0.0</td>\n",
       "      <td>0.0</td>\n",
       "      <td>0.0</td>\n",
       "      <td>0.930613</td>\n",
       "      <td>54.802563</td>\n",
       "      <td>41.000000</td>\n",
       "    </tr>\n",
       "    <tr>\n",
       "      <td>3849</td>\n",
       "      <td>106.60</td>\n",
       "      <td>79.9500</td>\n",
       "      <td>46</td>\n",
       "      <td>10.0</td>\n",
       "      <td>29.00</td>\n",
       "      <td>0.0</td>\n",
       "      <td>0.0</td>\n",
       "      <td>0.0</td>\n",
       "      <td>0.0</td>\n",
       "      <td>0.0</td>\n",
       "      <td>...</td>\n",
       "      <td>0.0</td>\n",
       "      <td>0.0</td>\n",
       "      <td>0.0</td>\n",
       "      <td>0.0</td>\n",
       "      <td>0.0</td>\n",
       "      <td>0.0</td>\n",
       "      <td>0.0</td>\n",
       "      <td>0.784299</td>\n",
       "      <td>58.651072</td>\n",
       "      <td>138.000000</td>\n",
       "    </tr>\n",
       "    <tr>\n",
       "      <td>2871</td>\n",
       "      <td>2.67</td>\n",
       "      <td>2.0025</td>\n",
       "      <td>258</td>\n",
       "      <td>0.0</td>\n",
       "      <td>0.10</td>\n",
       "      <td>0.0</td>\n",
       "      <td>0.0</td>\n",
       "      <td>0.0</td>\n",
       "      <td>0.0</td>\n",
       "      <td>0.0</td>\n",
       "      <td>...</td>\n",
       "      <td>0.0</td>\n",
       "      <td>0.0</td>\n",
       "      <td>0.0</td>\n",
       "      <td>0.0</td>\n",
       "      <td>0.0</td>\n",
       "      <td>0.0</td>\n",
       "      <td>0.0</td>\n",
       "      <td>4.282245</td>\n",
       "      <td>60.248774</td>\n",
       "      <td>66.000000</td>\n",
       "    </tr>\n",
       "  </tbody>\n",
       "</table>\n",
       "<p>10 rows × 466 columns</p>\n",
       "</div>"
      ],
      "text/plain": [
       "      Price(USD)  Cost price  Inventory  Shipping  weight(lb)    0    1    2  \\\n",
       "2424        3.95      2.9625          7       0.0        0.19  0.0  0.0  0.0   \n",
       "2779       75.00     56.2500          1      10.0       35.19  0.0  0.0  0.0   \n",
       "2011       30.75     23.0625         64       0.0        0.10  0.0  0.0  0.0   \n",
       "986       169.12    126.8400          1      10.0       40.00  0.0  0.0  0.0   \n",
       "3298     1288.43    966.3225          1       3.5       15.00  0.0  0.0  0.0   \n",
       "3707       43.56     32.6700         86       2.5        6.61  0.0  0.0  1.0   \n",
       "2967      127.10     95.3250         52       3.5       24.73  0.0  0.0  0.0   \n",
       "1453       21.53     16.1475         51       2.5        0.99  0.0  0.0  0.0   \n",
       "3849      106.60     79.9500         46      10.0       29.00  0.0  0.0  0.0   \n",
       "2871        2.67      2.0025        258       0.0        0.10  0.0  0.0  0.0   \n",
       "\n",
       "        3    4  ...  451  452  453  454  455  456  457    y_pred  \\\n",
       "2424  0.0  0.0  ...  0.0  0.0  0.0  0.0  0.0  0.0  0.0  0.151254   \n",
       "2779  0.0  0.0  ...  0.0  0.0  0.0  0.0  0.0  0.0  0.0 -0.015426   \n",
       "2011  0.0  0.0  ...  0.0  0.0  0.0  0.0  0.0  0.0  0.0  0.788690   \n",
       "986   0.0  0.0  ...  0.0  0.0  0.0  0.0  0.0  0.0  0.0  0.010721   \n",
       "3298  0.0  0.0  ...  0.0  0.0  0.0  0.0  0.0  0.0  0.0  0.046149   \n",
       "3707  0.0  0.0  ...  0.0  0.0  0.0  0.0  0.0  0.0  0.0  0.912662   \n",
       "2967  0.0  0.0  ...  0.0  0.0  0.0  0.0  0.0  0.0  0.0  0.926918   \n",
       "1453  0.0  0.0  ...  0.0  0.0  0.0  0.0  0.0  0.0  0.0  0.930613   \n",
       "3849  0.0  0.0  ...  0.0  0.0  0.0  0.0  0.0  0.0  0.0  0.784299   \n",
       "2871  0.0  0.0  ...  0.0  0.0  0.0  0.0  0.0  0.0  0.0  4.282245   \n",
       "\n",
       "      blowout_pred     blowout  \n",
       "2424     46.279859   51.000000  \n",
       "2779    -64.825563   62.000000  \n",
       "2011     81.147241   44.000000  \n",
       "986      93.278813   32.000000  \n",
       "3298     21.669108   84.000000  \n",
       "3707     94.229877  112.173913  \n",
       "2967     56.099867   69.000000  \n",
       "1453     54.802563   41.000000  \n",
       "3849     58.651072  138.000000  \n",
       "2871     60.248774   66.000000  \n",
       "\n",
       "[10 rows x 466 columns]"
      ]
     },
     "execution_count": 87,
     "metadata": {},
     "output_type": "execute_result"
    }
   ],
   "source": [
    "#blowout period identification using best performing algorithm\n",
    "X_test['y_pred'] = y_pred\n",
    "X_test['blowout_pred'] = pd.DataFrame({\"Days\" : X_test.Inventory / X_test['y_pred']})\n",
    "X_test['blowout'] = pd.DataFrame({\"Days\" : X_test.Inventory / y_test})\n",
    "X_test.head(10)"
   ]
  },
  {
   "cell_type": "code",
   "execution_count": 88,
   "metadata": {},
   "outputs": [
    {
     "data": {
      "text/plain": [
       "<matplotlib.axes._subplots.AxesSubplot at 0x4017bbcf08>"
      ]
     },
     "execution_count": 88,
     "metadata": {},
     "output_type": "execute_result"
    },
    {
     "data": {
      "image/png": "[encoded data removed]",
      "text/plain": [
       "<Figure size 432x288 with 1 Axes>"
      ]
     },
     "metadata": {
      "needs_background": "light"
     },
     "output_type": "display_data"
    }
   ],
   "source": [
    "pd.plotting.hist_series(Y)"
   ]
  },
  {
   "cell_type": "code",
   "execution_count": null,
   "metadata": {},
   "outputs": [],
   "source": []
  },
  {
   "cell_type": "code",
   "execution_count": null,
   "metadata": {},
   "outputs": [],
   "source": []
  }
 ],
 "metadata": {
  "kernelspec": {
   "display_name": "Python 3",
   "language": "python",
   "name": "python3"
  },
  "language_info": {
   "codemirror_mode": {
    "name": "ipython",
    "version": 3
   },
   "file_extension": ".py",
   "mimetype": "text/x-python",
   "name": "python",
   "nbconvert_exporter": "python",
   "pygments_lexer": "ipython3",
   "version": "3.7.4"
  }
 },
 "nbformat": 4,
 "nbformat_minor": 2
}
