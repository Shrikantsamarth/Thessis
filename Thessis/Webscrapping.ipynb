{
 "cells": [
  {
   "cell_type": "code",
   "execution_count": null,
   "metadata": {},
   "outputs": [],
   "source": [
    "import sys               # import sys package\n",
    "old_path = sys.path[:]   # make a copy of the old paths\n",
    "sys.path.pop(0)          # remove the first one (usually the local)\n",
    "import bs4               # import the package\n",
    "sys.path = old_path      # restore the import path"
   ]
  },
  {
   "cell_type": "code",
   "execution_count": 1,
   "metadata": {},
   "outputs": [],
   "source": [
    "import requests\n",
    "from bs4 import BeautifulSoup"
   ]
  },
  {
   "cell_type": "code",
   "execution_count": 2,
   "metadata": {},
   "outputs": [],
   "source": [
    "page = requests.get('https://www.malabs.com/product/MB-SX399EG',  headers={'User-Agent': 'Mozilla/5.0'})\n",
    "soup = BeautifulSoup(page.content, 'html.parser')"
   ]
  },
  {
   "cell_type": "code",
   "execution_count": 5,
   "metadata": {
    "scrolled": false
   },
   "outputs": [
    {
     "data": {
      "text/plain": [
       "[<li><a href=\"/product?categoryId=229000000000000\">\n",
       " \t\t\t\t\t\t\t\t\t\t\tBarebone</a>\n",
       " </li>, <li><a href=\"/product?categoryId=222000000000000\">\n",
       " \t\t\t\t\t\t\t\t\t\t\tCable</a>\n",
       " </li>, <li><a href=\"/product?categoryId=225000000000000\">\n",
       " \t\t\t\t\t\t\t\t\t\t\tCard Reader</a>\n",
       " </li>, <li><a href=\"/product?categoryId=212000000000000\">\n",
       " \t\t\t\t\t\t\t\t\t\t\tCase &amp; Chassis</a>\n",
       " </li>, <li><a href=\"/product?categoryId=206000000000000\">\n",
       " \t\t\t\t\t\t\t\t\t\t\tController Card</a>\n",
       " </li>, <li><a href=\"/product?categoryId=203000000000000\">\n",
       " \t\t\t\t\t\t\t\t\t\t\tCPU &amp; Processor</a>\n",
       " </li>, <li><a href=\"/product?categoryId=201000000000000\">\n",
       " \t\t\t\t\t\t\t\t\t\t\tDRAM Memory</a>\n",
       " </li>, <li><a href=\"/product?categoryId=226000000000000\">\n",
       " \t\t\t\t\t\t\t\t\t\t\tExternal Enclosure</a>\n",
       " </li>, <li><a href=\"/product?categoryId=216000000000000\">\n",
       " \t\t\t\t\t\t\t\t\t\t\tFan &amp; Heatsink</a>\n",
       " </li>, <li><a href=\"/product?categoryId=204000000000000\">\n",
       " \t\t\t\t\t\t\t\t\t\t\tHard Drive</a>\n",
       " </li>, <li><a href=\"/product?categoryId=215000000000000\">\n",
       " \t\t\t\t\t\t\t\t\t\t\tInput &amp; Output Device</a>\n",
       " </li>, <li><a href=\"/product?categoryId=224000000000000\">\n",
       " \t\t\t\t\t\t\t\t\t\t\tMemory Card</a>\n",
       " </li>, <li><a href=\"/product?categoryId=210000000000000\">\n",
       " \t\t\t\t\t\t\t\t\t\t\tMonitor &amp; Display &amp; TV</a>\n",
       " </li>, <li><a href=\"/product?categoryId=218000000000000\">\n",
       " \t\t\t\t\t\t\t\t\t\t\tMotherboard</a>\n",
       " </li>, <li><a href=\"/product?categoryId=217000000000000\">\n",
       " \t\t\t\t\t\t\t\t\t\t\tMultimedia</a>\n",
       " </li>, <li><a href=\"/product?categoryId=221000000000000\">\n",
       " \t\t\t\t\t\t\t\t\t\t\tNAS / DAS / SAN</a>\n",
       " </li>, <li><a href=\"/product?categoryId=211000000000000\">\n",
       " \t\t\t\t\t\t\t\t\t\t\tNetworking</a>\n",
       " </li>, <li><a href=\"/product?categoryId=205000000000000\">\n",
       " \t\t\t\t\t\t\t\t\t\t\tOptical Drive</a>\n",
       " </li>, <li><a href=\"/product?categoryId=214000000000000\">\n",
       " \t\t\t\t\t\t\t\t\t\t\tPower Protection &amp; UPS</a>\n",
       " </li>, <li><a href=\"/product?categoryId=213000000000000\">\n",
       " \t\t\t\t\t\t\t\t\t\t\tPower Supply</a>\n",
       " </li>, <li><a href=\"/product?categoryId=219000000000000\">\n",
       " \t\t\t\t\t\t\t\t\t\t\tPrinter &amp; Scanner</a>\n",
       " </li>, <li><a href=\"/product?categoryId=202000000000000\">\n",
       " \t\t\t\t\t\t\t\t\t\t\tProjector &amp; Screen</a>\n",
       " </li>, <li><a href=\"/product?categoryId=228000000000000\">\n",
       " \t\t\t\t\t\t\t\t\t\t\tServer &amp; Workstation</a>\n",
       " </li>, <li><a href=\"/product?categoryId=208000000000000\">\n",
       " \t\t\t\t\t\t\t\t\t\t\tSoftware</a>\n",
       " </li>, <li><a href=\"/product?categoryId=227000000000000\">\n",
       " \t\t\t\t\t\t\t\t\t\t\tSolid State Drive</a>\n",
       " </li>, <li><a href=\"/product?categoryId=223000000000000\">\n",
       " \t\t\t\t\t\t\t\t\t\t\tUSB Drive</a>\n",
       " </li>, <li><a href=\"/product?categoryId=209000000000000\">\n",
       " \t\t\t\t\t\t\t\t\t\t\tVideo Card</a>\n",
       " </li>, <li><a href=\"/product?categoryId=505000000000000\">\n",
       " \t\t\t\t\t\t\t\t\t\t\tAll-in-One PC</a>\n",
       " </li>, <li><a href=\"/product?categoryId=506000000000000\">\n",
       " \t\t\t\t\t\t\t\t\t\t\tDesktop System</a>\n",
       " </li>, <li><a href=\"/product?categoryId=509000000000000\">\n",
       " \t\t\t\t\t\t\t\t\t\t\tChromebook</a>\n",
       " </li>, <li><a href=\"/product?categoryId=502000000000000\">\n",
       " \t\t\t\t\t\t\t\t\t\t\tLaptop &amp; Notebook</a>\n",
       " </li>, <li><a href=\"/product?categoryId=508000000000000\">\n",
       " \t\t\t\t\t\t\t\t\t\t\tMedia Player</a>\n",
       " </li>, <li><a href=\"/product?categoryId=501000000000000\">\n",
       " \t\t\t\t\t\t\t\t\t\t\tNetbook</a>\n",
       " </li>, <li><a href=\"/product?categoryId=504000000000000\">\n",
       " \t\t\t\t\t\t\t\t\t\t\tTablet PC</a>\n",
       " </li>, <li><a href=\"/product?categoryId=503000000000000\">\n",
       " \t\t\t\t\t\t\t\t\t\t\tUltrabook</a>\n",
       " </li>, <li><a href=\"/product?categoryId=507000000000000\">\n",
       " \t\t\t\t\t\t\t\t\t\t\tAccessory</a>\n",
       " </li>, <li><a href=\"/product?categoryId=305000000000000\">\n",
       " \t\t\t\t\t\t\t\t\t\t\tBattery &amp; Charger</a>\n",
       " </li>, <li><a href=\"/product?categoryId=318000000000000\">\n",
       " \t\t\t\t\t\t\t\t\t\t\tCar Accessory</a>\n",
       " </li>, <li><a href=\"/product?categoryId=306000000000000\">\n",
       " \t\t\t\t\t\t\t\t\t\t\tMobile Accessory</a>\n",
       " </li>, <li><a href=\"/product?categoryId=313000000000000\">\n",
       " \t\t\t\t\t\t\t\t\t\t\tSecurity &amp; Surveillance</a>\n",
       " </li>, <li><a href=\"/product?categoryId=319000000000000\">\n",
       " \t\t\t\t\t\t\t\t\t\t\tSmart Home</a>\n",
       " </li>, <li><a href=\"/product?categoryId=330000000000000\">\n",
       " \t\t\t\t\t\t\t\t\t\t\tCell Phone</a>\n",
       " </li>, <li><a href=\"/product?categoryId=340000000000000\">\n",
       " \t\t\t\t\t\t\t\t\t\t\tGaming Accessory</a>\n",
       " </li>, <li><a href=\"/product?categoryId=210100000000000\">\n",
       " \t\t\t\t\t\t\t\tDigital Signage Kiosk</a></li>, <li><a href=\"/product?categoryId=210130000000000\">\n",
       " \t\t\t\t\t\t\t\tDisplay w/ Embedded Media Player</a></li>, <li><a href=\"/product?categoryId=210010700000000\">\n",
       " \t\t\t\t\t\t\t\tLarge Format Display</a></li>, <li><a href=\"/product?categoryId=508000000000000\">\n",
       " \t\t\t\t\t\t\t\tMedia Player</a></li>, <li><a href=\"/product?categoryId=202000000000000\">\n",
       " \t\t\t\t\t\t\t\tProjector &amp; Screen</a></li>, <li><a href=\"/product?categoryId=210030000000000\">\n",
       " \t\t\t\t\t\t\t\t Touch Screen LCD/LED</a></li>, <li><a href=\"/product?categoryId=210090000000000\">\n",
       " \t\t\t\t\t\t\t\tWall Mount &amp; Display Stand</a></li>, <li><a href=\"/product\">Products</a> <span class=\"divider\">&gt;</span></li>, <li><a href=\"/product?categoryId=200000000000000\">Hardware &amp; Software</a> <span class=\"divider\">&gt;</span></li>, <li><a href=\"/product?categoryId=218000000000000\">Motherboard</a> <span class=\"divider\">&gt;</span></li>, <li><a href=\"/product?categoryId=218010000000000\">Desktop</a> <span class=\"divider\">&gt;</span></li>, <li><a href=\"/product?categoryId=218010200000000\">AMD Platform</a> <span class=\"divider\">&gt;</span></li>, <li><a href=\"/product?categoryId=218010211000000\">Socket TR4</a> <span class=\"divider\">&gt;</span></li>, <li>MB-SX399EG</li>, <li class=\"nav-header\" style=\"margin-bottom:10px;\">Narrow Search By <i class=\"sidebar-arrow fa fa-caret-down\"></i></li>, <li class=\"narrowby\">Category</li>, <li><a id=\"categoryId218010211000000\" onclick=\"javascript:forwordItem(new Array('categoryId','218010211000000'));\">Socket TR4 (12)</a></li>, <li class=\"divider\"><li>\n",
       " <!-- PRINT ALL BRAND -->\n",
       " <li class=\"narrowby\">Brand</li>\n",
       " <li><a id=\"brandId302\" onclick=\"javascript:forwordItem(new Array('brandId','302'));\">ASRock (4)</a></li>\n",
       " <li><a id=\"brandId9\" onclick=\"javascript:forwordItem(new Array('brandId','9'));\">ASUS (3)</a></li>\n",
       " <li><a id=\"brandId7\" onclick=\"javascript:forwordItem(new Array('brandId','7'));\">GIGABYTE (3)</a></li>\n",
       " <li><a id=\"brandId150\" onclick=\"javascript:forwordItem(new Array('brandId','150'));\">MSI (2)</a></li>\n",
       " <li class=\"divider\"><li>\n",
       " <!-- SHOW ALL PRICE RANGE -->\n",
       " <li class=\"narrowby\">Price</li>\n",
       " <li><a id=\"priceRangeId4\" onclick=\"javascript:forwordItem(new Array('priceRangeId','4'));\">$ 100 to $ 500 (11)</a></li>\n",
       " <li><a id=\"priceRangeId5\" onclick=\"javascript:forwordItem(new Array('priceRangeId','5'));\">$ 500 to $ 1,000 (1)</a></li>\n",
       " <!-- Added by Robin for spec search function-->\n",
       " <!-- End added by Robin -->\n",
       " </li></li></li></li>, <li>\n",
       " <!-- PRINT ALL BRAND -->\n",
       " <li class=\"narrowby\">Brand</li>\n",
       " <li><a id=\"brandId302\" onclick=\"javascript:forwordItem(new Array('brandId','302'));\">ASRock (4)</a></li>\n",
       " <li><a id=\"brandId9\" onclick=\"javascript:forwordItem(new Array('brandId','9'));\">ASUS (3)</a></li>\n",
       " <li><a id=\"brandId7\" onclick=\"javascript:forwordItem(new Array('brandId','7'));\">GIGABYTE (3)</a></li>\n",
       " <li><a id=\"brandId150\" onclick=\"javascript:forwordItem(new Array('brandId','150'));\">MSI (2)</a></li>\n",
       " <li class=\"divider\"><li>\n",
       " <!-- SHOW ALL PRICE RANGE -->\n",
       " <li class=\"narrowby\">Price</li>\n",
       " <li><a id=\"priceRangeId4\" onclick=\"javascript:forwordItem(new Array('priceRangeId','4'));\">$ 100 to $ 500 (11)</a></li>\n",
       " <li><a id=\"priceRangeId5\" onclick=\"javascript:forwordItem(new Array('priceRangeId','5'));\">$ 500 to $ 1,000 (1)</a></li>\n",
       " <!-- Added by Robin for spec search function-->\n",
       " <!-- End added by Robin -->\n",
       " </li></li></li>, <li class=\"narrowby\">Brand</li>, <li><a id=\"brandId302\" onclick=\"javascript:forwordItem(new Array('brandId','302'));\">ASRock (4)</a></li>, <li><a id=\"brandId9\" onclick=\"javascript:forwordItem(new Array('brandId','9'));\">ASUS (3)</a></li>, <li><a id=\"brandId7\" onclick=\"javascript:forwordItem(new Array('brandId','7'));\">GIGABYTE (3)</a></li>, <li><a id=\"brandId150\" onclick=\"javascript:forwordItem(new Array('brandId','150'));\">MSI (2)</a></li>, <li class=\"divider\"><li>\n",
       " <!-- SHOW ALL PRICE RANGE -->\n",
       " <li class=\"narrowby\">Price</li>\n",
       " <li><a id=\"priceRangeId4\" onclick=\"javascript:forwordItem(new Array('priceRangeId','4'));\">$ 100 to $ 500 (11)</a></li>\n",
       " <li><a id=\"priceRangeId5\" onclick=\"javascript:forwordItem(new Array('priceRangeId','5'));\">$ 500 to $ 1,000 (1)</a></li>\n",
       " <!-- Added by Robin for spec search function-->\n",
       " <!-- End added by Robin -->\n",
       " </li></li>, <li>\n",
       " <!-- SHOW ALL PRICE RANGE -->\n",
       " <li class=\"narrowby\">Price</li>\n",
       " <li><a id=\"priceRangeId4\" onclick=\"javascript:forwordItem(new Array('priceRangeId','4'));\">$ 100 to $ 500 (11)</a></li>\n",
       " <li><a id=\"priceRangeId5\" onclick=\"javascript:forwordItem(new Array('priceRangeId','5'));\">$ 500 to $ 1,000 (1)</a></li>\n",
       " <!-- Added by Robin for spec search function-->\n",
       " <!-- End added by Robin -->\n",
       " </li>, <li class=\"narrowby\">Price</li>, <li><a id=\"priceRangeId4\" onclick=\"javascript:forwordItem(new Array('priceRangeId','4'));\">$ 100 to $ 500 (11)</a></li>, <li><a id=\"priceRangeId5\" onclick=\"javascript:forwordItem(new Array('priceRangeId','5'));\">$ 500 to $ 1,000 (1)</a></li>, <li class=\"nav-header\">Promotion Information</li>, <li><a class=\"cursor_pointer\" id=\"brandIR\">Instant Rebate</a></li>, <li><a class=\"cursor_pointer\" id=\"brandMIR\">Mail In Rebate</a></li>, <li><a class=\"cursor_pointer\" id=\"brandPromo\">Special Promotion</a></li>, <li><a class=\"cursor_pointer\" id=\"brandMircosite\" style=\"display:none\">Microsite</a></li>, <li><a class=\"cursor_pointer\" id=\"brandWarranty\" style=\"display:none\">Warranty</a></li>, <li><img onload=\"javascript:_setimages($(this),80);\" src=\"/images/uploads/M/B/-/MB-SX399EG/MB-SX399EG_TH.JPG\"/></li>, <li><img onload=\"javascript:_setimages($(this),80);\" src=\"/images/uploads/M/B/-/MB-SX399EG/MB-SX399EG.1_TH.JPG\"/></li>, <li><img onload=\"javascript:_setimages($(this),80);\" src=\"/images/uploads/M/B/-/MB-SX399EG/MB-SX399EG.2_TH.JPG\"/></li>, <li><img onload=\"javascript:_setimages($(this),80);\" src=\"/images/uploads/M/B/-/MB-SX399EG/MB-SX399EG.3_TH.JPG\"/></li>, <li><img onload=\"javascript:_setimages($(this),80);\" src=\"/images/uploads/M/B/-/MB-SX399EG/MB-SX399EG.4_TH.JPG\"/></li>, <li><img onload=\"javascript:_setimages($(this),80);\" src=\"/images/uploads/M/B/-/MB-SX399EG/MB-SX399EG.5_TH.JPG\"/></li>, <li><img onload=\"javascript:_setimages($(this),80);\" src=\"/images/uploads/M/B/-/MB-SX399EG/MB-SX399EG.6_TH.JPG\"/></li>, <li class=\"active\">\n",
       " <a data-toggle=\"tab\" href=\"#specification_content\" id=\"tab1\"><strong>Specifications</strong></a>\n",
       " </li>, <li><strong>Mfr Part Number: </strong>ROG STRIX X399-E GAMING</li>, <li><strong>CPU: </strong>Socket TR4<ul><li>Supports AMD Ryzen Threadripper Processors</li></ul></li>, <li>Supports AMD Ryzen Threadripper Processors</li>, <li><strong>Chipset:</strong> AMD X399</li>, <li><strong>Memory: </strong>8x DDR4-3600(OC)/ 3200(OC)/ 2800(OC)/ 2666/ 2400/ 2133 MHz DIMM Slots, Max Capacity of 128GB</li>, <li><strong>Slots:</strong> 4x PCI-Express 3.0 x16 Slots (single at x16, dual at x16/x16, triple at x16/x16/x8 mode), 1x PCI-Express 2.0 x4 Slot, 1x PCI-Express 2.0 x1 Slot</li>, <li><strong>Multi-Graphics:</strong> Supports AMD Quad-GPU/3-Way/2-Way CrossFireX and NVIDIA Quad-GPU/3-Way/2-Way SLI Technology</li>, <li><strong><strong>Storage:</strong></strong><ul><li><strong>SATA:</strong> 6x SATA3 Ports</li><li><strong>M.2: </strong>2x M.2 Ports (w/ M Key), one supports type 2242/ 2260/ 2280 PCI-Express 3.0 x4 and SATA modes, one supports type 2242/ 2260/ 2280/ 22110 PCI-Express 3.0 x4 and SATA modes</li><li><strong>U.2: </strong>1x U.2 Port</li></ul></li>, <li><strong>SATA:</strong> 6x SATA3 Ports</li>, <li><strong>M.2: </strong>2x M.2 Ports (w/ M Key), one supports type 2242/ 2260/ 2280 PCI-Express 3.0 x4 and SATA modes, one supports type 2242/ 2260/ 2280/ 22110 PCI-Express 3.0 x4 and SATA modes</li>, <li><strong>U.2: </strong>1x U.2 Port</li>, <li><strong>Audio: </strong>ROG SupremeFX S1220A 8-Channel high-definition CODEC</li>, <li><strong>LAN:</strong> Intel<strong> </strong>I211-AT Gigabit Ethernet Controller; Wi-Fi 802.11 a/b/g/n/ac Wireless LAN (dual band 2.4/5 GHz); Bluetooth V4.2, V4.1, V4.0 LE, V3.0+HS</li>, <li><strong>Ports: </strong>3x USB 3.1 Gen2 Ports (1 Type-A rear, 1 Type-C rear, 1 front), 12x USB 3.1 Gen1 Ports (8 rear, 4 at mid-board), 4x USB 2.0 Ports (at mid-board), 1x Optical S/PDIF out, 1x RJ45 LAN Port, Audio I/O Jacks</li>, <li><strong>Power Connector: </strong>1x 24-pin EATX Power Connector, 1x 8-pin EATX 12V Power Connector, 1x 4-pin EATX 12V Power Connector</li>, <li><strong>Form Factor: </strong>EATX, 12.0 x 10.6 inch / 30.5 x 26.9 cm</li>, <li><a href=\"/product/directory.php\">View All Products</a></li>, <li><a href=\"/product?categoryId=200000000000000\">Hardware &amp; Software</a></li>, <li><a href=\"/product?categoryId=500000000000000\">PCs &amp; Laptops</a></li>, <li><a href=\"/product?categoryId=300000000000000\">Electronics</a></li>, <li><a href=\"/uploads/catalog.pdf\" target=\"_blank\">Catalog</a></li>, <li><a href=\"/uploads/linecard.pdf\" target=\"_blank\">Line Card</a></li>, <li><a href=\"/solutions/edgeSolutions/\">Edge</a></li>, <li><a href=\"/solutions/digitalSignage/\">Digital Signage</a></li>, <li><a href=\"/partners/manufacturer.php\">Our Partners</a></li>, <li><a href=\"/promotion/allPartnerPrograms/\">Partner Programs</a></li>, <li><a href=\"/promotion/allFeaturedStores/\">Featured Stores</a></li>, <li><a href=\"/promotion/allIR/\">Instant Rebate</a></li>, <li><a href=\"/promotion/allMIR/\">Mail-In Rebate</a></li>, <li><a href=\"/promotion/allHighlights/\">Product Highlights</a></li>, <li><a href=\"/company/aboutus.php\">Overview</a></li>, <li><a href=\"/company/awards.php\">Awards</a></li>, <li><a href=\"/company/trade.php\">Events</a></li>, <li><a href=\"/company/careers.php\">Careers</a></li>, <li><a href=\"/company/contactus.php\">Contact Us</a></li>, <li><a href=\"/eblast_subscribe\">Email Newsletters</a></li>, <li><a href=\"/uploads/malabs.zip\">Logo</a></li>, <li><a href=\"/myaccount/profile_management.php\">Account Management</a></li>, <li><a href=\"/register/customerRegister.php\">Web Account Register</a></li>, <li><a href=\"/order/showShoppingCart/\">Shopping Cart</a></li>, <li><a href=\"/myaccount/order_status\">Order Status</a></li>, <li><a href=\"/services/rma_request.php\">RMA Request</a></li>, <li><a href=\"/services/tech_support.php\">Tech Support</a></li>, <li><a href=\"/services/driver_download.php\">Driver Download</a></li>, <li><a href=\"/sitemap.php\">Site Map</a></li>, <li><a href=\"/services/faq.php\">FAQ</a></li>]"
      ]
     },
     "execution_count": 5,
     "metadata": {},
     "output_type": "execute_result"
    }
   ],
   "source": [
    "soup.find_all('li')"
   ]
  },
  {
   "cell_type": "code",
   "execution_count": null,
   "metadata": {},
   "outputs": [],
   "source": [
    "link = urllib.request.urlopen('https://www.malabs.com/product/MB-SX399EG').read()\n",
    "soup = bs.BeautifulSoup(link, 'lxml')\n",
    "print(soup.find_all('li'))"
   ]
  },
  {
   "cell_type": "code",
   "execution_count": null,
   "metadata": {},
   "outputs": [],
   "source": [
    "for ul in uls:\n",
    "    for li in ul.findAll('li'):\n",
    "        print(li)"
   ]
  }
 ],
 "metadata": {
  "kernelspec": {
   "display_name": "Python 3",
   "language": "python",
   "name": "python3"
  },
  "language_info": {
   "codemirror_mode": {
    "name": "ipython",
    "version": 3
   },
   "file_extension": ".py",
   "mimetype": "text/x-python",
   "name": "python",
   "nbconvert_exporter": "python",
   "pygments_lexer": "ipython3",
   "version": "3.7.4"
  }
 },
 "nbformat": 4,
 "nbformat_minor": 2
}
