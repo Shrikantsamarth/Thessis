{
 "cells": [
  {
   "cell_type": "markdown",
   "metadata": {},
   "source": [
    "# Warehouse Optimization (Model Only)"
   ]
  },
  {
   "cell_type": "markdown",
   "metadata": {},
   "source": [
    "## Initilization"
   ]
  },
  {
   "cell_type": "code",
   "execution_count": 166,
   "metadata": {
    "scrolled": true
   },
   "outputs": [
    {
     "data": {
      "text/html": [
       "<div>\n",
       "<style scoped>\n",
       "    .dataframe tbody tr th:only-of-type {\n",
       "        vertical-align: middle;\n",
       "    }\n",
       "\n",
       "    .dataframe tbody tr th {\n",
       "        vertical-align: top;\n",
       "    }\n",
       "\n",
       "    .dataframe thead th {\n",
       "        text-align: right;\n",
       "    }\n",
       "</style>\n",
       "<table border=\"1\" class=\"dataframe\">\n",
       "  <thead>\n",
       "    <tr style=\"text-align: right;\">\n",
       "      <th></th>\n",
       "      <th>Manufacturer</th>\n",
       "      <th>Category</th>\n",
       "      <th>Category Path 1</th>\n",
       "      <th>Category Path 2</th>\n",
       "      <th>Category Path 3</th>\n",
       "      <th>Price(USD)</th>\n",
       "      <th>Cost price</th>\n",
       "      <th>Inventory</th>\n",
       "      <th>Shipping</th>\n",
       "      <th>Profit</th>\n",
       "      <th>weight(lb)</th>\n",
       "      <th>SaleRateNew</th>\n",
       "      <th>Blowout</th>\n",
       "    </tr>\n",
       "  </thead>\n",
       "  <tbody>\n",
       "    <tr>\n",
       "      <td>0</td>\n",
       "      <td>Supermicro</td>\n",
       "      <td>Power Cable</td>\n",
       "      <td>Component</td>\n",
       "      <td>Cable</td>\n",
       "      <td>Power Cable</td>\n",
       "      <td>10.25</td>\n",
       "      <td>7.6875</td>\n",
       "      <td>1</td>\n",
       "      <td>2.5</td>\n",
       "      <td>0.0625</td>\n",
       "      <td>1.00</td>\n",
       "      <td>0.000000</td>\n",
       "      <td>1000.000000</td>\n",
       "    </tr>\n",
       "    <tr>\n",
       "      <td>1</td>\n",
       "      <td>ASUS</td>\n",
       "      <td>Bag &amp; Sleeve</td>\n",
       "      <td>PC &amp; Laptop</td>\n",
       "      <td>Accessory</td>\n",
       "      <td>Bag &amp; Sleeve</td>\n",
       "      <td>9.23</td>\n",
       "      <td>4.2300</td>\n",
       "      <td>1</td>\n",
       "      <td>2.5</td>\n",
       "      <td>2.5000</td>\n",
       "      <td>0.50</td>\n",
       "      <td>0.000000</td>\n",
       "      <td>1000.000000</td>\n",
       "    </tr>\n",
       "    <tr>\n",
       "      <td>2</td>\n",
       "      <td>AMD</td>\n",
       "      <td>Others</td>\n",
       "      <td>Component</td>\n",
       "      <td>CPU / Processor</td>\n",
       "      <td>Desktop CPU</td>\n",
       "      <td>76.88</td>\n",
       "      <td>57.6600</td>\n",
       "      <td>1</td>\n",
       "      <td>2.5</td>\n",
       "      <td>16.7200</td>\n",
       "      <td>0.74</td>\n",
       "      <td>0.000000</td>\n",
       "      <td>1000.000000</td>\n",
       "    </tr>\n",
       "    <tr>\n",
       "      <td>3</td>\n",
       "      <td>QNAP</td>\n",
       "      <td>DDR3 1333</td>\n",
       "      <td>Component</td>\n",
       "      <td>DRAM Memory</td>\n",
       "      <td>Notebook DRAM</td>\n",
       "      <td>76.88</td>\n",
       "      <td>57.6600</td>\n",
       "      <td>1</td>\n",
       "      <td>0.0</td>\n",
       "      <td>19.2200</td>\n",
       "      <td>0.10</td>\n",
       "      <td>0.000000</td>\n",
       "      <td>1000.000000</td>\n",
       "    </tr>\n",
       "    <tr>\n",
       "      <td>4</td>\n",
       "      <td>Supermicro</td>\n",
       "      <td>Accessory</td>\n",
       "      <td>Hardware &amp; Software</td>\n",
       "      <td>Server &amp; Workstation</td>\n",
       "      <td>Accessory</td>\n",
       "      <td>92.76</td>\n",
       "      <td>69.5700</td>\n",
       "      <td>1</td>\n",
       "      <td>2.5</td>\n",
       "      <td>20.6900</td>\n",
       "      <td>0.50</td>\n",
       "      <td>0.000000</td>\n",
       "      <td>1000.000000</td>\n",
       "    </tr>\n",
       "    <tr>\n",
       "      <td>...</td>\n",
       "      <td>...</td>\n",
       "      <td>...</td>\n",
       "      <td>...</td>\n",
       "      <td>...</td>\n",
       "      <td>...</td>\n",
       "      <td>...</td>\n",
       "      <td>...</td>\n",
       "      <td>...</td>\n",
       "      <td>...</td>\n",
       "      <td>...</td>\n",
       "      <td>...</td>\n",
       "      <td>...</td>\n",
       "      <td>...</td>\n",
       "    </tr>\n",
       "    <tr>\n",
       "      <td>4195</td>\n",
       "      <td>NVIDIA</td>\n",
       "      <td>Nvidia</td>\n",
       "      <td>Component</td>\n",
       "      <td>Video Card</td>\n",
       "      <td>PCI Express Video Card</td>\n",
       "      <td>3854.00</td>\n",
       "      <td>2890.5000</td>\n",
       "      <td>1</td>\n",
       "      <td>2.5</td>\n",
       "      <td>961.0000</td>\n",
       "      <td>5.00</td>\n",
       "      <td>0.370787</td>\n",
       "      <td>2.696970</td>\n",
       "    </tr>\n",
       "    <tr>\n",
       "      <td>4196</td>\n",
       "      <td>Supermicro</td>\n",
       "      <td>Accessory</td>\n",
       "      <td>Hardware &amp; Software</td>\n",
       "      <td>Server &amp; Workstation</td>\n",
       "      <td>Accessory</td>\n",
       "      <td>20.50</td>\n",
       "      <td>15.3750</td>\n",
       "      <td>1</td>\n",
       "      <td>2.5</td>\n",
       "      <td>2.6250</td>\n",
       "      <td>0.50</td>\n",
       "      <td>0.377778</td>\n",
       "      <td>2.647059</td>\n",
       "    </tr>\n",
       "    <tr>\n",
       "      <td>4197</td>\n",
       "      <td>In Win</td>\n",
       "      <td>2U</td>\n",
       "      <td>Component</td>\n",
       "      <td>Server</td>\n",
       "      <td>Server Chassis</td>\n",
       "      <td>72.00</td>\n",
       "      <td>54.0000</td>\n",
       "      <td>1</td>\n",
       "      <td>3.5</td>\n",
       "      <td>14.5000</td>\n",
       "      <td>24.12</td>\n",
       "      <td>0.377778</td>\n",
       "      <td>2.647059</td>\n",
       "    </tr>\n",
       "    <tr>\n",
       "      <td>4198</td>\n",
       "      <td>iStarUSA</td>\n",
       "      <td>3U</td>\n",
       "      <td>Component</td>\n",
       "      <td>Server</td>\n",
       "      <td>Server Chassis</td>\n",
       "      <td>143.50</td>\n",
       "      <td>107.6250</td>\n",
       "      <td>1</td>\n",
       "      <td>10.0</td>\n",
       "      <td>25.8750</td>\n",
       "      <td>29.00</td>\n",
       "      <td>0.377778</td>\n",
       "      <td>2.647059</td>\n",
       "    </tr>\n",
       "    <tr>\n",
       "      <td>4199</td>\n",
       "      <td>AeroCool</td>\n",
       "      <td>ATX Mid Tower</td>\n",
       "      <td>Component</td>\n",
       "      <td>Case</td>\n",
       "      <td>Computer Case</td>\n",
       "      <td>92.25</td>\n",
       "      <td>69.1875</td>\n",
       "      <td>1</td>\n",
       "      <td>3.5</td>\n",
       "      <td>19.5625</td>\n",
       "      <td>18.50</td>\n",
       "      <td>0.411111</td>\n",
       "      <td>2.432432</td>\n",
       "    </tr>\n",
       "  </tbody>\n",
       "</table>\n",
       "<p>4200 rows × 13 columns</p>\n",
       "</div>"
      ],
      "text/plain": [
       "     Manufacturer       Category      Category Path 1       Category Path 2  \\\n",
       "0      Supermicro    Power Cable            Component                 Cable   \n",
       "1            ASUS   Bag & Sleeve          PC & Laptop             Accessory   \n",
       "2             AMD         Others            Component       CPU / Processor   \n",
       "3            QNAP      DDR3 1333            Component           DRAM Memory   \n",
       "4      Supermicro      Accessory  Hardware & Software  Server & Workstation   \n",
       "...           ...            ...                  ...                   ...   \n",
       "4195       NVIDIA         Nvidia            Component            Video Card   \n",
       "4196   Supermicro      Accessory  Hardware & Software  Server & Workstation   \n",
       "4197       In Win             2U            Component                Server   \n",
       "4198     iStarUSA             3U            Component                Server   \n",
       "4199     AeroCool  ATX Mid Tower            Component                  Case   \n",
       "\n",
       "             Category Path 3  Price(USD)  Cost price  Inventory  Shipping  \\\n",
       "0                Power Cable       10.25      7.6875          1       2.5   \n",
       "1               Bag & Sleeve        9.23      4.2300          1       2.5   \n",
       "2                Desktop CPU       76.88     57.6600          1       2.5   \n",
       "3              Notebook DRAM       76.88     57.6600          1       0.0   \n",
       "4                  Accessory       92.76     69.5700          1       2.5   \n",
       "...                      ...         ...         ...        ...       ...   \n",
       "4195  PCI Express Video Card     3854.00   2890.5000          1       2.5   \n",
       "4196               Accessory       20.50     15.3750          1       2.5   \n",
       "4197          Server Chassis       72.00     54.0000          1       3.5   \n",
       "4198          Server Chassis      143.50    107.6250          1      10.0   \n",
       "4199           Computer Case       92.25     69.1875          1       3.5   \n",
       "\n",
       "        Profit  weight(lb)  SaleRateNew      Blowout  \n",
       "0       0.0625        1.00     0.000000  1000.000000  \n",
       "1       2.5000        0.50     0.000000  1000.000000  \n",
       "2      16.7200        0.74     0.000000  1000.000000  \n",
       "3      19.2200        0.10     0.000000  1000.000000  \n",
       "4      20.6900        0.50     0.000000  1000.000000  \n",
       "...        ...         ...          ...          ...  \n",
       "4195  961.0000        5.00     0.370787     2.696970  \n",
       "4196    2.6250        0.50     0.377778     2.647059  \n",
       "4197   14.5000       24.12     0.377778     2.647059  \n",
       "4198   25.8750       29.00     0.377778     2.647059  \n",
       "4199   19.5625       18.50     0.411111     2.432432  \n",
       "\n",
       "[4200 rows x 13 columns]"
      ]
     },
     "execution_count": 166,
     "metadata": {},
     "output_type": "execute_result"
    }
   ],
   "source": [
    "import pandas as pd\n",
    "import pandas_profiling\n",
    "import numpy as np\n",
    "data = pd.read_csv('ML_datafile.csv')\n",
    "data.reset_index(drop=True, inplace=True)\n",
    "data = data.drop(['Item No', 'Manufacturer No', 'Product Name', 'Date', 'STOCK TYPE', 'In Stock', 'List No',\n",
    "                 'UPC Code', 'SaleRate'], axis=1)\n",
    "data"
   ]
  },
  {
   "cell_type": "code",
   "execution_count": 165,
   "metadata": {},
   "outputs": [],
   "source": [
    "# limit to categorical data using df.select_dtypes()\n",
    "#nominal_data = data.drop(['Price(USD)', 'Cost price', 'Inventory', 'Shipping', 'Profit', 'weight(lb)', 'SaleRateNew'], axis=1)\n",
    "#ordinal_data = data.drop(nominal_data.columns)\n",
    "nominal_data = data.select_dtypes(include=[object])\n",
    "ordinal_data = data.drop(list(nominal_data.columns), axis=1)\n",
    "nominal_data = nominal_data.replace(np.nan, 'Default', regex=True)"
   ]
  },
  {
   "cell_type": "markdown",
   "metadata": {},
   "source": [
    "## One-Hot Encoding"
   ]
  },
  {
   "cell_type": "code",
   "execution_count": 148,
   "metadata": {},
   "outputs": [
    {
     "name": "stdout",
     "output_type": "stream",
     "text": [
      "(4200, 458)\n"
     ]
    }
   ],
   "source": [
    "from sklearn import preprocessing\n",
    "nominal_data_2 = nominal_data\n",
    "# 1. INSTANTIATE\n",
    "enc = preprocessing.OneHotEncoder()\n",
    "# 2. FIT\n",
    "enc.fit(nominal_data_2)\n",
    "# 3. Transform\n",
    "onehotlabels = enc.transform(nominal_data_2).toarray()\n",
    "print(onehotlabels.shape)"
   ]
  },
  {
   "cell_type": "code",
   "execution_count": 149,
   "metadata": {
    "scrolled": true
   },
   "outputs": [],
   "source": [
    "encoded_data = pd.concat([ordinal_data, pd.DataFrame(onehotlabels)], axis=1)"
   ]
  },
  {
   "cell_type": "code",
   "execution_count": 150,
   "metadata": {},
   "outputs": [
    {
     "data": {
      "text/plain": [
       "Index([ 'Price(USD)',  'Cost price',   'Inventory',    'Shipping',\n",
       "            'Profit',  'weight(lb)', 'SaleRateNew',     'Blowout',\n",
       "                   0,             1,\n",
       "       ...\n",
       "                 448,           449,           450,           451,\n",
       "                 452,           453,           454,           455,\n",
       "                 456,           457],\n",
       "      dtype='object', length=466)"
      ]
     },
     "execution_count": 150,
     "metadata": {},
     "output_type": "execute_result"
    }
   ],
   "source": [
    "encoded_data.columns\n"
   ]
  },
  {
   "cell_type": "markdown",
   "metadata": {},
   "source": [
    "## Data Split"
   ]
  },
  {
   "cell_type": "code",
   "execution_count": 151,
   "metadata": {},
   "outputs": [],
   "source": [
    "X = encoded_data.drop('SaleRateNew', axis=1)\n",
    "Y = encoded_data['SaleRateNew']"
   ]
  },
  {
   "cell_type": "markdown",
   "metadata": {},
   "source": [
    "## Tunning"
   ]
  },
  {
   "cell_type": "code",
   "execution_count": 152,
   "metadata": {},
   "outputs": [],
   "source": [
    "import pandas as pd\n",
    "import numpy as np\n",
    "from sklearn import metrics\n",
    "from sklearn import linear_model\n",
    "from sklearn.pipeline import Pipeline\n",
    "from sklearn.preprocessing import PolynomialFeatures\n",
    "from sklearn.model_selection import GridSearchCV, train_test_split\n",
    "from sklearn.ensemble import AdaBoostRegressor\n",
    "from sklearn.svm import LinearSVR\n",
    "from sklearn.ensemble import GradientBoostingRegressor"
   ]
  },
  {
   "cell_type": "code",
   "execution_count": 153,
   "metadata": {},
   "outputs": [],
   "source": [
    "X_train, X_test, y_train, y_test = train_test_split(X, Y, test_size= 0.2)"
   ]
  },
  {
   "cell_type": "code",
   "execution_count": 170,
   "metadata": {},
   "outputs": [
    {
     "ename": "SyntaxError",
     "evalue": "invalid syntax (<ipython-input-170-9f9b077e43fb>, line 13)",
     "output_type": "error",
     "traceback": [
      "\u001b[1;36m  File \u001b[1;32m\"<ipython-input-170-9f9b077e43fb>\"\u001b[1;36m, line \u001b[1;32m13\u001b[0m\n\u001b[1;33m    def test(models, X, Y, iterations = 10:\u001b[0m\n\u001b[1;37m                                          ^\u001b[0m\n\u001b[1;31mSyntaxError\u001b[0m\u001b[1;31m:\u001b[0m invalid syntax\n"
     ]
    }
   ],
   "source": [
    "#Regression\t \t \n",
    "#‘explained_variance’\tmetrics.explained_variance_score\t \n",
    "#‘max_error’\tmetrics.max_error\t \n",
    "#‘neg_mean_absolute_error’\tmetrics.mean_absolute_error\t \n",
    "#‘neg_mean_squared_error’\tmetrics.mean_squared_error\t \n",
    "#‘neg_mean_squared_log_error’\tmetrics.mean_squared_log_error\t \n",
    "#‘neg_median_absolute_error’\tmetrics.median_absolute_error\t \n",
    "#‘r2’\tmetrics.r2_score\n",
    "\n",
    "from matplotlib import pyplot as plt\n",
    "%matplotlib inline\n",
    "\n",
    "def test(models, X, Y, iterations = 10:\n",
    "    results = {}\n",
    "    for i in models:\n",
    "        print(\"\\nRunning \", i)\n",
    "        r2_train = []\n",
    "        r2_test = []\n",
    "        mae_train = []\n",
    "        mae_test = []\n",
    "        for j in range(iterations):\n",
    "            print(j, end='')\n",
    "            r2_test.append(metrics.r2_score(y_test,\n",
    "                                            models[i].fit(X_train, \n",
    "                                                         y_train).predict(X_test)))\n",
    "            r2_train.append(metrics.r2_score(y_train, \n",
    "                                             models[i].fit(X_train, \n",
    "                                                          y_train).predict(X_train)))\n",
    "            mae_test.append(metrics.mean_absolute_error(y_test,\n",
    "                                            models[i].fit(X_train, \n",
    "                                                         y_train).predict(X_test)))\n",
    "            mae_train.append(metrics.mean_absolute_error(y_train, \n",
    "                                             models[i].fit(X_train, \n",
    "                                                          y_train).predict(X_train)))\n",
    "        plt.figure()\n",
    "        plt.plot(r2_test, label='r2_test')\n",
    "        plt.xlabel('Iterations') \n",
    "        plt.ylabel('Score')\n",
    "        plt.title(\"r2_test\")\n",
    "        plt.figure()\n",
    "        plt.plot(r2_train, label='r2_train')\n",
    "        plt.xlabel('Iterations') \n",
    "        plt.ylabel('Score') \n",
    "        plt.title(\"r2_train\")\n",
    "        results[i] = [np.mean(r2_train), np.mean(r2_test), np.mean(mae_train), np.mean(mae_test)]\n",
    "    return pd.DataFrame(results), models"
   ]
  },
  {
   "cell_type": "code",
   "execution_count": 158,
   "metadata": {},
   "outputs": [],
   "source": [
    "models = {'OLS': linear_model.LinearRegression(),\n",
    "         'Lasso': linear_model.Lasso(),\n",
    "         'Ridge': linear_model.Ridge(),\n",
    "         'Ada': AdaBoostRegressor(),\n",
    "         'GBM': GradientBoostingRegressor()}"
   ]
  },
  {
   "cell_type": "code",
   "execution_count": 159,
   "metadata": {
    "scrolled": true
   },
   "outputs": [
    {
     "name": "stdout",
     "output_type": "stream",
     "text": [
      "\n",
      "Running  OLS\n",
      "0123456789\n",
      "Running  Lasso\n",
      "0123456789\n",
      "Running  Ridge\n",
      "0123456789\n",
      "Running  Ada\n",
      "0123456789\n",
      "Running  GBM\n",
      "0123456789Wall time: 4min 55s\n"
     ]
    },
    {
     "data": {
      "text/html": [
       "<div>\n",
       "<style scoped>\n",
       "    .dataframe tbody tr th:only-of-type {\n",
       "        vertical-align: middle;\n",
       "    }\n",
       "\n",
       "    .dataframe tbody tr th {\n",
       "        vertical-align: top;\n",
       "    }\n",
       "\n",
       "    .dataframe thead th {\n",
       "        text-align: right;\n",
       "    }\n",
       "</style>\n",
       "<table border=\"1\" class=\"dataframe\">\n",
       "  <thead>\n",
       "    <tr style=\"text-align: right;\">\n",
       "      <th></th>\n",
       "      <th>OLS</th>\n",
       "      <th>Lasso</th>\n",
       "      <th>Ridge</th>\n",
       "      <th>Ada</th>\n",
       "      <th>GBM</th>\n",
       "    </tr>\n",
       "  </thead>\n",
       "  <tbody>\n",
       "    <tr>\n",
       "      <td>0</td>\n",
       "      <td>0.748416</td>\n",
       "      <td>0.699627</td>\n",
       "      <td>0.745854</td>\n",
       "      <td>0.952927</td>\n",
       "      <td>0.993506</td>\n",
       "    </tr>\n",
       "    <tr>\n",
       "      <td>1</td>\n",
       "      <td>0.748089</td>\n",
       "      <td>0.717512</td>\n",
       "      <td>0.753695</td>\n",
       "      <td>0.945966</td>\n",
       "      <td>0.985259</td>\n",
       "    </tr>\n",
       "    <tr>\n",
       "      <td>2</td>\n",
       "      <td>0.380395</td>\n",
       "      <td>0.428915</td>\n",
       "      <td>0.383709</td>\n",
       "      <td>0.177726</td>\n",
       "      <td>0.052877</td>\n",
       "    </tr>\n",
       "    <tr>\n",
       "      <td>3</td>\n",
       "      <td>0.396604</td>\n",
       "      <td>0.428721</td>\n",
       "      <td>0.392398</td>\n",
       "      <td>0.184986</td>\n",
       "      <td>0.068701</td>\n",
       "    </tr>\n",
       "  </tbody>\n",
       "</table>\n",
       "</div>"
      ],
      "text/plain": [
       "        OLS     Lasso     Ridge       Ada       GBM\n",
       "0  0.748416  0.699627  0.745854  0.952927  0.993506\n",
       "1  0.748089  0.717512  0.753695  0.945966  0.985259\n",
       "2  0.380395  0.428915  0.383709  0.177726  0.052877\n",
       "3  0.396604  0.428721  0.392398  0.184986  0.068701"
      ]
     },
     "execution_count": 159,
     "metadata": {},
     "output_type": "execute_result"
    },
    {
     "data": {
      "image/png": "[encoded data removed]",
      "text/plain": [
       "<Figure size 432x288 with 1 Axes>"
      ]
     },
     "metadata": {
      "needs_background": "light"
     },
     "output_type": "display_data"
    },
    {
     "data": {
      "image/png": "[encoded data removed]",
      "text/plain": [
       "<Figure size 432x288 with 1 Axes>"
      ]
     },
     "metadata": {
      "needs_background": "light"
     },
     "output_type": "display_data"
    },
    {
     "data": {
      "image/png": "[encoded data removed]",
      "text/plain": [
       "<Figure size 432x288 with 1 Axes>"
      ]
     },
     "metadata": {
      "needs_background": "light"
     },
     "output_type": "display_data"
    },
    {
     "data": {
      "image/png": "[encoded data removed]",
      "text/plain": [
       "<Figure size 432x288 with 1 Axes>"
      ]
     },
     "metadata": {
      "needs_background": "light"
     },
     "output_type": "display_data"
    },
    {
     "data": {
      "image/png": "[encoded data removed]",
      "text/plain": [
       "<Figure size 432x288 with 1 Axes>"
      ]
     },
     "metadata": {
      "needs_background": "light"
     },
     "output_type": "display_data"
    },
    {
     "data": {
      "image/png": "[encoded data removed]",
      "text/plain": [
       "<Figure size 432x288 with 1 Axes>"
      ]
     },
     "metadata": {
      "needs_background": "light"
     },
     "output_type": "display_data"
    },
    {
     "data": {
      "image/png": "[encoded data removed]",
      "text/plain": [
       "<Figure size 432x288 with 1 Axes>"
      ]
     },
     "metadata": {
      "needs_background": "light"
     },
     "output_type": "display_data"
    },
    {
     "data": {
      "image/png": "[encoded data removed]",
      "text/plain": [
       "<Figure size 432x288 with 1 Axes>"
      ]
     },
     "metadata": {
      "needs_background": "light"
     },
     "output_type": "display_data"
    },
    {
     "data": {
      "image/png": "[encoded data removed]",
      "text/plain": [
       "<Figure size 432x288 with 1 Axes>"
      ]
     },
     "metadata": {
      "needs_background": "light"
     },
     "output_type": "display_data"
    },
    {
     "data": {
      "image/png": "[encoded data removed]",
      "text/plain": [
       "<Figure size 432x288 with 1 Axes>"
      ]
     },
     "metadata": {
      "needs_background": "light"
     },
     "output_type": "display_data"
    }
   ],
   "source": [
    "%time result, models = test(models, X, Y)\n",
    "result"
   ]
  },
  {
   "cell_type": "code",
   "execution_count": 32,
   "metadata": {},
   "outputs": [
    {
     "data": {
      "text/plain": [
       "1273    0.140351\n",
       "2573    3.763158\n",
       "51      0.066667\n",
       "712     0.012987\n",
       "1254    0.034483\n",
       "3134    0.689655\n",
       "1183    0.100000\n",
       "2542    0.050000\n",
       "896     0.750000\n",
       "4188    0.344444\n",
       "Name: SaleRateNew, dtype: float64"
      ]
     },
     "execution_count": 32,
     "metadata": {},
     "output_type": "execute_result"
    }
   ],
   "source": [
    "y_test.head(10)"
   ]
  },
  {
   "cell_type": "code",
   "execution_count": 33,
   "metadata": {},
   "outputs": [
    {
     "data": {
      "text/plain": [
       "array([ 0.40988011,  2.54073479, -0.31084114, -0.08165766,  0.32801483,\n",
       "        0.7099669 ,  0.17583155,  0.12072664,  1.5068451 ,  0.54001803])"
      ]
     },
     "execution_count": 33,
     "metadata": {},
     "output_type": "execute_result"
    }
   ],
   "source": [
    "y_pred = models['OLS'].predict(X_test)\n",
    "y_pred[:10]"
   ]
  },
  {
   "cell_type": "markdown",
   "metadata": {},
   "source": [
    "### Tunning"
   ]
  },
  {
   "cell_type": "code",
   "execution_count": 38,
   "metadata": {
    "scrolled": true
   },
   "outputs": [
    {
     "name": "stderr",
     "output_type": "stream",
     "text": [
      "C:\\ProgramData\\Anaconda3\\lib\\site-packages\\sklearn\\model_selection\\_split.py:1978: FutureWarning: The default value of cv will change from 3 to 5 in version 0.22. Specify it explicitly to silence this warning.\n",
      "  warnings.warn(CV_WARNING, FutureWarning)\n",
      "C:\\ProgramData\\Anaconda3\\lib\\site-packages\\sklearn\\model_selection\\_split.py:1978: FutureWarning: The default value of cv will change from 3 to 5 in version 0.22. Specify it explicitly to silence this warning.\n",
      "  warnings.warn(CV_WARNING, FutureWarning)\n"
     ]
    },
    {
     "name": "stdout",
     "output_type": "stream",
     "text": [
      "\n",
      "Running  Ada\n",
      "0123456789\n",
      "Running  GBM\n",
      "0123456789Wall time: 6min 59s\n"
     ]
    },
    {
     "data": {
      "text/plain": [
       "(        Ada       GBM\n",
       " 0  0.925009  0.995754\n",
       " 1  0.929448  0.988797\n",
       " 2  0.236655  0.030004\n",
       " 3  0.267675  0.045687,\n",
       " {'Ada': AdaBoostRegressor(base_estimator=None, learning_rate=1, loss='linear',\n",
       "                    n_estimators=100, random_state=None),\n",
       "  'GBM': GradientBoostingRegressor(alpha=0.9, criterion='friedman_mse', init=None,\n",
       "                            learning_rate=0.3, loss='huber', max_depth=3,\n",
       "                            max_features=None, max_leaf_nodes=None,\n",
       "                            min_impurity_decrease=0.0, min_impurity_split=None,\n",
       "                            min_samples_leaf=1, min_samples_split=2,\n",
       "                            min_weight_fraction_leaf=0.0, n_estimators=100,\n",
       "                            n_iter_no_change=None, presort='auto',\n",
       "                            random_state=None, subsample=1.0, tol=0.0001,\n",
       "                            validation_fraction=0.1, verbose=0, warm_start=False)})"
      ]
     },
     "execution_count": 38,
     "metadata": {},
     "output_type": "execute_result"
    },
    {
     "data": {
      "image/png": "[encoded data removed]",
      "text/plain": [
       "<Figure size 432x288 with 1 Axes>"
      ]
     },
     "metadata": {
      "needs_background": "light"
     },
     "output_type": "display_data"
    },
    {
     "data": {
      "image/png": "[encoded data removed]",
      "text/plain": [
       "<Figure size 432x288 with 1 Axes>"
      ]
     },
     "metadata": {
      "needs_background": "light"
     },
     "output_type": "display_data"
    },
    {
     "data": {
      "image/png": "[encoded data removed]",
      "text/plain": [
       "<Figure size 432x288 with 1 Axes>"
      ]
     },
     "metadata": {
      "needs_background": "light"
     },
     "output_type": "display_data"
    },
    {
     "data": {
      "image/png": "[encoded data removed]",
      "text/plain": [
       "<Figure size 432x288 with 1 Axes>"
      ]
     },
     "metadata": {
      "needs_background": "light"
     },
     "output_type": "display_data"
    }
   ],
   "source": [
    "ada_param = {\n",
    " 'n_estimators': [50, 100],\n",
    " 'learning_rate' : [0.01,0.05,0.1,0.3,1],\n",
    " 'loss' : ['linear', 'square', 'exponential']\n",
    " }\n",
    "\n",
    "gbm_param = {\n",
    " 'n_estimators': [50, 100],\n",
    " 'learning_rate' : [0.01,0.05,0.1,0.3,1],\n",
    " 'loss' : ['ls', 'lad', 'huber', 'quantile']\n",
    " }\n",
    "\n",
    "models2 = {'Ada': GridSearchCV(AdaBoostRegressor(), \n",
    "                               param_grid=ada_param).fit(X, Y).best_estimator_,\n",
    "          'GBM': GridSearchCV(GradientBoostingRegressor(), \n",
    "                               param_grid=gbm_param).fit(X, Y).best_estimator_}\n",
    "%time test(models2, X, Y)"
   ]
  },
  {
   "cell_type": "code",
   "execution_count": 35,
   "metadata": {
    "scrolled": true
   },
   "outputs": [
    {
     "name": "stdout",
     "output_type": "stream",
     "text": [
      "[1.61317019e-01 3.72611279e+00 5.39236805e-02 2.45499874e-03\n",
      " 3.74817706e-02 7.54139986e-01 1.11254949e-01 6.98592784e-02\n",
      " 7.42433094e-01 3.46542686e-01]\n",
      "1273    0.140351\n",
      "2573    3.763158\n",
      "51      0.066667\n",
      "712     0.012987\n",
      "1254    0.034483\n",
      "3134    0.689655\n",
      "1183    0.100000\n",
      "2542    0.050000\n",
      "896     0.750000\n",
      "4188    0.344444\n",
      "Name: SaleRateNew, dtype: float64\n"
     ]
    }
   ],
   "source": [
    "y_pred = models2['GBM'].predict(X_test)\n",
    "print(y_pred[:10])\n",
    "print(y_test.head(10))"
   ]
  },
  {
   "cell_type": "code",
   "execution_count": 39,
   "metadata": {
    "scrolled": true
   },
   "outputs": [
    {
     "data": {
      "text/plain": [
       "1273      8\n",
       "2573    145\n",
       "51       14\n",
       "712       1\n",
       "1254      2\n",
       "       ... \n",
       "3101     29\n",
       "209      52\n",
       "1233     52\n",
       "3515     14\n",
       "2869     52\n",
       "Name: Inventory, Length: 840, dtype: int64"
      ]
     },
     "execution_count": 39,
     "metadata": {},
     "output_type": "execute_result"
    }
   ],
   "source": [
    "X_test.Inventory"
   ]
  },
  {
   "cell_type": "code",
   "execution_count": 40,
   "metadata": {},
   "outputs": [
    {
     "data": {
      "text/plain": [
       "AdaBoostRegressor(base_estimator=None, learning_rate=1, loss='linear',\n",
       "                  n_estimators=100, random_state=None)"
      ]
     },
     "execution_count": 40,
     "metadata": {},
     "output_type": "execute_result"
    }
   ],
   "source": [
    "models2['Ada']"
   ]
  },
  {
   "cell_type": "code",
   "execution_count": 41,
   "metadata": {},
   "outputs": [
    {
     "data": {
      "text/plain": [
       "GradientBoostingRegressor(alpha=0.9, criterion='friedman_mse', init=None,\n",
       "                          learning_rate=0.3, loss='huber', max_depth=3,\n",
       "                          max_features=None, max_leaf_nodes=None,\n",
       "                          min_impurity_decrease=0.0, min_impurity_split=None,\n",
       "                          min_samples_leaf=1, min_samples_split=2,\n",
       "                          min_weight_fraction_leaf=0.0, n_estimators=100,\n",
       "                          n_iter_no_change=None, presort='auto',\n",
       "                          random_state=None, subsample=1.0, tol=0.0001,\n",
       "                          validation_fraction=0.1, verbose=0, warm_start=False)"
      ]
     },
     "execution_count": 41,
     "metadata": {},
     "output_type": "execute_result"
    }
   ],
   "source": [
    "models2['GBM']"
   ]
  },
  {
   "cell_type": "markdown",
   "metadata": {},
   "source": [
    "#### Number of days prediction (i.e Blowout period)"
   ]
  },
  {
   "cell_type": "code",
   "execution_count": 42,
   "metadata": {
    "scrolled": true
   },
   "outputs": [
    {
     "name": "stderr",
     "output_type": "stream",
     "text": [
      "C:\\ProgramData\\Anaconda3\\lib\\site-packages\\ipykernel_launcher.py:3: SettingWithCopyWarning: \n",
      "A value is trying to be set on a copy of a slice from a DataFrame.\n",
      "Try using .loc[row_indexer,col_indexer] = value instead\n",
      "\n",
      "See the caveats in the documentation: http://pandas.pydata.org/pandas-docs/stable/user_guide/indexing.html#returning-a-view-versus-a-copy\n",
      "  This is separate from the ipykernel package so we can avoid doing imports until\n",
      "C:\\ProgramData\\Anaconda3\\lib\\site-packages\\ipykernel_launcher.py:4: SettingWithCopyWarning: \n",
      "A value is trying to be set on a copy of a slice from a DataFrame.\n",
      "Try using .loc[row_indexer,col_indexer] = value instead\n",
      "\n",
      "See the caveats in the documentation: http://pandas.pydata.org/pandas-docs/stable/user_guide/indexing.html#returning-a-view-versus-a-copy\n",
      "  after removing the cwd from sys.path.\n"
     ]
    },
    {
     "data": {
      "text/html": [
       "<div>\n",
       "<style scoped>\n",
       "    .dataframe tbody tr th:only-of-type {\n",
       "        vertical-align: middle;\n",
       "    }\n",
       "\n",
       "    .dataframe tbody tr th {\n",
       "        vertical-align: top;\n",
       "    }\n",
       "\n",
       "    .dataframe thead th {\n",
       "        text-align: right;\n",
       "    }\n",
       "</style>\n",
       "<table border=\"1\" class=\"dataframe\">\n",
       "  <thead>\n",
       "    <tr style=\"text-align: right;\">\n",
       "      <th></th>\n",
       "      <th>Price(USD)</th>\n",
       "      <th>Cost price</th>\n",
       "      <th>Inventory</th>\n",
       "      <th>Shipping</th>\n",
       "      <th>Profit</th>\n",
       "      <th>weight(lb)</th>\n",
       "      <th>Blowout</th>\n",
       "      <th>0</th>\n",
       "      <th>1</th>\n",
       "      <th>2</th>\n",
       "      <th>...</th>\n",
       "      <th>450</th>\n",
       "      <th>451</th>\n",
       "      <th>452</th>\n",
       "      <th>453</th>\n",
       "      <th>454</th>\n",
       "      <th>455</th>\n",
       "      <th>456</th>\n",
       "      <th>457</th>\n",
       "      <th>y_pred</th>\n",
       "      <th>blowout_pred</th>\n",
       "    </tr>\n",
       "  </thead>\n",
       "  <tbody>\n",
       "    <tr>\n",
       "      <td>1273</td>\n",
       "      <td>141.45</td>\n",
       "      <td>106.0875</td>\n",
       "      <td>8</td>\n",
       "      <td>2.5</td>\n",
       "      <td>32.8625</td>\n",
       "      <td>4.00</td>\n",
       "      <td>57.000000</td>\n",
       "      <td>0.0</td>\n",
       "      <td>0.0</td>\n",
       "      <td>0.0</td>\n",
       "      <td>...</td>\n",
       "      <td>0.0</td>\n",
       "      <td>0.0</td>\n",
       "      <td>0.0</td>\n",
       "      <td>0.0</td>\n",
       "      <td>0.0</td>\n",
       "      <td>0.0</td>\n",
       "      <td>0.0</td>\n",
       "      <td>0.0</td>\n",
       "      <td>0.161317</td>\n",
       "      <td>49.591792</td>\n",
       "    </tr>\n",
       "    <tr>\n",
       "      <td>2573</td>\n",
       "      <td>525.31</td>\n",
       "      <td>393.9825</td>\n",
       "      <td>145</td>\n",
       "      <td>2.5</td>\n",
       "      <td>128.8275</td>\n",
       "      <td>1.65</td>\n",
       "      <td>38.531469</td>\n",
       "      <td>0.0</td>\n",
       "      <td>0.0</td>\n",
       "      <td>0.0</td>\n",
       "      <td>...</td>\n",
       "      <td>0.0</td>\n",
       "      <td>0.0</td>\n",
       "      <td>0.0</td>\n",
       "      <td>0.0</td>\n",
       "      <td>0.0</td>\n",
       "      <td>0.0</td>\n",
       "      <td>0.0</td>\n",
       "      <td>0.0</td>\n",
       "      <td>3.726113</td>\n",
       "      <td>38.914549</td>\n",
       "    </tr>\n",
       "    <tr>\n",
       "      <td>51</td>\n",
       "      <td>23.06</td>\n",
       "      <td>17.2950</td>\n",
       "      <td>14</td>\n",
       "      <td>2.5</td>\n",
       "      <td>3.2650</td>\n",
       "      <td>1.90</td>\n",
       "      <td>209.999999</td>\n",
       "      <td>0.0</td>\n",
       "      <td>0.0</td>\n",
       "      <td>0.0</td>\n",
       "      <td>...</td>\n",
       "      <td>0.0</td>\n",
       "      <td>0.0</td>\n",
       "      <td>0.0</td>\n",
       "      <td>0.0</td>\n",
       "      <td>1.0</td>\n",
       "      <td>0.0</td>\n",
       "      <td>0.0</td>\n",
       "      <td>0.0</td>\n",
       "      <td>0.053924</td>\n",
       "      <td>259.626195</td>\n",
       "    </tr>\n",
       "    <tr>\n",
       "      <td>712</td>\n",
       "      <td>584.25</td>\n",
       "      <td>438.1875</td>\n",
       "      <td>1</td>\n",
       "      <td>10.0</td>\n",
       "      <td>136.0625</td>\n",
       "      <td>36.00</td>\n",
       "      <td>77.000000</td>\n",
       "      <td>0.0</td>\n",
       "      <td>0.0</td>\n",
       "      <td>0.0</td>\n",
       "      <td>...</td>\n",
       "      <td>0.0</td>\n",
       "      <td>0.0</td>\n",
       "      <td>0.0</td>\n",
       "      <td>0.0</td>\n",
       "      <td>0.0</td>\n",
       "      <td>0.0</td>\n",
       "      <td>0.0</td>\n",
       "      <td>0.0</td>\n",
       "      <td>0.002455</td>\n",
       "      <td>407.332185</td>\n",
       "    </tr>\n",
       "    <tr>\n",
       "      <td>1254</td>\n",
       "      <td>2868.98</td>\n",
       "      <td>2151.7350</td>\n",
       "      <td>2</td>\n",
       "      <td>3.5</td>\n",
       "      <td>713.7450</td>\n",
       "      <td>11.20</td>\n",
       "      <td>57.999999</td>\n",
       "      <td>0.0</td>\n",
       "      <td>0.0</td>\n",
       "      <td>0.0</td>\n",
       "      <td>...</td>\n",
       "      <td>0.0</td>\n",
       "      <td>0.0</td>\n",
       "      <td>0.0</td>\n",
       "      <td>0.0</td>\n",
       "      <td>0.0</td>\n",
       "      <td>0.0</td>\n",
       "      <td>0.0</td>\n",
       "      <td>0.0</td>\n",
       "      <td>0.037482</td>\n",
       "      <td>53.359272</td>\n",
       "    </tr>\n",
       "    <tr>\n",
       "      <td>3134</td>\n",
       "      <td>48.18</td>\n",
       "      <td>36.1350</td>\n",
       "      <td>20</td>\n",
       "      <td>0.0</td>\n",
       "      <td>12.0450</td>\n",
       "      <td>0.10</td>\n",
       "      <td>29.000000</td>\n",
       "      <td>0.0</td>\n",
       "      <td>0.0</td>\n",
       "      <td>0.0</td>\n",
       "      <td>...</td>\n",
       "      <td>0.0</td>\n",
       "      <td>0.0</td>\n",
       "      <td>0.0</td>\n",
       "      <td>0.0</td>\n",
       "      <td>0.0</td>\n",
       "      <td>0.0</td>\n",
       "      <td>0.0</td>\n",
       "      <td>0.0</td>\n",
       "      <td>0.754140</td>\n",
       "      <td>26.520275</td>\n",
       "    </tr>\n",
       "    <tr>\n",
       "      <td>1183</td>\n",
       "      <td>224.48</td>\n",
       "      <td>168.3600</td>\n",
       "      <td>6</td>\n",
       "      <td>10.0</td>\n",
       "      <td>46.1200</td>\n",
       "      <td>39.20</td>\n",
       "      <td>60.000000</td>\n",
       "      <td>0.0</td>\n",
       "      <td>0.0</td>\n",
       "      <td>0.0</td>\n",
       "      <td>...</td>\n",
       "      <td>0.0</td>\n",
       "      <td>0.0</td>\n",
       "      <td>0.0</td>\n",
       "      <td>0.0</td>\n",
       "      <td>0.0</td>\n",
       "      <td>0.0</td>\n",
       "      <td>0.0</td>\n",
       "      <td>0.0</td>\n",
       "      <td>0.111255</td>\n",
       "      <td>53.930185</td>\n",
       "    </tr>\n",
       "    <tr>\n",
       "      <td>2542</td>\n",
       "      <td>676.50</td>\n",
       "      <td>507.3750</td>\n",
       "      <td>2</td>\n",
       "      <td>10.0</td>\n",
       "      <td>159.1250</td>\n",
       "      <td>45.00</td>\n",
       "      <td>40.000000</td>\n",
       "      <td>1.0</td>\n",
       "      <td>0.0</td>\n",
       "      <td>0.0</td>\n",
       "      <td>...</td>\n",
       "      <td>0.0</td>\n",
       "      <td>0.0</td>\n",
       "      <td>0.0</td>\n",
       "      <td>0.0</td>\n",
       "      <td>0.0</td>\n",
       "      <td>0.0</td>\n",
       "      <td>0.0</td>\n",
       "      <td>0.0</td>\n",
       "      <td>0.069859</td>\n",
       "      <td>28.628982</td>\n",
       "    </tr>\n",
       "    <tr>\n",
       "      <td>896</td>\n",
       "      <td>52.28</td>\n",
       "      <td>39.2100</td>\n",
       "      <td>51</td>\n",
       "      <td>2.5</td>\n",
       "      <td>10.5700</td>\n",
       "      <td>0.24</td>\n",
       "      <td>68.000000</td>\n",
       "      <td>0.0</td>\n",
       "      <td>0.0</td>\n",
       "      <td>0.0</td>\n",
       "      <td>...</td>\n",
       "      <td>0.0</td>\n",
       "      <td>0.0</td>\n",
       "      <td>0.0</td>\n",
       "      <td>0.0</td>\n",
       "      <td>0.0</td>\n",
       "      <td>0.0</td>\n",
       "      <td>0.0</td>\n",
       "      <td>0.0</td>\n",
       "      <td>0.742433</td>\n",
       "      <td>68.693059</td>\n",
       "    </tr>\n",
       "    <tr>\n",
       "      <td>4188</td>\n",
       "      <td>10.25</td>\n",
       "      <td>7.6875</td>\n",
       "      <td>1</td>\n",
       "      <td>2.5</td>\n",
       "      <td>0.0625</td>\n",
       "      <td>0.12</td>\n",
       "      <td>2.903226</td>\n",
       "      <td>0.0</td>\n",
       "      <td>0.0</td>\n",
       "      <td>0.0</td>\n",
       "      <td>...</td>\n",
       "      <td>0.0</td>\n",
       "      <td>0.0</td>\n",
       "      <td>0.0</td>\n",
       "      <td>0.0</td>\n",
       "      <td>0.0</td>\n",
       "      <td>0.0</td>\n",
       "      <td>0.0</td>\n",
       "      <td>0.0</td>\n",
       "      <td>0.346543</td>\n",
       "      <td>2.885647</td>\n",
       "    </tr>\n",
       "  </tbody>\n",
       "</table>\n",
       "<p>10 rows × 467 columns</p>\n",
       "</div>"
      ],
      "text/plain": [
       "      Price(USD)  Cost price  Inventory  Shipping    Profit  weight(lb)  \\\n",
       "1273      141.45    106.0875          8       2.5   32.8625        4.00   \n",
       "2573      525.31    393.9825        145       2.5  128.8275        1.65   \n",
       "51         23.06     17.2950         14       2.5    3.2650        1.90   \n",
       "712       584.25    438.1875          1      10.0  136.0625       36.00   \n",
       "1254     2868.98   2151.7350          2       3.5  713.7450       11.20   \n",
       "3134       48.18     36.1350         20       0.0   12.0450        0.10   \n",
       "1183      224.48    168.3600          6      10.0   46.1200       39.20   \n",
       "2542      676.50    507.3750          2      10.0  159.1250       45.00   \n",
       "896        52.28     39.2100         51       2.5   10.5700        0.24   \n",
       "4188       10.25      7.6875          1       2.5    0.0625        0.12   \n",
       "\n",
       "         Blowout    0    1    2  ...  450  451  452  453  454  455  456  457  \\\n",
       "1273   57.000000  0.0  0.0  0.0  ...  0.0  0.0  0.0  0.0  0.0  0.0  0.0  0.0   \n",
       "2573   38.531469  0.0  0.0  0.0  ...  0.0  0.0  0.0  0.0  0.0  0.0  0.0  0.0   \n",
       "51    209.999999  0.0  0.0  0.0  ...  0.0  0.0  0.0  0.0  1.0  0.0  0.0  0.0   \n",
       "712    77.000000  0.0  0.0  0.0  ...  0.0  0.0  0.0  0.0  0.0  0.0  0.0  0.0   \n",
       "1254   57.999999  0.0  0.0  0.0  ...  0.0  0.0  0.0  0.0  0.0  0.0  0.0  0.0   \n",
       "3134   29.000000  0.0  0.0  0.0  ...  0.0  0.0  0.0  0.0  0.0  0.0  0.0  0.0   \n",
       "1183   60.000000  0.0  0.0  0.0  ...  0.0  0.0  0.0  0.0  0.0  0.0  0.0  0.0   \n",
       "2542   40.000000  1.0  0.0  0.0  ...  0.0  0.0  0.0  0.0  0.0  0.0  0.0  0.0   \n",
       "896    68.000000  0.0  0.0  0.0  ...  0.0  0.0  0.0  0.0  0.0  0.0  0.0  0.0   \n",
       "4188    2.903226  0.0  0.0  0.0  ...  0.0  0.0  0.0  0.0  0.0  0.0  0.0  0.0   \n",
       "\n",
       "        y_pred  blowout_pred  \n",
       "1273  0.161317     49.591792  \n",
       "2573  3.726113     38.914549  \n",
       "51    0.053924    259.626195  \n",
       "712   0.002455    407.332185  \n",
       "1254  0.037482     53.359272  \n",
       "3134  0.754140     26.520275  \n",
       "1183  0.111255     53.930185  \n",
       "2542  0.069859     28.628982  \n",
       "896   0.742433     68.693059  \n",
       "4188  0.346543      2.885647  \n",
       "\n",
       "[10 rows x 467 columns]"
      ]
     },
     "execution_count": 42,
     "metadata": {},
     "output_type": "execute_result"
    }
   ],
   "source": [
    "#blowout\n",
    "#np.set_printoptions(formatter={'float_kind':float_formatter})\n",
    "X_test['y_pred'] = y_pred\n",
    "X_test['blowout_pred'] = pd.DataFrame({\"Days\" : X_test.Inventory / X_test['y_pred']})\n",
    "X_test.head(10)\n"
   ]
  },
  {
   "cell_type": "code",
   "execution_count": null,
   "metadata": {},
   "outputs": [],
   "source": []
  }
 ],
 "metadata": {
  "kernelspec": {
   "display_name": "Python 3",
   "language": "python",
   "name": "python3"
  },
  "language_info": {
   "codemirror_mode": {
    "name": "ipython",
    "version": 3
   },
   "file_extension": ".py",
   "mimetype": "text/x-python",
   "name": "python",
   "nbconvert_exporter": "python",
   "pygments_lexer": "ipython3",
   "version": "3.7.4"
  }
 },
 "nbformat": 4,
 "nbformat_minor": 2
}
