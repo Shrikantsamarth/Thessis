{
 "cells": [
  {
   "cell_type": "markdown",
   "metadata": {},
   "source": [
    "# Warehouse Optimization (Model Only)"
   ]
  },
  {
   "cell_type": "markdown",
   "metadata": {},
   "source": [
    "## Initilization"
   ]
  },
  {
   "cell_type": "code",
   "execution_count": 7,
   "metadata": {
    "scrolled": true
   },
   "outputs": [],
   "source": [
    "import pandas as pd\n",
    "import pandas_profiling\n",
    "import numpy as np\n",
    "data = pd.read_csv('ML_datafile.csv')\n",
    "data.reset_index(drop=True, inplace=True)\n",
    "data = data.drop(['Item No', 'Manufacturer No', 'Product Name', 'Date', 'STOCK TYPE', 'In Stock', 'List No',\n",
    "                 'UPC Code', 'SaleRate'], axis=1)"
   ]
  },
  {
   "cell_type": "code",
   "execution_count": 8,
   "metadata": {},
   "outputs": [],
   "source": [
    "# limit to categorical data using df.select_dtypes()\n",
    "#nominal_data = data.drop(['Price(USD)', 'Cost price', 'Inventory', 'Shipping', 'Profit', 'weight(lb)', 'SaleRateNew'], axis=1)\n",
    "#ordinal_data = data.drop(nominal_data.columns)\n",
    "nominal_data = data.select_dtypes(include=[object])\n",
    "ordinal_data = data.drop(list(nominal_data.columns), axis=1)\n",
    "nominal_data = nominal_data.replace(np.nan, 'Default', regex=True)"
   ]
  },
  {
   "cell_type": "markdown",
   "metadata": {},
   "source": [
    "## One-Hot Encoding"
   ]
  },
  {
   "cell_type": "code",
   "execution_count": 9,
   "metadata": {},
   "outputs": [
    {
     "name": "stdout",
     "output_type": "stream",
     "text": [
      "(4200, 458)\n"
     ]
    }
   ],
   "source": [
    "from sklearn import preprocessing\n",
    "nominal_data_2 = nominal_data\n",
    "# 1. INSTANTIATE\n",
    "enc = preprocessing.OneHotEncoder()\n",
    "# 2. FIT\n",
    "enc.fit(nominal_data_2)\n",
    "# 3. Transform\n",
    "onehotlabels = enc.transform(nominal_data_2).toarray()\n",
    "print(onehotlabels.shape)"
   ]
  },
  {
   "cell_type": "code",
   "execution_count": 10,
   "metadata": {
    "scrolled": true
   },
   "outputs": [],
   "source": [
    "encoded_data = pd.concat([ordinal_data, pd.DataFrame(onehotlabels)], axis=1)"
   ]
  },
  {
   "cell_type": "markdown",
   "metadata": {},
   "source": [
    "## Data Split"
   ]
  },
  {
   "cell_type": "code",
   "execution_count": 11,
   "metadata": {},
   "outputs": [],
   "source": [
    "X = encoded_data.drop('SaleRateNew', axis=1)\n",
    "Y = encoded_data['SaleRateNew']"
   ]
  },
  {
   "cell_type": "markdown",
   "metadata": {},
   "source": [
    "## Tunning"
   ]
  },
  {
   "cell_type": "code",
   "execution_count": 12,
   "metadata": {},
   "outputs": [],
   "source": [
    "import pandas as pd\n",
    "import numpy as np\n",
    "from sklearn import metrics\n",
    "from sklearn import linear_model\n",
    "from sklearn.pipeline import Pipeline\n",
    "from sklearn.preprocessing import PolynomialFeatures\n",
    "from sklearn.model_selection import GridSearchCV, train_test_split\n",
    "from sklearn.ensemble import AdaBoostRegressor\n",
    "from sklearn.svm import LinearSVR\n",
    "from sklearn.linear_model import Perceptron"
   ]
  },
  {
   "cell_type": "code",
   "execution_count": 30,
   "metadata": {},
   "outputs": [],
   "source": [
    "def test(models, X, Y, iterations = 10):\n",
    "    results = {}\n",
    "    for i in models:\n",
    "        print(\"\\nRunning \", i)\n",
    "        r2_train = []\n",
    "        r2_test = []\n",
    "        for j in range(iterations):\n",
    "            print(j, end='')\n",
    "            X_train, X_test, y_train, y_test = train_test_split(X, \n",
    "                                                                Y, \n",
    "                                                                test_size= 0.2)\n",
    "            r2_test.append(metrics.r2_score(y_test,\n",
    "                                            models[i].fit(X_train, \n",
    "                                                         y_train).predict(X_test)))\n",
    "            r2_train.append(metrics.r2_score(y_train, \n",
    "                                             models[i].fit(X_train, \n",
    "                                                          y_train).predict(X_train)))\n",
    "        results[i] = [np.mean(r2_train), np.mean(r2_test)]\n",
    "    return pd.DataFrame(results)"
   ]
  },
  {
   "cell_type": "code",
   "execution_count": 31,
   "metadata": {},
   "outputs": [],
   "source": [
    "models = {'OLS': linear_model.LinearRegression(),\n",
    "         'Lasso': linear_model.Lasso(),\n",
    "         'Ridge': linear_model.Ridge(),\n",
    "         'Ada': AdaBoostRegressor()}"
   ]
  },
  {
   "cell_type": "code",
   "execution_count": 32,
   "metadata": {
    "scrolled": true
   },
   "outputs": [
    {
     "name": "stdout",
     "output_type": "stream",
     "text": [
      "\n",
      "Running  OLS\n",
      "0123456789\n",
      "Running  Lasso\n",
      "0123456789\n",
      "Running  Ridge\n",
      "0123456789\n",
      "Running  Ada\n",
      "0123456789Wall time: 33.4 s\n"
     ]
    },
    {
     "data": {
      "text/html": [
       "<div>\n",
       "<style scoped>\n",
       "    .dataframe tbody tr th:only-of-type {\n",
       "        vertical-align: middle;\n",
       "    }\n",
       "\n",
       "    .dataframe tbody tr th {\n",
       "        vertical-align: top;\n",
       "    }\n",
       "\n",
       "    .dataframe thead th {\n",
       "        text-align: right;\n",
       "    }\n",
       "</style>\n",
       "<table border=\"1\" class=\"dataframe\">\n",
       "  <thead>\n",
       "    <tr style=\"text-align: right;\">\n",
       "      <th></th>\n",
       "      <th>OLS</th>\n",
       "      <th>Lasso</th>\n",
       "      <th>Ridge</th>\n",
       "      <th>Ada</th>\n",
       "    </tr>\n",
       "  </thead>\n",
       "  <tbody>\n",
       "    <tr>\n",
       "      <td>0</td>\n",
       "      <td>0.720761</td>\n",
       "      <td>0.656874</td>\n",
       "      <td>0.719380</td>\n",
       "      <td>0.860119</td>\n",
       "    </tr>\n",
       "    <tr>\n",
       "      <td>1</td>\n",
       "      <td>0.650485</td>\n",
       "      <td>0.667651</td>\n",
       "      <td>0.659741</td>\n",
       "      <td>0.830207</td>\n",
       "    </tr>\n",
       "  </tbody>\n",
       "</table>\n",
       "</div>"
      ],
      "text/plain": [
       "        OLS     Lasso     Ridge       Ada\n",
       "0  0.720761  0.656874  0.719380  0.860119\n",
       "1  0.650485  0.667651  0.659741  0.830207"
      ]
     },
     "execution_count": 32,
     "metadata": {},
     "output_type": "execute_result"
    }
   ],
   "source": [
    "%time test(models, X, Y)"
   ]
  },
  {
   "cell_type": "code",
   "execution_count": null,
   "metadata": {},
   "outputs": [],
   "source": [
    "lasso_params = {'alpha':[0.02, 0.024, 0.025, 0.026, 0.03]}\n",
    "ridge_params = {'alpha':[200, 230, 250,265, 270, 275, 290, 300, 500]}\n",
    "\n",
    "models2 = {'OLS': linear_model.LinearRegression(),\n",
    "           'Lasso': GridSearchCV(linear_model.Lasso(), \n",
    "                               param_grid=lasso_params).fit(X, Y).best_estimator_,\n",
    "           'Ridge': GridSearchCV(linear_model.Ridge(), \n",
    "                               param_grid=ridge_params).fit(X, Y).best_estimator_,\n",
    "          }"
   ]
  },
  {
   "cell_type": "code",
   "execution_count": null,
   "metadata": {},
   "outputs": [],
   "source": [
    "%time test(models2, X, Y)"
   ]
  },
  {
   "cell_type": "code",
   "execution_count": 13,
   "metadata": {},
   "outputs": [],
   "source": [
    "lasso_params = {'fit__alpha':[0.005, 0.02, 0.03, 0.05, 0.06]}\n",
    "ridge_params = {'fit__alpha':[550, 580, 600, 620, 650]}\n",
    "\n",
    "pipe1 = Pipeline([('poly', PolynomialFeatures()),\n",
    "                 ('fit', linear_model.LinearRegression())])\n",
    "pipe2 = Pipeline([('poly', PolynomialFeatures()),\n",
    "                 ('fit', linear_model.Lasso())])\n",
    "pipe3 = Pipeline([('poly', PolynomialFeatures()),\n",
    "                 ('fit', linear_model.Ridge())])\n",
    "\n",
    "models3 = {'OLS': pipe1}"
   ]
  },
  {
   "cell_type": "code",
   "execution_count": null,
   "metadata": {},
   "outputs": [
    {
     "name": "stdout",
     "output_type": "stream",
     "text": [
      "Running  OLS\n"
     ]
    }
   ],
   "source": [
    "%time test(models3, X, Y)"
   ]
  },
  {
   "cell_type": "code",
   "execution_count": null,
   "metadata": {},
   "outputs": [],
   "source": []
  }
 ],
 "metadata": {
  "kernelspec": {
   "display_name": "Python 3",
   "language": "python",
   "name": "python3"
  },
  "language_info": {
   "codemirror_mode": {
    "name": "ipython",
    "version": 3
   },
   "file_extension": ".py",
   "mimetype": "text/x-python",
   "name": "python",
   "nbconvert_exporter": "python",
   "pygments_lexer": "ipython3",
   "version": "3.7.4"
  }
 },
 "nbformat": 4,
 "nbformat_minor": 2
}
